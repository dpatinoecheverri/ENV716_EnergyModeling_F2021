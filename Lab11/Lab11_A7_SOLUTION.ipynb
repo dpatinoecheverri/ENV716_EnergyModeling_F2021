{
  "nbformat": 4,
  "nbformat_minor": 0,
  "metadata": {
    "kernelspec": {
      "display_name": "Python 3",
      "language": "python",
      "name": "python3"
    },
    "language_info": {
      "codemirror_mode": {
        "name": "ipython",
        "version": 3
      },
      "file_extension": ".py",
      "mimetype": "text/x-python",
      "name": "python",
      "nbconvert_exporter": "python",
      "pygments_lexer": "ipython3",
      "version": "3.7.4"
    },
    "colab": {
      "name": "Lab11_A7_SOLUTION.ipynb",
      "provenance": [],
      "collapsed_sections": [
        "RRVCA3_S17L0",
        "_SwHFQAjPApD",
        "MAQkdQVuTQD8",
        "cPHsfvwoDPrP",
        "cw2hTgS2P1Uz"
      ],
      "toc_visible": true,
      "include_colab_link": true
    }
  },
  "cells": [
    {
      "cell_type": "markdown",
      "metadata": {
        "id": "view-in-github",
        "colab_type": "text"
      },
      "source": [
        "<a href=\"https://colab.research.google.com/github/lmmlima/ENV716_EnergyModeling_F2021/blob/main/Lab11/Lab11_A7_SOLUTION.ipynb\" target=\"_parent\"><img src=\"https://colab.research.google.com/assets/colab-badge.svg\" alt=\"Open In Colab\"/></a>"
      ]
    },
    {
      "cell_type": "markdown",
      "metadata": {
        "id": "P0sInrLWNjGn"
      },
      "source": [
        "# **Lab 11 - A7 Solution**\n"
      ]
    },
    {
      "cell_type": "markdown",
      "metadata": {
        "id": "9Mc0pKi9UtBk"
      },
      "source": [
        "Learning goals for Lab11:\n",
        "* More on abstract models;\n",
        "* Solve A7."
      ]
    },
    {
      "cell_type": "markdown",
      "metadata": {
        "id": "RRVCA3_S17L0"
      },
      "source": [
        "## Initializing "
      ]
    },
    {
      "cell_type": "code",
      "metadata": {
        "colab": {
          "base_uri": "https://localhost:8080/"
        },
        "id": "p9RjfZs31rSC",
        "outputId": "9249526d-3c5b-4b01-a9f1-ca96a6f8a19d"
      },
      "source": [
        "from google.colab import drive\n",
        "drive.mount('/content/drive')"
      ],
      "execution_count": null,
      "outputs": [
        {
          "output_type": "stream",
          "name": "stdout",
          "text": [
            "Mounted at /content/drive\n"
          ]
        }
      ]
    },
    {
      "cell_type": "code",
      "metadata": {
        "id": "zz6H46Ap1vhR"
      },
      "source": [
        "import os\n",
        "os.chdir('/content/drive/MyDrive/Colab Notebooks/')"
      ],
      "execution_count": null,
      "outputs": []
    },
    {
      "cell_type": "markdown",
      "metadata": {
        "id": "iCRbHUT8110g"
      },
      "source": [
        "Installing Pyomo and solver. Recall for teh shortest path example we have binary variables so we will need to use another solver. Instead of installing glpk, thsi time we will install COIN-OR CBC. \\\\ \n",
        "COIN-OR CBC is a multi-threaded open-source Coin-or branch and cut **mixed-integer linear programming solver**. CBC is generally a good choice for a general purpose MILP solver for medium to large scale problems."
      ]
    },
    {
      "cell_type": "code",
      "metadata": {
        "id": "jAqq5CgB2CdL",
        "colab": {
          "base_uri": "https://localhost:8080/"
        },
        "outputId": "447a7ef8-256e-4459-e097-5cd45b003bcd"
      },
      "source": [
        "!pip install pyomo\n",
        "#!apt-get install -y -qq glpk-utils\n",
        "!apt-get install -y -qq coinor-cbc"
      ],
      "execution_count": null,
      "outputs": [
        {
          "output_type": "stream",
          "name": "stdout",
          "text": [
            "Collecting pyomo\n",
            "  Downloading Pyomo-6.1.2-cp37-cp37m-manylinux_2_5_x86_64.manylinux1_x86_64.manylinux_2_12_x86_64.manylinux2010_x86_64.whl (9.1 MB)\n",
            "\u001b[K     |████████████████████████████████| 9.1 MB 4.9 MB/s \n",
            "\u001b[?25hCollecting ply\n",
            "  Downloading ply-3.11-py2.py3-none-any.whl (49 kB)\n",
            "\u001b[K     |████████████████████████████████| 49 kB 6.3 MB/s \n",
            "\u001b[?25hInstalling collected packages: ply, pyomo\n",
            "Successfully installed ply-3.11 pyomo-6.1.2\n",
            "Selecting previously unselected package coinor-libcoinutils3v5.\n",
            "(Reading database ... 155219 files and directories currently installed.)\n",
            "Preparing to unpack .../0-coinor-libcoinutils3v5_2.10.14+repack1-1_amd64.deb ...\n",
            "Unpacking coinor-libcoinutils3v5 (2.10.14+repack1-1) ...\n",
            "Selecting previously unselected package coinor-libosi1v5.\n",
            "Preparing to unpack .../1-coinor-libosi1v5_0.107.9+repack1-1_amd64.deb ...\n",
            "Unpacking coinor-libosi1v5 (0.107.9+repack1-1) ...\n",
            "Selecting previously unselected package coinor-libclp1.\n",
            "Preparing to unpack .../2-coinor-libclp1_1.16.11+repack1-1_amd64.deb ...\n",
            "Unpacking coinor-libclp1 (1.16.11+repack1-1) ...\n",
            "Selecting previously unselected package coinor-libcgl1.\n",
            "Preparing to unpack .../3-coinor-libcgl1_0.59.10+repack1-1_amd64.deb ...\n",
            "Unpacking coinor-libcgl1 (0.59.10+repack1-1) ...\n",
            "Selecting previously unselected package coinor-libcbc3.\n",
            "Preparing to unpack .../4-coinor-libcbc3_2.9.9+repack1-1_amd64.deb ...\n",
            "Unpacking coinor-libcbc3 (2.9.9+repack1-1) ...\n",
            "Selecting previously unselected package coinor-cbc.\n",
            "Preparing to unpack .../5-coinor-cbc_2.9.9+repack1-1_amd64.deb ...\n",
            "Unpacking coinor-cbc (2.9.9+repack1-1) ...\n",
            "Setting up coinor-libcoinutils3v5 (2.10.14+repack1-1) ...\n",
            "Setting up coinor-libosi1v5 (0.107.9+repack1-1) ...\n",
            "Setting up coinor-libclp1 (1.16.11+repack1-1) ...\n",
            "Setting up coinor-libcgl1 (0.59.10+repack1-1) ...\n",
            "Setting up coinor-libcbc3 (2.9.9+repack1-1) ...\n",
            "Setting up coinor-cbc (2.9.9+repack1-1) ...\n",
            "Processing triggers for man-db (2.8.3-2ubuntu0.1) ...\n",
            "Processing triggers for libc-bin (2.27-3ubuntu1.3) ...\n",
            "/sbin/ldconfig.real: /usr/local/lib/python3.7/dist-packages/ideep4py/lib/libmkldnn.so.0 is not a symbolic link\n",
            "\n"
          ]
        }
      ]
    },
    {
      "cell_type": "markdown",
      "metadata": {
        "id": "uDsRodub2IFw"
      },
      "source": [
        "Importing pyomo and cbc solver."
      ]
    },
    {
      "cell_type": "code",
      "metadata": {
        "id": "hFRChwsqdvDB"
      },
      "source": [
        "from pyomo.environ import *\n",
        "#Import solver\n",
        "opt=SolverFactory('cbc',executable='/usr/bin/cbc')"
      ],
      "execution_count": null,
      "outputs": []
    },
    {
      "cell_type": "markdown",
      "metadata": {
        "id": "_SwHFQAjPApD"
      },
      "source": [
        "## Q1: Maximum Flow Model - Natural Gas company"
      ]
    },
    {
      "cell_type": "markdown",
      "metadata": {
        "id": "4Yz0n3RosfLR"
      },
      "source": [
        "Let's start by writing the max flow problem."
      ]
    },
    {
      "cell_type": "markdown",
      "metadata": {
        "id": "zch1FBVBsXTh"
      },
      "source": [
        "**Sets** \\\\\n",
        "$N$: set of nodes \\\\\n",
        "$K$: set of nodes without source and sink nodes \\\\\n",
        "$A$: set of arcs $(ij)$ \\\\\n",
        "\n",
        "**Parameters** \\\\\n",
        "$u_{ij}$: flow capacity for arc $(ij)$\n",
        "\n",
        "**Decision Variable** \\\\\n",
        "$x_{ij}$: how much flow on arc $(ij)$ - any value from 0 to $u_{ij}$\n",
        "\n",
        "**Model** \\\\\n",
        "$ min \\ \\sum_{j \\in N} x_{1j}$ \\\\\n",
        "$ s.t.$\n",
        "$ \\ \\sum_{j \\in N} x_{ij} = \\sum_{j \\in N} x_{ji} \\quad \\forall i \\in K $ \\\\\n",
        "$ \\quad \\quad \\sum_{j \\in N} x_{1j} = \\sum_{j \\in N} x_{j10} $ \\\\\n",
        "$ \\quad \\quad x_{ij} \\leq u_{ij} \\quad \\forall (ij) \\in A $ \\\\\n",
        "$ \\quad \\quad x_{ij} \\geq 0 \\quad \\forall (ij) \\in A $\n"
      ]
    },
    {
      "cell_type": "code",
      "metadata": {
        "colab": {
          "base_uri": "https://localhost:8080/"
        },
        "id": "K1ZHhyviF62r",
        "outputId": "f5680f47-9eb4-406a-def5-4304ef8167b6"
      },
      "source": [
        "model=ConcreteModel()\n",
        "\n",
        "model.Nodes=Set(initialize=range(1,11))  \n",
        "model.NodesK=Set(within=model.Nodes,initialize=range(2,10))\n",
        "\n",
        "model.first=1\n",
        "model.last=10\n",
        "\n",
        "model.Arcs=Set(within=model.Nodes*model.Nodes, \n",
        "                initialize=[(1,2),(1,3),(1,4),(2,5),(5,2),\n",
        "                            (3,4),(3,5),(3,6),(5,3),(6,3),\n",
        "                            (4,6),(4,10),(6,4),(5,7),(5,9),(9,5),\n",
        "                            (6,7),(6,8),(6,10),(7,6),(8,6),\n",
        "                            (7,8),(7,9),(8,7),(9,7),(8,9),(8,10),(9,8),(9,10)])\n",
        "\n",
        "model.FlowCap=Param(model.Arcs,\n",
        "                     initialize={(1,2):5,(1,3):12,(1,4):8,(2,5):6,(5,2):3,\n",
        "                            (3,4):2,(3,5):4,(3,6):5,(5,3):3,(6,3):4,\n",
        "                            (4,6):9,(4,10):2,(6,4):5,(5,7):6,(5,9):5,(9,5):2,\n",
        "                            (6,7):3,(6,8):6,(6,10):8,(7,6):4,(8,6):3,\n",
        "                            (7,8):5,(7,9):7,(8,7):2,(9,7):3,(8,9):5,(8,10):7,(9,8):1,(9,10):4})\n",
        "\n",
        "#Add dec variables\n",
        "model.x=Var(model.Arcs,domain=NonNegativeReals)\n",
        "\n",
        "#Adding objective function\n",
        "def max_flow(model2):\n",
        "    return sum(model.x[i,j] for (i,j) in model2.Arcs if i == model.first)\n",
        "model.maxflow=Objective(rule=max_flow, sense=maximize)\n",
        "\n",
        "print(model.maxflow.expr)\n"
      ],
      "execution_count": null,
      "outputs": [
        {
          "output_type": "stream",
          "name": "stdout",
          "text": [
            "x[1,2] + x[1,3] + x[1,4]\n"
          ]
        }
      ]
    },
    {
      "cell_type": "code",
      "metadata": {
        "colab": {
          "base_uri": "https://localhost:8080/"
        },
        "id": "tmvU9cJPHzBA",
        "outputId": "5fe762bc-e77a-41ed-dd60-c3cfa1389942"
      },
      "source": [
        "#Adding constraints\n",
        "def flow_bal(model, n):\n",
        "    inFlow  = sum(model.x[i,j] for (i,j) in model.Arcs if j == n)\n",
        "    outFlow = sum(model.x[j,i] for (j,i) in model.Arcs if j == n)\n",
        "    return inFlow == outFlow\n",
        "model.flowbalance = Constraint(model.NodesK, rule=flow_bal)\n",
        "\n",
        "for n in model.NodesK:\n",
        "  print(model.flowbalance[n].expr)\n",
        "\n",
        "def orig_dest(model):\n",
        "    orig  = sum(model.x[i,j] for (i,j) in model.Arcs if i == model.first)\n",
        "    dest = sum(model.x[i,j] for (i,j) in model.Arcs if j == model.last)\n",
        "    return orig == dest\n",
        "model.origdest = Constraint(rule=orig_dest)\n",
        "\n",
        "print(model.origdest.expr)\n",
        "\n",
        "def flow_cap(model,i,j):\n",
        "    return model.x[i,j] <= model.FlowCap[i,j]\n",
        "model.flowcap = Constraint(model.Arcs,rule=flow_cap)\n",
        "\n",
        "for (i,j) in model.Arcs:\n",
        "  print(model.flowcap[i,j].expr)"
      ],
      "execution_count": null,
      "outputs": [
        {
          "output_type": "stream",
          "name": "stdout",
          "text": [
            "x[1,2] + x[5,2]  ==  x[2,5]\n",
            "x[1,3] + x[5,3] + x[6,3]  ==  x[3,4] + x[3,5] + x[3,6]\n",
            "x[1,4] + x[3,4] + x[6,4]  ==  x[4,6] + x[4,10]\n",
            "x[2,5] + x[3,5] + x[9,5]  ==  x[5,2] + x[5,3] + x[5,7] + x[5,9]\n",
            "x[3,6] + x[4,6] + x[7,6] + x[8,6]  ==  x[6,3] + x[6,4] + x[6,7] + x[6,8] + x[6,10]\n",
            "x[5,7] + x[6,7] + x[8,7] + x[9,7]  ==  x[7,6] + x[7,8] + x[7,9]\n",
            "x[6,8] + x[7,8] + x[9,8]  ==  x[8,6] + x[8,7] + x[8,9] + x[8,10]\n",
            "x[5,9] + x[7,9] + x[8,9]  ==  x[9,5] + x[9,7] + x[9,8] + x[9,10]\n",
            "x[1,2] + x[1,3] + x[1,4]  ==  x[4,10] + x[6,10] + x[8,10] + x[9,10]\n",
            "x[1,2]  <=  5\n",
            "x[1,3]  <=  12\n",
            "x[1,4]  <=  8\n",
            "x[2,5]  <=  6\n",
            "x[5,2]  <=  3\n",
            "x[3,4]  <=  2\n",
            "x[3,5]  <=  4\n",
            "x[3,6]  <=  5\n",
            "x[5,3]  <=  3\n",
            "x[6,3]  <=  4\n",
            "x[4,6]  <=  9\n",
            "x[4,10]  <=  2\n",
            "x[6,4]  <=  5\n",
            "x[5,7]  <=  6\n",
            "x[5,9]  <=  5\n",
            "x[9,5]  <=  2\n",
            "x[6,7]  <=  3\n",
            "x[6,8]  <=  6\n",
            "x[6,10]  <=  8\n",
            "x[7,6]  <=  4\n",
            "x[8,6]  <=  3\n",
            "x[7,8]  <=  5\n",
            "x[7,9]  <=  7\n",
            "x[8,7]  <=  2\n",
            "x[9,7]  <=  3\n",
            "x[8,9]  <=  5\n",
            "x[8,10]  <=  7\n",
            "x[9,8]  <=  1\n",
            "x[9,10]  <=  4\n"
          ]
        }
      ]
    },
    {
      "cell_type": "code",
      "metadata": {
        "colab": {
          "base_uri": "https://localhost:8080/"
        },
        "id": "8mEiqB_dybba",
        "outputId": "a10d4837-d950-4421-a05d-3531a9873a96"
      },
      "source": [
        "opt.solve(model)\n",
        "\n",
        "#Print results\n",
        "print(\"Max Flow from 1 to 10 =\",model.maxflow())\n",
        "print(\"Decision Variables\")\n",
        "for a in model.Arcs:\n",
        "    print(model.x[a],model.x[a].value)"
      ],
      "execution_count": null,
      "outputs": [
        {
          "output_type": "stream",
          "name": "stdout",
          "text": [
            "Max Flow from 1 to 10 = 21.0\n",
            "Decision Variables\n",
            "x[1,2] 4.0\n",
            "x[1,3] 9.0\n",
            "x[1,4] 8.0\n",
            "x[2,5] 4.0\n",
            "x[5,2] 0.0\n",
            "x[3,4] 0.0\n",
            "x[3,5] 4.0\n",
            "x[3,6] 5.0\n",
            "x[5,3] 0.0\n",
            "x[6,3] 0.0\n",
            "x[4,6] 6.0\n",
            "x[4,10] 2.0\n",
            "x[6,4] 0.0\n",
            "x[5,7] 4.0\n",
            "x[5,9] 4.0\n",
            "x[9,5] 0.0\n",
            "x[6,7] 0.0\n",
            "x[6,8] 3.0\n",
            "x[6,10] 8.0\n",
            "x[7,6] 0.0\n",
            "x[8,6] 0.0\n",
            "x[7,8] 4.0\n",
            "x[7,9] 0.0\n",
            "x[8,7] 0.0\n",
            "x[9,7] 0.0\n",
            "x[8,9] 0.0\n",
            "x[8,10] 7.0\n",
            "x[9,8] 0.0\n",
            "x[9,10] 4.0\n"
          ]
        }
      ]
    },
    {
      "cell_type": "markdown",
      "metadata": {
        "id": "QBFW8r_W968g"
      },
      "source": [
        "### Exercise: Implement the max flow as an abstract model"
      ]
    },
    {
      "cell_type": "markdown",
      "metadata": {
        "id": "cw2hTgS2P1Uz"
      },
      "source": [
        "## Q2: Shortest Path - min cost"
      ]
    },
    {
      "cell_type": "markdown",
      "metadata": {
        "id": "EXQjK4XTHken"
      },
      "source": [
        "### Part a: Formulate the problem"
      ]
    },
    {
      "cell_type": "markdown",
      "metadata": {
        "id": "2GtK5f6MstMg"
      },
      "source": [
        "**Sets** \\\\\n",
        "$N$: set of nodes \\\\\n",
        "$K$: set of nodes without source and sink \\\\\n",
        "$A$: set of arcs $(ij)$ \\\\\n",
        "\n",
        "**Parameters** \\\\\n",
        "$c_{ij}$: cost for using arc $ij$\n",
        "\n",
        "**Decision Variable** \\\\\n",
        "$x_{ij}$: 1 if arc $(ij)$ is being used, 0 o.w. - binary\n",
        "\n",
        "**Model** \\\\\n",
        "$ min \\ \\sum_{(ij) \\in A} c_{ij}*x_{ij}$ \\\\\n",
        "$ s.t.$\n",
        "$ \\ \\sum_{j \\in N} x_{ij} = \\sum_{j \\in N} x_{ji} \\quad \\forall i \\in K $ \\\\\n",
        "$ \\quad \\quad \\sum_{j \\in N} x_{1j} = 1 $ \\\\\n",
        "$ \\quad \\quad \\sum_{i \\in N} x_{i10} = 1 $ \\\\\n",
        "$ \\quad \\quad x_{ij} \\in \\{0,1\\} \\quad \\forall (ij) \\in A $\n"
      ]
    },
    {
      "cell_type": "code",
      "metadata": {
        "colab": {
          "base_uri": "https://localhost:8080/"
        },
        "id": "EfGbm3Zm0ps5",
        "outputId": "ec753c7a-99b4-46ea-8af5-599a220f2bb9"
      },
      "source": [
        "model2=ConcreteModel()\n",
        "\n",
        "model2.Nodes=Set(initialize=range(1,11))  \n",
        "model2.first=1\n",
        "model2.last=10\n",
        "\n",
        "model2.Arcs=Set(within=model2.Nodes*model2.Nodes, \n",
        "                initialize=[(1,2),(1,6),(1,7),(1,8),\n",
        "                            (2,1),(6,1),(7,1),(8,1),\n",
        "                            (2,4),(2,5),(2,7),(2,8),\n",
        "                            (4,2),(5,2),(7,2),(8,2),\n",
        "                            (3,6),(3,9),(3,10),\n",
        "                            (6,3),(9,3),(10,3),\n",
        "                            (4,5),(4,9),\n",
        "                            (5,4),(9,4),\n",
        "                            (5,7),\n",
        "                            (7,5),\n",
        "                            (6,8),(6,9),(6,10),\n",
        "                            (8,6),(9,6),(10,6),\n",
        "                            (8,9),\n",
        "                            (9,8)])\n",
        "\n",
        "model2.Arcs.pprint()\n",
        "\n",
        "#Add parameter\n",
        "model2.cost=Param(model2.Arcs,\n",
        "                  initialize={(1,2):9,(1,6):5,(1,7):17,(1,8):15,\n",
        "                              (2,1):9,(6,1):5,(7,1):17,(8,1):15,\n",
        "                              (2,4):4,(2,5):14,(2,7):7,(2,8):6,\n",
        "                              (4,2):4,(5,2):14,(7,2):7,(8,2):6,\n",
        "                              (3,6):7,(3,9):2,(3,10):10,\n",
        "                              (6,3):7,(9,3):2,(10,3):10,\n",
        "                              (4,5):8,(4,9):11,\n",
        "                              (5,4):8,(9,4):11,\n",
        "                              (5,7):4,\n",
        "                              (7,5):4,\n",
        "                              (6,8):8,(6,9):12,(6,10):4,\n",
        "                              (8,6):8,(9,6):12,(10,6):4,\n",
        "                              (8,9):3,\n",
        "                              (9,8):3})\n",
        "\n",
        "#Add dec variables\n",
        "#arc being used or not - decision variable xij\n",
        "model2.x=Var(model2.Arcs,domain=Boolean)\n",
        "\n",
        "#Adding objective function\n",
        "def min_path(model2):\n",
        "    return sum(model2.cost[a]*model2.x[a] for a in model2.Arcs)\n",
        "model2.shortest=Objective(rule=min_path, sense=minimize)\n",
        "\n",
        "print(\"\\nObjective Function\")\n",
        "print(model2.shortest.expr)\n",
        "\n",
        "#Adding constraints\n",
        "def flow_rule(model2, n):\n",
        "    if(n == model.first): #origin constraint\n",
        "        return sum(model2.x[i,j] for (i,j) in model2.Arcs if i==n) == 1\n",
        "    elif(n == model.last):  #destination constraint\n",
        "        return sum(model2.x[i,j] for (i,j) in model2.Arcs if j==n) == 1\n",
        "    else: #transhipment constraint\n",
        "        inFlow  = sum(model2.x[i,j] for (i,j) in model2.Arcs if j == n)\n",
        "        outFlow = sum(model2.x[j,i] for (j,i) in model2.Arcs if j == n)\n",
        "        return inFlow == outFlow\n",
        "model2.flow = Constraint(model2.Nodes, rule=flow_rule)\n",
        "\n",
        "print(\"Constraints\")\n",
        "for n in model2.Nodes:\n",
        "  print(model2.flow[n].expr)"
      ],
      "execution_count": null,
      "outputs": [
        {
          "output_type": "stream",
          "name": "stdout",
          "text": [
            "Arcs : Size=1, Index=None, Ordered=Insertion\n",
            "    Key  : Dimen : Domain      : Size : Members\n",
            "    None :     2 : Arcs_domain :   36 : {(1, 2), (1, 6), (1, 7), (1, 8), (2, 1), (6, 1), (7, 1), (8, 1), (2, 4), (2, 5), (2, 7), (2, 8), (4, 2), (5, 2), (7, 2), (8, 2), (3, 6), (3, 9), (3, 10), (6, 3), (9, 3), (10, 3), (4, 5), (4, 9), (5, 4), (9, 4), (5, 7), (7, 5), (6, 8), (6, 9), (6, 10), (8, 6), (9, 6), (10, 6), (8, 9), (9, 8)}\n",
            "\n",
            "Objective Function\n",
            "9*x[1,2] + 5*x[1,6] + 17*x[1,7] + 15*x[1,8] + 9*x[2,1] + 5*x[6,1] + 17*x[7,1] + 15*x[8,1] + 4*x[2,4] + 14*x[2,5] + 7*x[2,7] + 6*x[2,8] + 4*x[4,2] + 14*x[5,2] + 7*x[7,2] + 6*x[8,2] + 7*x[3,6] + 2*x[3,9] + 10*x[3,10] + 7*x[6,3] + 2*x[9,3] + 10*x[10,3] + 8*x[4,5] + 11*x[4,9] + 8*x[5,4] + 11*x[9,4] + 4*x[5,7] + 4*x[7,5] + 8*x[6,8] + 12*x[6,9] + 4*x[6,10] + 8*x[8,6] + 12*x[9,6] + 4*x[10,6] + 3*x[8,9] + 3*x[9,8]\n",
            "Constraints\n",
            "x[1,2] + x[1,6] + x[1,7] + x[1,8]  ==  1\n",
            "x[1,2] + x[4,2] + x[5,2] + x[7,2] + x[8,2]  ==  x[2,1] + x[2,4] + x[2,5] + x[2,7] + x[2,8]\n",
            "x[6,3] + x[9,3] + x[10,3]  ==  x[3,6] + x[3,9] + x[3,10]\n",
            "x[2,4] + x[5,4] + x[9,4]  ==  x[4,2] + x[4,5] + x[4,9]\n",
            "x[2,5] + x[4,5] + x[7,5]  ==  x[5,2] + x[5,4] + x[5,7]\n",
            "x[1,6] + x[3,6] + x[8,6] + x[9,6] + x[10,6]  ==  x[6,1] + x[6,3] + x[6,8] + x[6,9] + x[6,10]\n",
            "x[1,7] + x[2,7] + x[5,7]  ==  x[7,1] + x[7,2] + x[7,5]\n",
            "x[1,8] + x[2,8] + x[6,8] + x[9,8]  ==  x[8,1] + x[8,2] + x[8,6] + x[8,9]\n",
            "x[3,9] + x[4,9] + x[6,9] + x[8,9]  ==  x[9,3] + x[9,4] + x[9,6] + x[9,8]\n",
            "x[3,10] + x[6,10]  ==  1\n"
          ]
        }
      ]
    },
    {
      "cell_type": "markdown",
      "metadata": {
        "id": "UI2R21K6HdXF"
      },
      "source": [
        "### Part b: Solve the model"
      ]
    },
    {
      "cell_type": "code",
      "metadata": {
        "colab": {
          "base_uri": "https://localhost:8080/"
        },
        "id": "9l82YRSO337b",
        "outputId": "7e3f40d3-529a-4b1c-c09c-9d1263a0e893"
      },
      "source": [
        "opt.solve(model2)\n",
        "\n",
        "#Print results\n",
        "print(\"Lowest cost from 1 to 10 =\",model2.shortest())\n",
        "print(\"Decision Variables\")\n",
        "for a in model2.Arcs:\n",
        "    print(model2.x[a],model2.x[a].value)"
      ],
      "execution_count": null,
      "outputs": [
        {
          "output_type": "stream",
          "name": "stdout",
          "text": [
            "Lowest cost from 1 to 10 = 9.0\n",
            "Decision Variables\n",
            "x[1,2] 0.0\n",
            "x[1,6] 1.0\n",
            "x[1,7] 0.0\n",
            "x[1,8] 0.0\n",
            "x[2,1] 0.0\n",
            "x[6,1] 0.0\n",
            "x[7,1] 0.0\n",
            "x[8,1] 0.0\n",
            "x[2,4] 0.0\n",
            "x[2,5] 0.0\n",
            "x[2,7] 0.0\n",
            "x[2,8] 0.0\n",
            "x[4,2] 0.0\n",
            "x[5,2] 0.0\n",
            "x[7,2] 0.0\n",
            "x[8,2] 0.0\n",
            "x[3,6] 0.0\n",
            "x[3,9] 0.0\n",
            "x[3,10] 0.0\n",
            "x[6,3] 0.0\n",
            "x[9,3] 0.0\n",
            "x[10,3] 0.0\n",
            "x[4,5] 0.0\n",
            "x[4,9] 0.0\n",
            "x[5,4] 0.0\n",
            "x[9,4] 0.0\n",
            "x[5,7] 0.0\n",
            "x[7,5] 0.0\n",
            "x[6,8] 0.0\n",
            "x[6,9] 0.0\n",
            "x[6,10] 1.0\n",
            "x[8,6] 0.0\n",
            "x[9,6] 0.0\n",
            "x[10,6] 0.0\n",
            "x[8,9] 0.0\n",
            "x[9,8] 0.0\n"
          ]
        }
      ]
    },
    {
      "cell_type": "markdown",
      "metadata": {
        "id": "W5HdaTDA4NmW"
      },
      "source": [
        "### Part c: Find the lowest cost from 3 to all 9 remaining nodes."
      ]
    },
    {
      "cell_type": "markdown",
      "metadata": {
        "id": "Qbon9leDuy9P"
      },
      "source": [
        "This is one approach. There are other possible ways to do it!"
      ]
    },
    {
      "cell_type": "code",
      "metadata": {
        "colab": {
          "base_uri": "https://localhost:8080/"
        },
        "id": "etS1auWSCMFV",
        "outputId": "ca74ba4e-3276-4947-d766-4a226dc1edef"
      },
      "source": [
        "for destination in range(1,11):\n",
        "  if(destination != 3):\n",
        "    model2=ConcreteModel()\n",
        "\n",
        "    model2.Nodes=Set(initialize=range(1,11))  \n",
        "    model2.first=Param(initialize = 3)\n",
        "    model2.last=Param(initialize = destination)\n",
        "\n",
        "    model2.Arcs=Set(within=model2.Nodes*model2.Nodes, \n",
        "                initialize=[(1,2),(1,6),(1,7),(1,8),\n",
        "                            (2,1),(6,1),(7,1),(8,1),\n",
        "                            (2,4),(2,5),(2,7),(2,8),\n",
        "                            (4,2),(5,2),(7,2),(8,2),\n",
        "                            (3,6),(3,9),(3,10),\n",
        "                            (6,3),(9,3),(10,3),\n",
        "                            (4,5),(4,9),\n",
        "                            (5,4),(9,4),\n",
        "                            (5,7),\n",
        "                            (7,5),\n",
        "                            (6,8),(6,9),(6,10),\n",
        "                            (8,6),(9,6),(10,6),\n",
        "                            (8,9),\n",
        "                            (9,8)])\n",
        "\n",
        "    #Add parameter\n",
        "    model2.cost=Param(model2.Arcs,\n",
        "                  initialize={(1,2):9,(1,6):5,(1,7):17,(1,8):15,\n",
        "                              (2,1):9,(6,1):5,(7,1):17,(8,1):15,\n",
        "                              (2,4):4,(2,5):14,(2,7):7,(2,8):6,\n",
        "                              (4,2):4,(5,2):14,(7,2):7,(8,2):6,\n",
        "                              (3,6):7,(3,9):2,(3,10):10,\n",
        "                              (6,3):7,(9,3):2,(10,3):10,\n",
        "                              (4,5):8,(4,9):11,\n",
        "                              (5,4):8,(9,4):11,\n",
        "                              (5,7):4,\n",
        "                              (7,5):4,\n",
        "                              (6,8):8,(6,9):12,(6,10):4,\n",
        "                              (8,6):8,(9,6):12,(10,6):4,\n",
        "                              (8,9):3,\n",
        "                              (9,8):3})\n",
        "\n",
        "    #Add dec variables\n",
        "    model2.x=Var(model2.Arcs,domain=Boolean)\n",
        "\n",
        "    #Adding objective function\n",
        "    def min_path(model2):\n",
        "      return sum(model2.cost[a]*model2.x[a] for a in model2.Arcs)\n",
        "    model2.shortest=Objective(rule=min_path, sense=minimize)\n",
        "\n",
        "    #Adding constraints\n",
        "    def flow_rule(model2, n):\n",
        "       if(n == model2.first): #origin constraint\n",
        "          return sum(model2.x[i,j] for (i,j) in model2.Arcs if i==n) == 1\n",
        "       elif(n == model2.last):  #destination constraint\n",
        "          return sum(model2.x[i,j] for (i,j) in model2.Arcs if j==n) == 1\n",
        "       else: #transhipment constraint\n",
        "          inFlow  = sum(model2.x[i,j] for (i,j) in model2.Arcs if j == n)\n",
        "          outFlow = sum(model2.x[j,i] for (j,i) in model2.Arcs if j == n)\n",
        "          return inFlow == outFlow\n",
        "    model2.flow = Constraint(model2.Nodes, rule=flow_rule)\n",
        "    \n",
        "    opt.solve(model2)\n",
        "\n",
        "    #Print results\n",
        "    print(\"Lowest cost from 3 to\",destination,\"=\",model2.shortest())\n",
        "    for (i,j) in model2.Arcs:\n",
        "      if model2.x[i,j].value != 0:\n",
        "        print(model2.x[i,j],model2.x[i,j].value)"
      ],
      "execution_count": null,
      "outputs": [
        {
          "output_type": "stream",
          "name": "stdout",
          "text": [
            "Lowest cost from 3 to 1 = 12.0\n",
            "x[6,1] 1.0\n",
            "x[3,6] 1.0\n",
            "Lowest cost from 3 to 2 = 11.0\n",
            "x[8,2] 1.0\n",
            "x[3,9] 1.0\n",
            "x[9,8] 1.0\n",
            "Lowest cost from 3 to 4 = 12.0\n",
            "x[2,4] 1.0\n",
            "x[4,2] 1.0\n",
            "x[3,9] 1.0\n",
            "x[9,3] 1.0\n",
            "Lowest cost from 3 to 5 = 12.0\n",
            "x[3,9] 1.0\n",
            "x[9,3] 1.0\n",
            "x[5,7] 1.0\n",
            "x[7,5] 1.0\n",
            "Lowest cost from 3 to 6 = 7.0\n",
            "x[3,6] 1.0\n",
            "Lowest cost from 3 to 7 = 12.0\n",
            "x[3,9] 1.0\n",
            "x[9,3] 1.0\n",
            "x[5,7] 1.0\n",
            "x[7,5] 1.0\n",
            "Lowest cost from 3 to 8 = 5.0\n",
            "x[3,9] 1.0\n",
            "x[9,8] 1.0\n",
            "Lowest cost from 3 to 9 = 2.0\n",
            "x[3,9] 1.0\n",
            "Lowest cost from 3 to 10 = 10.0\n",
            "x[3,10] 1.0\n"
          ]
        }
      ]
    },
    {
      "cell_type": "markdown",
      "metadata": {
        "id": "J3m0LS_Du5SI"
      },
      "source": [
        "Note that some path are non contiguous. For example 3 to 7, it goes from 3 to 9 then back to 3 and from 5 to 7 and then back to 5. We can add a new contraitn to make sure each arc is only used in one direction. In other words if \\\\\n",
        "$x_{39} = 1$ then $x_{93} = 0$ \\\\\n",
        "One way to do it is by adding a constraint \\\\\n",
        "$x_{39} + x_{93} = 1$ \\\\\n",
        "But the problem is this constraint would force arc (3,9) or (9,3) to be in the optimal solution because one of them need to be one for the sum to be one. So the constraint should be modified such that \\\\\n",
        "$x_{39} + x_{93} <= 1$ \\\\\n",
        "Now we allow both to be zero and one of them to be 1 in the optimal solution. Let's add this to the model."
      ]
    },
    {
      "cell_type": "code",
      "metadata": {
        "colab": {
          "base_uri": "https://localhost:8080/"
        },
        "id": "BtPmCxHcFI-T",
        "outputId": "1a227888-7450-40f6-adca-1e6a5e69963f"
      },
      "source": [
        "for destination in range(1,11):\n",
        "  if(destination != 3):\n",
        "    model2=ConcreteModel()\n",
        "\n",
        "    model2.Nodes=Set(initialize=range(1,11))  \n",
        "    model2.first=Param(initialize = 3)\n",
        "    model2.last=Param(initialize = destination)\n",
        "\n",
        "    model2.Arcs=Set(within=model2.Nodes*model2.Nodes, \n",
        "                initialize=[(1,2),(1,6),(1,7),(1,8),\n",
        "                            (2,1),(6,1),(7,1),(8,1),\n",
        "                            (2,4),(2,5),(2,7),(2,8),\n",
        "                            (4,2),(5,2),(7,2),(8,2),\n",
        "                            (3,6),(3,9),(3,10),\n",
        "                            (6,3),(9,3),(10,3),\n",
        "                            (4,5),(4,9),\n",
        "                            (5,4),(9,4),\n",
        "                            (5,7),\n",
        "                            (7,5),\n",
        "                            (6,8),(6,9),(6,10),\n",
        "                            (8,6),(9,6),(10,6),\n",
        "                            (8,9),\n",
        "                            (9,8)])\n",
        "\n",
        "    #Add parameter\n",
        "    model2.cost=Param(model2.Arcs,\n",
        "                  initialize={(1,2):9,(1,6):5,(1,7):17,(1,8):15,\n",
        "                              (2,1):9,(6,1):5,(7,1):17,(8,1):15,\n",
        "                              (2,4):4,(2,5):14,(2,7):7,(2,8):6,\n",
        "                              (4,2):4,(5,2):14,(7,2):7,(8,2):6,\n",
        "                              (3,6):7,(3,9):2,(3,10):10,\n",
        "                              (6,3):7,(9,3):2,(10,3):10,\n",
        "                              (4,5):8,(4,9):11,\n",
        "                              (5,4):8,(9,4):11,\n",
        "                              (5,7):4,\n",
        "                              (7,5):4,\n",
        "                              (6,8):8,(6,9):12,(6,10):4,\n",
        "                              (8,6):8,(9,6):12,(10,6):4,\n",
        "                              (8,9):3,\n",
        "                              (9,8):3})\n",
        "\n",
        "    #Add dec variables\n",
        "    model2.x=Var(model2.Arcs,domain=Boolean)\n",
        "\n",
        "    #Adding objective function\n",
        "    def min_path(model2):\n",
        "      return sum(model2.cost[a]*model2.x[a] for a in model2.Arcs)\n",
        "    model2.shortest=Objective(rule=min_path, sense=minimize)\n",
        "\n",
        "    #Adding constraints\n",
        "    def flow_rule(model2, n):\n",
        "       if(n == model2.first): #origin constraint\n",
        "          return sum(model2.x[i,j] for (i,j) in model2.Arcs if i==n) == 1\n",
        "       elif(n == model2.last):  #destination constraint\n",
        "          return sum(model2.x[i,j] for (i,j) in model2.Arcs if j==n) == 1\n",
        "       else: #transhipment constraint\n",
        "          inFlow  = sum(model2.x[i,j] for (i,j) in model2.Arcs if j == n)\n",
        "          outFlow = sum(model2.x[j,i] for (j,i) in model2.Arcs if j == n)\n",
        "          return inFlow == outFlow\n",
        "    model2.flow = Constraint(model2.Nodes, rule=flow_rule)\n",
        "\n",
        "    ## added constraint to fix issue from previous solution\n",
        "    def no_back(model2,i,j):\n",
        "       return model2.x[i,j] + model2.x[j,i] <= 1\n",
        "    model2.noback = Constraint(model2.Arcs, rule=no_back)\n",
        "    \n",
        "    opt.solve(model2)\n",
        "\n",
        "    #Print results\n",
        "    print(\"Lowest cost from 3 to\",destination,\"=\",model2.shortest())\n",
        "    for (i,j) in model2.Arcs:\n",
        "      if model2.x[i,j].value != 0:\n",
        "        print(model2.x[i,j],model2.x[i,j].value)"
      ],
      "execution_count": null,
      "outputs": [
        {
          "output_type": "stream",
          "name": "stdout",
          "text": [
            "Lowest cost from 3 to 1 = 12.0\n",
            "x[6,1] 1.0\n",
            "x[3,6] 1.0\n",
            "Lowest cost from 3 to 2 = 11.0\n",
            "x[8,2] 1.0\n",
            "x[3,9] 1.0\n",
            "x[9,8] 1.0\n",
            "Lowest cost from 3 to 4 = 13.0\n",
            "x[3,9] 1.0\n",
            "x[9,4] 1.0\n",
            "Lowest cost from 3 to 5 = 21.0\n",
            "x[3,9] 1.0\n",
            "x[4,5] 1.0\n",
            "x[9,4] 1.0\n",
            "Lowest cost from 3 to 6 = 7.0\n",
            "x[3,6] 1.0\n",
            "Lowest cost from 3 to 7 = 18.0\n",
            "x[2,7] 1.0\n",
            "x[8,2] 1.0\n",
            "x[3,9] 1.0\n",
            "x[9,8] 1.0\n",
            "Lowest cost from 3 to 8 = 5.0\n",
            "x[3,9] 1.0\n",
            "x[9,8] 1.0\n",
            "Lowest cost from 3 to 9 = 2.0\n",
            "x[3,9] 1.0\n",
            "Lowest cost from 3 to 10 = 10.0\n",
            "x[3,10] 1.0\n"
          ]
        }
      ]
    },
    {
      "cell_type": "markdown",
      "metadata": {
        "id": "4FaG9OzaHRBG"
      },
      "source": [
        "## Q4: Environmental Strategy"
      ]
    },
    {
      "cell_type": "markdown",
      "metadata": {
        "id": "GwU_2G4bGD-D"
      },
      "source": [
        "**Sets** \\\\\n",
        "$P$: set of projects \\\\\n",
        "$I$: set of impacts \\\\\n",
        "$B$: set of business line \\\\\n",
        "\n",
        "**Parameters** \\\\\n",
        "$c_{p}$: price per project $p$ \\\\\n",
        "$PIU_{p,i}$: positive impact unit on $i$ for project $p$ \\\\\n",
        "$DImax_{b,i}$: maximum desired impact $i$ for business $b$  \\\\\n",
        "$DImin_{b,i}$: minimum desired impact $i$ for business $b$  \\\\\n",
        "$Bmin_{b}$: minimum investment in each business $i$ \\\\\n",
        "$PImax_{p}$: maximum number of feasible projects for $p$ \\\\\n",
        "\n",
        "**Decision Variable** \\\\\n",
        "$x_{pb}$: how many project type $p$ to invest on for industry $k$\n",
        "\n",
        "**Model** \\\\\n",
        "$ min \\ \\sum_{i} \\sum_{p} c_{p}*x_{pb}$ \\\\\n",
        "$ s.t.$\n",
        "$ \\ \\sum_{b} x_{pb} \\leq PImax_{p} \\quad \\forall p $ \\\\\n",
        "$ \\quad \\quad \\sum_{p} x_{pb} \\geq Bmin_{b} \\quad \\forall b $ \\\\\n",
        "$ \\quad \\quad \\sum_{p} PIU_{p,i}*x_{p,b} \\geq \\sum_{p} x_{p,b} * DImin_{b,i} \\quad \\forall i,b $ \\\\\n",
        "$ \\quad \\quad \\sum_{p} PIU_{p,i}*x_{p,b} \\leq \\sum_{p} x_{p,b} * DImax_{b,i} \\quad \\forall i,b $ \\\\\n",
        "$ \\quad \\quad x_{pb} \\geq 0 \\quad \\forall p,b$\n",
        "\n",
        "\n"
      ]
    },
    {
      "cell_type": "code",
      "metadata": {
        "colab": {
          "base_uri": "https://localhost:8080/"
        },
        "id": "JVZZt8n7HTyt",
        "outputId": "79f3b258-76ff-4faf-9b61-c2303beeca5c"
      },
      "source": [
        "import numpy as np\n",
        "\n",
        "#Entering data\n",
        "PIU = np.array([[8, 5, 6, 5],[6, 4, 12, 4],[11, 12, 7, 7],[7, 10, 5, 9]])\n",
        "DImin = np.array([[6, 8, 7, 5],[7, 5, 5, 4],[4, 6, 4, 3]])\n",
        "DImax = np.array([[10**10, 10**10, 10**10, 8],[10**10, 10**10, 10**10, 6],[8, 10**10, 10**10, 6]])\n",
        "c = np.array([2.1,1.3,2.7,1.7])\n",
        "Bmin = np.array([140,700,600])\n",
        "PImax = np.array([700,1100,600,500])\n",
        "\n",
        "#Creating model\n",
        "model4 = ConcreteModel()\n",
        "\n",
        "model4.I = Set(initialize=range(4)) #[\"Climate\",\"Water\",\"Ecosystem\",\"Human_health\"]\n",
        "model4.P = Set(initialize=range(4)) #[\"Electrification\",\"Eco_Restauration\",\"Water_Retro\",\"Bulding_Retro\"]\n",
        "model4.B = Set(initialize=range(3)) #[\"A\",\"B\",\"C\"]\n",
        "\n",
        "model4.x = Var(model4.P,model4.B,domain = NonNegativeReals)\n",
        "\n",
        "#add objective\n",
        "model4.cost = Objective(sense=minimize, \n",
        "                       expr=sum(sum(c[p]*model4.x[p,b] for b in model4.B) for p in model4.P))\n",
        "\n",
        "#add constraints\n",
        "def max_project(model4,p):\n",
        "  return sum(model4.x[p,b] for b in model4.B) <= PImax[p]\n",
        "model4.maxproject = Constraint(model4.P,rule=max_project)\n",
        "\n",
        "def min_industry(model4,b):\n",
        "  return sum(model4.x[p,b] for p in model4.P) >= Bmin[b]\n",
        "model4.minindustry = Constraint(model4.B,rule=min_industry)\n",
        "\n",
        "def max_impact(model4,b,i):\n",
        "  return sum(PIU[p,i]*model4.x[p,b] for p in model4.P) <= sum(model4.x[p,b] for p in model4.P)*DImax[b,i]\n",
        "model4.maximpact = Constraint(model4.B,model4.I,rule=max_impact)\n",
        "\n",
        "def min_impact(model4,b,i):\n",
        "  return sum(PIU[p,i]*model4.x[p,b] for p in model4.P) >= sum(model4.x[p,b] for p in model4.P)*DImin[b,i]\n",
        "model4.minimpact = Constraint(model4.B,model4.I,rule=min_impact)\n",
        "\n",
        "opt.solve(model4)\n",
        "print(\"Total cost =\",model4.cost())\n",
        "\n",
        "for b in model4.B:\n",
        "  for p in model4.P:\n",
        "    print(model4.x[p,b],model4.x[p,b].value)"
      ],
      "execution_count": null,
      "outputs": [
        {
          "output_type": "stream",
          "name": "stdout",
          "text": [
            "Total cost = 2185.3333332\n",
            "x[0,0] 0.0\n",
            "x[1,0] 46.666667\n",
            "x[2,0] 0.0\n",
            "x[3,0] 93.333333\n",
            "x[0,1] 0.0\n",
            "x[1,1] 560.0\n",
            "x[2,1] 140.0\n",
            "x[3,1] 0.0\n",
            "x[0,2] 0.0\n",
            "x[1,2] 400.0\n",
            "x[2,2] 0.0\n",
            "x[3,2] 200.0\n"
          ]
        }
      ]
    },
    {
      "cell_type": "code",
      "metadata": {
        "colab": {
          "base_uri": "https://localhost:8080/"
        },
        "id": "6Q1aPzOJzJUK",
        "outputId": "25f0d94f-c890-4174-ae92-998e5aead29c"
      },
      "source": [
        "#Printing model to check objective function and constraints\n",
        "print(model4.cost.expr)\n",
        "\n",
        "for p in model4.P:\n",
        "  print(model4.maxproject[p].expr)\n",
        "\n",
        "for b in model4.B:\n",
        "  print(model4.minindustry[b].expr)\n",
        "\n",
        "for b in model4.B:\n",
        "  for i in model4.I:\n",
        "    print(model4.maximpact[b,i].expr)\n",
        "\n",
        "for b in model4.B:\n",
        "  for i in model4.I:\n",
        "    print(model4.minimpact[b,i].expr)\n"
      ],
      "execution_count": null,
      "outputs": [
        {
          "output_type": "stream",
          "name": "stdout",
          "text": [
            "2.1*x[0,0] + 2.1*x[0,1] + 2.1*x[0,2] + 1.3*x[1,0] + 1.3*x[1,1] + 1.3*x[1,2] + 2.7*x[2,0] + 2.7*x[2,1] + 2.7*x[2,2] + 1.7*x[3,0] + 1.7*x[3,1] + 1.7*x[3,2]\n",
            "x[0,0] + x[0,1] + x[0,2]  <=  700\n",
            "x[1,0] + x[1,1] + x[1,2]  <=  1100\n",
            "x[2,0] + x[2,1] + x[2,2]  <=  600\n",
            "x[3,0] + x[3,1] + x[3,2]  <=  500\n",
            "140  <=  x[0,0] + x[1,0] + x[2,0] + x[3,0]\n",
            "700  <=  x[0,1] + x[1,1] + x[2,1] + x[3,1]\n",
            "600  <=  x[0,2] + x[1,2] + x[2,2] + x[3,2]\n",
            "8*x[0,0] + 6*x[1,0] + 11*x[2,0] + 7*x[3,0]  <=  (x[0,0] + x[1,0] + x[2,0] + x[3,0])*inf\n",
            "5*x[0,0] + 4*x[1,0] + 12*x[2,0] + 10*x[3,0]  <=  (x[0,0] + x[1,0] + x[2,0] + x[3,0])*inf\n",
            "6*x[0,0] + 12*x[1,0] + 7*x[2,0] + 5*x[3,0]  <=  (x[0,0] + x[1,0] + x[2,0] + x[3,0])*inf\n",
            "5*x[0,0] + 4*x[1,0] + 7*x[2,0] + 9*x[3,0]  <=  (x[0,0] + x[1,0] + x[2,0] + x[3,0])*8.0\n",
            "8*x[0,1] + 6*x[1,1] + 11*x[2,1] + 7*x[3,1]  <=  (x[0,1] + x[1,1] + x[2,1] + x[3,1])*inf\n",
            "5*x[0,1] + 4*x[1,1] + 12*x[2,1] + 10*x[3,1]  <=  (x[0,1] + x[1,1] + x[2,1] + x[3,1])*inf\n",
            "6*x[0,1] + 12*x[1,1] + 7*x[2,1] + 5*x[3,1]  <=  (x[0,1] + x[1,1] + x[2,1] + x[3,1])*inf\n",
            "5*x[0,1] + 4*x[1,1] + 7*x[2,1] + 9*x[3,1]  <=  (x[0,1] + x[1,1] + x[2,1] + x[3,1])*6.0\n",
            "8*x[0,2] + 6*x[1,2] + 11*x[2,2] + 7*x[3,2]  <=  (x[0,2] + x[1,2] + x[2,2] + x[3,2])*8.0\n",
            "5*x[0,2] + 4*x[1,2] + 12*x[2,2] + 10*x[3,2]  <=  (x[0,2] + x[1,2] + x[2,2] + x[3,2])*inf\n",
            "6*x[0,2] + 12*x[1,2] + 7*x[2,2] + 5*x[3,2]  <=  (x[0,2] + x[1,2] + x[2,2] + x[3,2])*inf\n",
            "5*x[0,2] + 4*x[1,2] + 7*x[2,2] + 9*x[3,2]  <=  (x[0,2] + x[1,2] + x[2,2] + x[3,2])*6.0\n",
            "(x[0,0] + x[1,0] + x[2,0] + x[3,0])*6  <=  8*x[0,0] + 6*x[1,0] + 11*x[2,0] + 7*x[3,0]\n",
            "(x[0,0] + x[1,0] + x[2,0] + x[3,0])*8  <=  5*x[0,0] + 4*x[1,0] + 12*x[2,0] + 10*x[3,0]\n",
            "(x[0,0] + x[1,0] + x[2,0] + x[3,0])*7  <=  6*x[0,0] + 12*x[1,0] + 7*x[2,0] + 5*x[3,0]\n",
            "(x[0,0] + x[1,0] + x[2,0] + x[3,0])*5  <=  5*x[0,0] + 4*x[1,0] + 7*x[2,0] + 9*x[3,0]\n",
            "(x[0,1] + x[1,1] + x[2,1] + x[3,1])*7  <=  8*x[0,1] + 6*x[1,1] + 11*x[2,1] + 7*x[3,1]\n",
            "(x[0,1] + x[1,1] + x[2,1] + x[3,1])*5  <=  5*x[0,1] + 4*x[1,1] + 12*x[2,1] + 10*x[3,1]\n",
            "(x[0,1] + x[1,1] + x[2,1] + x[3,1])*5  <=  6*x[0,1] + 12*x[1,1] + 7*x[2,1] + 5*x[3,1]\n",
            "(x[0,1] + x[1,1] + x[2,1] + x[3,1])*4  <=  5*x[0,1] + 4*x[1,1] + 7*x[2,1] + 9*x[3,1]\n",
            "(x[0,2] + x[1,2] + x[2,2] + x[3,2])*4  <=  8*x[0,2] + 6*x[1,2] + 11*x[2,2] + 7*x[3,2]\n",
            "(x[0,2] + x[1,2] + x[2,2] + x[3,2])*6  <=  5*x[0,2] + 4*x[1,2] + 12*x[2,2] + 10*x[3,2]\n",
            "(x[0,2] + x[1,2] + x[2,2] + x[3,2])*4  <=  6*x[0,2] + 12*x[1,2] + 7*x[2,2] + 5*x[3,2]\n",
            "(x[0,2] + x[1,2] + x[2,2] + x[3,2])*3  <=  5*x[0,2] + 4*x[1,2] + 7*x[2,2] + 9*x[3,2]\n"
          ]
        }
      ]
    }
  ]
}