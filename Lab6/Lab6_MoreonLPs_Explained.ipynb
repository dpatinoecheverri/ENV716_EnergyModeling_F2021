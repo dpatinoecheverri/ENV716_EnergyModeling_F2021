{
  "nbformat": 4,
  "nbformat_minor": 0,
  "metadata": {
    "colab": {
      "name": "Lab6_MoreonLPs_Explained.ipynb",
      "provenance": [],
      "collapsed_sections": [],
      "toc_visible": true,
      "include_colab_link": true
    },
    "kernelspec": {
      "display_name": "Python 3",
      "language": "python",
      "name": "python3"
    },
    "language_info": {
      "codemirror_mode": {
        "name": "ipython",
        "version": 3
      },
      "file_extension": ".py",
      "mimetype": "text/x-python",
      "name": "python",
      "nbconvert_exporter": "python",
      "pygments_lexer": "ipython3",
      "version": "3.7.4"
    }
  },
  "cells": [
    {
      "cell_type": "markdown",
      "metadata": {
        "id": "view-in-github",
        "colab_type": "text"
      },
      "source": [
        "<a href=\"https://colab.research.google.com/github/lmmlima/ENV716_EnergyModeling_F2021/blob/main/Lab6/Lab6_MoreonLPs_Explained.ipynb\" target=\"_parent\"><img src=\"https://colab.research.google.com/assets/colab-badge.svg\" alt=\"Open In Colab\"/></a>"
      ]
    },
    {
      "cell_type": "markdown",
      "metadata": {
        "id": "Y14uvsnh0e75"
      },
      "source": [
        "# **Lab 6 - More on LPs in Python**"
      ]
    },
    {
      "cell_type": "markdown",
      "metadata": {
        "id": "Cda7t6gw1PYI"
      },
      "source": [
        "Learning outcomes for Lab 6:\n",
        "* Learn how to implement a simple LP using numpy arrays;\n",
        "* Learn how to implement a simple LP using object **Sets()** and **Param()**;\n",
        "* Learn how to use dictionaries and UDFs in Pyomo to facilitate model implementation.\n"
      ]
    },
    {
      "cell_type": "markdown",
      "metadata": {
        "id": "RRVCA3_S17L0"
      },
      "source": [
        "## Initializing "
      ]
    },
    {
      "cell_type": "code",
      "metadata": {
        "id": "p9RjfZs31rSC"
      },
      "source": [
        "from google.colab import drive\n",
        "drive.mount('/content/drive')"
      ],
      "execution_count": null,
      "outputs": []
    },
    {
      "cell_type": "code",
      "metadata": {
        "id": "zz6H46Ap1vhR"
      },
      "source": [
        "import os\n",
        "os.chdir('/content/drive/MyDrive/Colab Notebooks/')"
      ],
      "execution_count": null,
      "outputs": []
    },
    {
      "cell_type": "markdown",
      "metadata": {
        "id": "iCRbHUT8110g"
      },
      "source": [
        "Installing Pyomo and glpk solver."
      ]
    },
    {
      "cell_type": "code",
      "metadata": {
        "id": "jAqq5CgB2CdL"
      },
      "source": [
        "!pip install pyomo\n",
        "!apt-get install -y -qq glpk-utils"
      ],
      "execution_count": null,
      "outputs": []
    },
    {
      "cell_type": "markdown",
      "metadata": {
        "id": "uDsRodub2IFw"
      },
      "source": [
        "Importing pyomo and solver."
      ]
    },
    {
      "cell_type": "code",
      "metadata": {
        "id": "KF4yLGmk0Wp-"
      },
      "source": [
        "from pyomo.environ import *\n",
        "#Import solver\n",
        "opt=SolverFactory('glpk')"
      ],
      "execution_count": null,
      "outputs": []
    },
    {
      "cell_type": "markdown",
      "metadata": {
        "id": "j1VLqVZV2MNr"
      },
      "source": [
        "## Implementing Model (Approach #3 - preferred method)\n",
        "\n",
        "\n"
      ]
    },
    {
      "cell_type": "markdown",
      "metadata": {
        "id": "nM-v8Qpe3XNK"
      },
      "source": [
        "We will implement the chemical solutions model again using model objects (Sets() and Param()), using dictionaries to specify parameters, indexing decision variables and constraints by sets, using user defined function to define constraints and objective function in a more general form.\n",
        "\n",
        "Start by writing the LP formulation indexed by sets and in standard form. \n",
        "\n",
        "Sets: \\\\\n",
        "$m∈ M:$ set of machines A and B \\\\\n",
        "$p∈P:$ set of chemical solution types I and II\n",
        "\n",
        "Parameters:  \\\\\n",
        "$a_{m,p}:$ number of hours on machine m needed to produce chemical solution type $p$ \\\\\n",
        "$H_m:$  number of hours available on machine $m$ \\\\\n",
        "$C_p:$ profit gained from producing type $p$ \\\\\n",
        "\n",
        "Decision Variables: \\\\\n",
        "$x_p:$ number of units of type p to produce \\\\\n",
        "\n",
        "Problem Formulation: \\\\  \n",
        "$ max_x\t\\sum_{p\\in P}c_p*x_p$ \\\\\n",
        "$ s.t.\t\\sum_{p\\in P}a_{m,p}*x_p ≤ H_m  \\quad ∀ m \\in M $ \\\\\n",
        "$ \\quad \\quad \\quad x_p ≥ 0 \\quad \\quad \\quad \\quad   ∀p\\in P $ \\\\\n",
        "\n",
        "Now let’s start by adding sets and parameters to the model. Because we are using objects Sets() and Param(), the assigned names should start with “model.”."
      ]
    },
    {
      "cell_type": "code",
      "metadata": {
        "id": "lKT3QU5t0WqG"
      },
      "source": [
        "#using sets and parameter\n",
        "model=ConcreteModel()\n",
        "\n",
        "#Sets\n",
        "model.M=Set(initialize=['MA','MB'])  #set of machines\n",
        "model.P=Set(initialize=['TypeI','TypeII']) #set of solution types\n",
        "\n",
        "#Parameters\n",
        "model.c=Param(model.P,initialize={'TypeI':800,'TypeII':600})\n",
        "model.H=Param(model.M,initialize={'MA':60,'MB':48})\n",
        "model.a=Param(model.M,model.P,initialize={\n",
        "    ('MA','TypeI'):4,\n",
        "    ('MA','TypeII'):2,\n",
        "    ('MB','TypeI'):2,\n",
        "    ('MB','TypeII'):4})"
      ],
      "execution_count": null,
      "outputs": []
    },
    {
      "cell_type": "markdown",
      "metadata": {
        "id": "_pOVDQHI5mtj"
      },
      "source": [
        "Next define the decision variables, objective function and constraint also indexed by set. For generalization purpose note that we use user defined function to enter the expressions. Most of the formulation you will find on the internet will use this syntax. Don’t forget object “model” will always be an argument to your function. And if you need to add a constraint for all elements within a specific set, those elements should also be an argument to your function. Note that now instead if using the “exp=” we are using “rule=”."
      ]
    },
    {
      "cell_type": "code",
      "metadata": {
        "id": "h3dlYThS5lY-"
      },
      "source": [
        "#add dec variables\n",
        "model.X=Var(model.P,domain=NonNegativeReals)\n",
        "\n",
        "#add obj func\n",
        "def obj_profit(model):\n",
        "    return sum(model.c[p]*model.X[p] for p in model.P)\n",
        "model.profit=Objective(sense=maximize,rule=obj_profit)\n",
        "\n",
        "#add const\n",
        "def mach_hours(model,m):\n",
        "    return sum(model.a[m,p]*model.X[p] for p in model.P) <= model.H[m]\n",
        "model.mach=Constraint(model.M,rule=mach_hours)\n"
      ],
      "execution_count": null,
      "outputs": []
    },
    {
      "cell_type": "code",
      "metadata": {
        "id": "Ulml4g9hJH8_",
        "outputId": "c9c01424-a86f-4dc7-9643-b950ab6b90b6"
      },
      "source": [
        "## Added for Lab 7\n",
        "model.X.pprint()"
      ],
      "execution_count": null,
      "outputs": [
        {
          "name": "stdout",
          "output_type": "stream",
          "text": [
            "X : Size=2, Index=P\n",
            "    Key    : Lower : Value : Upper : Fixed : Stale : Domain\n",
            "     TypeI :     0 :  None :  None : False :  True : NonNegativeReals\n",
            "    TypeII :     0 :  None :  None : False :  True : NonNegativeReals\n"
          ]
        }
      ]
    },
    {
      "cell_type": "code",
      "metadata": {
        "id": "Fm1RX33vJPLW",
        "outputId": "6595196e-3b60-4e6b-890e-613bb2cfb875"
      },
      "source": [
        "## Added for Lab 7\n",
        "model.profit.pprint()"
      ],
      "execution_count": null,
      "outputs": [
        {
          "name": "stdout",
          "output_type": "stream",
          "text": [
            "profit : Size=1, Index=None, Active=True\n",
            "    Key  : Active : Sense    : Expression\n",
            "    None :   True : maximize : 800*X[TypeI] + 600*X[TypeII]\n"
          ]
        }
      ]
    },
    {
      "cell_type": "code",
      "metadata": {
        "id": "9IBVk-k6It_C",
        "outputId": "512ca156-0551-40f6-d3cc-a84f85c5a392"
      },
      "source": [
        "#Better way to print objective function\n",
        "print(model.profit.expr)"
      ],
      "execution_count": null,
      "outputs": [
        {
          "name": "stdout",
          "output_type": "stream",
          "text": [
            "800*X[TypeI] + 600*X[TypeII]\n"
          ]
        }
      ]
    },
    {
      "cell_type": "code",
      "metadata": {
        "id": "P982eZUPJUQ3",
        "outputId": "f3c1f3ec-50f4-4df8-a30a-5b0d6b364a74"
      },
      "source": [
        "## Added for Lab 7\n",
        "model.mach.pprint()"
      ],
      "execution_count": null,
      "outputs": [
        {
          "name": "stdout",
          "output_type": "stream",
          "text": [
            "mach : Size=2, Index=M, Active=True\n",
            "    Key : Lower : Body                     : Upper : Active\n",
            "     MA :  -Inf : 4*X[TypeI] + 2*X[TypeII] :  60.0 :   True\n",
            "     MB :  -Inf : 2*X[TypeI] + 4*X[TypeII] :  48.0 :   True\n"
          ]
        }
      ]
    },
    {
      "cell_type": "code",
      "metadata": {
        "id": "qsg4-7YQIt_E",
        "outputId": "7ec49315-1790-4b4a-9b8e-42739c246cc7"
      },
      "source": [
        "#Better way to print constraints\n",
        "for m in model.M:\n",
        "    print(model.mach[m].expr)"
      ],
      "execution_count": null,
      "outputs": [
        {
          "name": "stdout",
          "output_type": "stream",
          "text": [
            "4*X[TypeI] + 2*X[TypeII]  <=  60.0\n",
            "2*X[TypeI] + 4*X[TypeII]  <=  48.0\n"
          ]
        }
      ]
    },
    {
      "cell_type": "code",
      "metadata": {
        "id": "3HwQcsekJgcK",
        "outputId": "06c3dc56-731d-43dd-f782-5f008a978a05"
      },
      "source": [
        "#Understanding function sum()\n",
        "I = [1,2,3,4,5,6]\n",
        "somation = sum(1*i for i in I)\n",
        "somation"
      ],
      "execution_count": null,
      "outputs": [
        {
          "data": {
            "text/plain": [
              "21"
            ]
          },
          "execution_count": 19,
          "metadata": {},
          "output_type": "execute_result"
        }
      ]
    },
    {
      "cell_type": "code",
      "metadata": {
        "id": "O2LmCNilNVIz",
        "scrolled": true,
        "outputId": "80bf0558-d0f3-4fe9-e576-2060728cebdf"
      },
      "source": [
        "#Understanding loop for \n",
        "M = [\"MA\",\"MB\"]\n",
        "for m in M:\n",
        "  print(m)"
      ],
      "execution_count": null,
      "outputs": [
        {
          "name": "stdout",
          "output_type": "stream",
          "text": [
            "MA\n",
            "MB\n"
          ]
        }
      ]
    },
    {
      "cell_type": "markdown",
      "metadata": {
        "id": "WuGDszWp5sXY"
      },
      "source": [
        "Then all you need to do is solve the model and print the results."
      ]
    },
    {
      "cell_type": "code",
      "metadata": {
        "id": "Tx5JrGq70WqG"
      },
      "source": [
        "#Solve model\n",
        "results=opt.solve(model)\n",
        "\n",
        "#Print results\n",
        "print(\"Profit =\",model.profit())\n",
        "print(\"Decision Variables\")\n",
        "for p in model.P:\n",
        "    print(model.X[p],model.X[p].value)"
      ],
      "execution_count": null,
      "outputs": []
    },
    {
      "cell_type": "markdown",
      "metadata": {
        "id": "3wmLa-7X6K1P"
      },
      "source": [
        "## Exercise 1"
      ]
    },
    {
      "cell_type": "markdown",
      "metadata": {
        "id": "eCNN4yp06Ogb"
      },
      "source": [
        "Imagine now we have a third type o chemical solution. How would you change the model above to incorporate a third type that has a profit of 700 and takes 2 hours on machine A and 2 hours on machine B."
      ]
    }
  ]
}