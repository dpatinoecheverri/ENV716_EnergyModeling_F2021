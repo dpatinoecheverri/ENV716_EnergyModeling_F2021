{
  "nbformat": 4,
  "nbformat_minor": 0,
  "metadata": {
    "kernelspec": {
      "display_name": "Python 3",
      "language": "python",
      "name": "python3"
    },
    "language_info": {
      "codemirror_mode": {
        "name": "ipython",
        "version": 3
      },
      "file_extension": ".py",
      "mimetype": "text/x-python",
      "name": "python",
      "nbconvert_exporter": "python",
      "pygments_lexer": "ipython3",
      "version": "3.7.4"
    },
    "colab": {
      "name": "Lab6_MoreonLPs.ipynb",
      "provenance": [],
      "collapsed_sections": [],
      "toc_visible": true,
      "include_colab_link": true
    }
  },
  "cells": [
    {
      "cell_type": "markdown",
      "metadata": {
        "id": "view-in-github",
        "colab_type": "text"
      },
      "source": [
        "<a href=\"https://colab.research.google.com/github/lmmlima/ENV716_EnergyModeling_F2021/blob/main/Lab6/Lab6_MoreonLPs.ipynb\" target=\"_parent\"><img src=\"https://colab.research.google.com/assets/colab-badge.svg\" alt=\"Open In Colab\"/></a>"
      ]
    },
    {
      "cell_type": "markdown",
      "metadata": {
        "id": "Y14uvsnh0e75"
      },
      "source": [
        "# **Lab 6 - More on LPs in Python**"
      ]
    },
    {
      "cell_type": "markdown",
      "metadata": {
        "id": "Cda7t6gw1PYI"
      },
      "source": [
        "Learning outcomes for Lab 6:\n",
        "* Learn how to implement a simple LP using numpy arrays;\n",
        "* Learn how to implement a simple LP using object **Sets()** and **Param()**;\n",
        "* Learn how to use dictionaries and UDFs in Pyomo to facilitate model implementation.\n"
      ]
    },
    {
      "cell_type": "markdown",
      "metadata": {
        "id": "RRVCA3_S17L0"
      },
      "source": [
        "## Initializing "
      ]
    },
    {
      "cell_type": "code",
      "metadata": {
        "colab": {
          "base_uri": "https://localhost:8080/"
        },
        "id": "p9RjfZs31rSC",
        "outputId": "b13d963e-14af-4972-c874-6d72ca14e0d1"
      },
      "source": [
        "from google.colab import drive\n",
        "drive.mount('/content/drive')"
      ],
      "execution_count": 1,
      "outputs": [
        {
          "output_type": "stream",
          "name": "stdout",
          "text": [
            "Mounted at /content/drive\n"
          ]
        }
      ]
    },
    {
      "cell_type": "code",
      "metadata": {
        "id": "zz6H46Ap1vhR"
      },
      "source": [
        "import os\n",
        "os.chdir('/content/drive/MyDrive/Colab Notebooks/')"
      ],
      "execution_count": 2,
      "outputs": []
    },
    {
      "cell_type": "markdown",
      "metadata": {
        "id": "iCRbHUT8110g"
      },
      "source": [
        "Installing Pyomo and glpk solver."
      ]
    },
    {
      "cell_type": "code",
      "metadata": {
        "colab": {
          "base_uri": "https://localhost:8080/"
        },
        "id": "jAqq5CgB2CdL",
        "outputId": "83e09f18-94cf-4245-b23f-d93b3710d87e"
      },
      "source": [
        "!pip install pyomo\n",
        "!apt-get install -y -qq glpk-utils"
      ],
      "execution_count": 3,
      "outputs": [
        {
          "output_type": "stream",
          "name": "stdout",
          "text": [
            "Collecting pyomo\n",
            "  Downloading Pyomo-6.1.2-cp37-cp37m-manylinux_2_5_x86_64.manylinux1_x86_64.manylinux_2_12_x86_64.manylinux2010_x86_64.whl (9.1 MB)\n",
            "\u001b[K     |████████████████████████████████| 9.1 MB 5.2 MB/s \n",
            "\u001b[?25hCollecting ply\n",
            "  Downloading ply-3.11-py2.py3-none-any.whl (49 kB)\n",
            "\u001b[K     |████████████████████████████████| 49 kB 5.3 MB/s \n",
            "\u001b[?25hInstalling collected packages: ply, pyomo\n",
            "Successfully installed ply-3.11 pyomo-6.1.2\n",
            "Selecting previously unselected package libsuitesparseconfig5:amd64.\n",
            "(Reading database ... 155047 files and directories currently installed.)\n",
            "Preparing to unpack .../libsuitesparseconfig5_1%3a5.1.2-2_amd64.deb ...\n",
            "Unpacking libsuitesparseconfig5:amd64 (1:5.1.2-2) ...\n",
            "Selecting previously unselected package libamd2:amd64.\n",
            "Preparing to unpack .../libamd2_1%3a5.1.2-2_amd64.deb ...\n",
            "Unpacking libamd2:amd64 (1:5.1.2-2) ...\n",
            "Selecting previously unselected package libcolamd2:amd64.\n",
            "Preparing to unpack .../libcolamd2_1%3a5.1.2-2_amd64.deb ...\n",
            "Unpacking libcolamd2:amd64 (1:5.1.2-2) ...\n",
            "Selecting previously unselected package libglpk40:amd64.\n",
            "Preparing to unpack .../libglpk40_4.65-1_amd64.deb ...\n",
            "Unpacking libglpk40:amd64 (4.65-1) ...\n",
            "Selecting previously unselected package glpk-utils.\n",
            "Preparing to unpack .../glpk-utils_4.65-1_amd64.deb ...\n",
            "Unpacking glpk-utils (4.65-1) ...\n",
            "Setting up libsuitesparseconfig5:amd64 (1:5.1.2-2) ...\n",
            "Setting up libcolamd2:amd64 (1:5.1.2-2) ...\n",
            "Setting up libamd2:amd64 (1:5.1.2-2) ...\n",
            "Setting up libglpk40:amd64 (4.65-1) ...\n",
            "Setting up glpk-utils (4.65-1) ...\n",
            "Processing triggers for libc-bin (2.27-3ubuntu1.3) ...\n",
            "/sbin/ldconfig.real: /usr/local/lib/python3.7/dist-packages/ideep4py/lib/libmkldnn.so.0 is not a symbolic link\n",
            "\n",
            "Processing triggers for man-db (2.8.3-2ubuntu0.1) ...\n"
          ]
        }
      ]
    },
    {
      "cell_type": "markdown",
      "metadata": {
        "id": "uDsRodub2IFw"
      },
      "source": [
        "Importing pyomo and solver."
      ]
    },
    {
      "cell_type": "code",
      "metadata": {
        "id": "KF4yLGmk0Wp-"
      },
      "source": [
        "from pyomo.environ import *\n",
        "#Import solver\n",
        "opt=SolverFactory('glpk')"
      ],
      "execution_count": 4,
      "outputs": []
    },
    {
      "cell_type": "markdown",
      "metadata": {
        "id": "j1VLqVZV2MNr"
      },
      "source": [
        "## Implementing Model (Approach #3 - preferred method)\n",
        "\n",
        "\n"
      ]
    },
    {
      "cell_type": "markdown",
      "metadata": {
        "id": "nM-v8Qpe3XNK"
      },
      "source": [
        "We will implement the chemical solutions model again using model objects (Sets() and Param()), using dictionaries to specify parameters, indexing decision variables and constraints by sets, using user defined function to define constraints and objective function in a more general form.\n",
        "\n",
        "Start by writing the LP formulation indexed by sets and in standard form. \n",
        "\n",
        "Sets: \\\\\n",
        "$m∈ M:$ set of machines A and B \\\\\n",
        "$p∈P:$ set of chemical solution types I and II\n",
        "\n",
        "Parameters:  \\\\\n",
        "$a_{m,p}:$ number of hours on machine m needed to produce chemical solution type $p$ \\\\\n",
        "$H_m:$  number of hours available on machine $m$ \\\\\n",
        "$C_p:$ profit gained from producing type $p$ \\\\\n",
        "\n",
        "Decision Variables: \\\\\n",
        "$x_p:$ number of units of type p to produce \\\\\n",
        "\n",
        "Problem Formulation: \\\\  \n",
        "$ max_x\t\\sum_{p\\in P}c_p*x_p$ \\\\\n",
        "$ s.t.\t\\sum_{p\\in P}a_{m,p}*x_p ≤ H_m  \\quad ∀ m \\in M $ \\\\\n",
        "$ \\quad \\quad \\quad x_p ≥ 0 \\quad \\quad \\quad \\quad   ∀p\\in P $ \\\\\n",
        "\n",
        "Now let’s start by adding sets and parameters to the model. Because we are using objects Sets() and Param(), the assigned names should start with “model.”."
      ]
    },
    {
      "cell_type": "code",
      "metadata": {
        "id": "lKT3QU5t0WqG"
      },
      "source": [
        "#using sets and parameter\n",
        "model=ConcreteModel()\n",
        "\n",
        "#Sets\n",
        "model.M=Set(initialize=['MA','MB'])  #set of machines\n",
        "model.P=Set(initialize=['TypeI','TypeII']) #set of solution types\n",
        "\n",
        "#Parameters\n",
        "model.c=Param(model.P,initialize={'TypeI':800,'TypeII':600})\n",
        "model.H=Param(model.M,initialize={'MA':60,'MB':48})\n",
        "model.a=Param(model.M,model.P,initialize={\n",
        "    ('MA','TypeI'):4,\n",
        "    ('MA','TypeII'):2,\n",
        "    ('MB','TypeI'):2,\n",
        "    ('MB','TypeII'):4})"
      ],
      "execution_count": 5,
      "outputs": []
    },
    {
      "cell_type": "markdown",
      "metadata": {
        "id": "_pOVDQHI5mtj"
      },
      "source": [
        "Next define the decision variables, objective function and constraint also indexed by set. For generalization purpose note that we use user defined function to enter the expressions. Most of the formulation you will find on the internet will use this syntax. Don’t forget object “model” will always be an argument to your function. And if you need to add a constraint for all elements within a specific set, those elements should also be an argument to your function. Note that now instead if using the “exp=” we are using “rule=”."
      ]
    },
    {
      "cell_type": "code",
      "metadata": {
        "id": "h3dlYThS5lY-"
      },
      "source": [
        "#add dec variables\n",
        "model.X=Var(model.P,domain=NonNegativeReals)\n",
        "\n",
        "#add obj func\n",
        "def obj_profit(model):\n",
        "    return sum(model.c[p]*model.X[p] for p in model.P)\n",
        "model.profit=Objective(sense=maximize,rule=obj_profit)\n",
        "\n",
        "#add const\n",
        "def mach_hours(model,m):\n",
        "    return sum(model.a[m,p]*model.X[p] for p in model.P) <= model.H[m]\n",
        "model.mach=Constraint(model.M,rule=mach_hours)\n"
      ],
      "execution_count": 6,
      "outputs": []
    },
    {
      "cell_type": "markdown",
      "metadata": {
        "id": "WuGDszWp5sXY"
      },
      "source": [
        "Then all you need to do is solve the model and print the results."
      ]
    },
    {
      "cell_type": "code",
      "metadata": {
        "id": "Tx5JrGq70WqG",
        "colab": {
          "base_uri": "https://localhost:8080/"
        },
        "outputId": "75174111-b444-418f-e6eb-07e6e86270f0"
      },
      "source": [
        "#Solve model\n",
        "results=opt.solve(model)\n",
        "\n",
        "#Print results\n",
        "print(\"Profit =\",model.profit())\n",
        "print(\"Decision Variables\")\n",
        "for p in model.P:\n",
        "    print(model.X[p],model.X[p].value)"
      ],
      "execution_count": 7,
      "outputs": [
        {
          "output_type": "stream",
          "name": "stdout",
          "text": [
            "Profit = 13200.0\n",
            "Decision Variables\n",
            "X[TypeI] 12.0\n",
            "X[TypeII] 6.0\n"
          ]
        }
      ]
    },
    {
      "cell_type": "markdown",
      "metadata": {
        "id": "3wmLa-7X6K1P"
      },
      "source": [
        "## Exercise 1"
      ]
    },
    {
      "cell_type": "markdown",
      "metadata": {
        "id": "eCNN4yp06Ogb"
      },
      "source": [
        "Imagine now we have a third type o chemical solution. How would you change the model above to incorporate a third type that has a profit of 700 and takes 2 hours on machine A and 2 hours on machine B."
      ]
    }
  ]
}