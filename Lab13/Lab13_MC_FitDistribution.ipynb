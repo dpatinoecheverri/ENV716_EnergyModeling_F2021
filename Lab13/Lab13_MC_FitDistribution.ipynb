{
  "nbformat": 4,
  "nbformat_minor": 0,
  "metadata": {
    "kernelspec": {
      "display_name": "Python 3",
      "language": "python",
      "name": "python3"
    },
    "language_info": {
      "codemirror_mode": {
        "name": "ipython",
        "version": 3
      },
      "file_extension": ".py",
      "mimetype": "text/x-python",
      "name": "python",
      "nbconvert_exporter": "python",
      "pygments_lexer": "ipython3",
      "version": "3.7.4"
    },
    "colab": {
      "name": "Lab13_MC_FitDistribution.ipynb",
      "provenance": [],
      "collapsed_sections": [
        "Xq_cLMJ--mI0"
      ],
      "toc_visible": true,
      "include_colab_link": true
    }
  },
  "cells": [
    {
      "cell_type": "markdown",
      "metadata": {
        "id": "view-in-github",
        "colab_type": "text"
      },
      "source": [
        "<a href=\"https://colab.research.google.com/github/lmmlima/ENV716_EnergyModeling_F2021/blob/main/Lab13/Lab13_MC_FitDistribution.ipynb\" target=\"_parent\"><img src=\"https://colab.research.google.com/assets/colab-badge.svg\" alt=\"Open In Colab\"/></a>"
      ]
    },
    {
      "cell_type": "markdown",
      "metadata": {
        "id": "WJcTHdvPaWgs"
      },
      "source": [
        "# **Lab 13 - Monte Carlo Part 2: Fitting Distribution to Data in Python**"
      ]
    },
    {
      "cell_type": "markdown",
      "metadata": {
        "id": "4Xj-qvHDaebA"
      },
      "source": [
        "In this lab we will learn how to fit distributions to data sets. The specific learning outcomes are:\n",
        "* Get familiar with the library scipy.stats and its functios *.fit()*;\n",
        "* Understand how to use the parameters estimated on the *.fit()* to calculate values for theoretical cdf and pdf;\n",
        "* Get familiar with *np.linspace()*;\n",
        "* Get familiar with matplotlib.pyplot and how to plot more than one series in the same graph.\n"
      ]
    },
    {
      "cell_type": "markdown",
      "metadata": {
        "id": "Xq_cLMJ--mI0"
      },
      "source": [
        "## Initializing"
      ]
    },
    {
      "cell_type": "code",
      "metadata": {
        "colab": {
          "base_uri": "https://localhost:8080/"
        },
        "id": "epLSaN6gaQK8",
        "outputId": "a22fde89-e46a-492f-cad9-596be7fc138b"
      },
      "source": [
        "from google.colab import drive\n",
        "drive.mount('/content/drive')"
      ],
      "execution_count": null,
      "outputs": [
        {
          "output_type": "stream",
          "name": "stdout",
          "text": [
            "Drive already mounted at /content/drive; to attempt to forcibly remount, call drive.mount(\"/content/drive\", force_remount=True).\n"
          ]
        }
      ]
    },
    {
      "cell_type": "code",
      "metadata": {
        "id": "vEXB0YkxaUsJ"
      },
      "source": [
        "import os\n",
        "os.chdir('/content/drive/MyDrive/Colab Notebooks/')"
      ],
      "execution_count": null,
      "outputs": []
    },
    {
      "cell_type": "code",
      "metadata": {
        "id": "mkwDX4wQaAYz"
      },
      "source": [
        "#Start by loading necessary packages\n",
        "import numpy as np\n",
        "import pandas as pd\n",
        "import matplotlib.pyplot as plt\n",
        "import scipy.stats as stats\n",
        "import random"
      ],
      "execution_count": null,
      "outputs": []
    },
    {
      "cell_type": "markdown",
      "metadata": {
        "id": "lqiXs-g2bAYV"
      },
      "source": [
        "## Wind Investment Problem"
      ]
    },
    {
      "cell_type": "markdown",
      "metadata": {
        "id": "9GJbAHgU_wMG"
      },
      "source": [
        "Recall the wind investment example from lectures. We had two uncertainties **electricity prices** and **wind speed**. Let's see how we could use Monte Carlo to generate scenarios for the two random variables. We learned on Lab 12 how to draw random variates from known distribution. But this time we don't knwo the distribution a priori, we need to fit a distribution first. \n"
      ]
    },
    {
      "cell_type": "markdown",
      "metadata": {
        "id": "YcAve8VjJAlR"
      },
      "source": [
        "### Fitting a Distribution to Electricity Prices"
      ]
    },
    {
      "cell_type": "markdown",
      "metadata": {
        "id": "Tl2WA7XtIpeJ"
      },
      "source": [
        "\n",
        "Let's start by importing the data using *pd.read_excel()*. Then let's print summary statistics using function *.describe()*"
      ]
    },
    {
      "cell_type": "code",
      "metadata": {
        "id": "6Gn35C_La_YN"
      },
      "source": [
        "elect_price_data = pd.read_excel(\"Wind_Invest_Data.xlsx\",sheet_name=\"Elect_Prices\")\n",
        "print(elect_price_data.head(10),'\\n')\n",
        "\n",
        "#Getting summary statistics\n",
        "print('Summary Statistics for Electricity Price')\n",
        "print(elect_price_data.iloc[:,1].describe())\n",
        "\n",
        "#just transforming data frame into num py array to facilitate reference\n",
        "elect_price = np.array(elect_price_data.iloc[:,1])"
      ],
      "execution_count": null,
      "outputs": []
    },
    {
      "cell_type": "code",
      "metadata": {
        "id": "YYLdYIjMawci"
      },
      "source": [
        "#Initial plot of data\n",
        "plt.plot(elect_price)"
      ],
      "execution_count": null,
      "outputs": []
    },
    {
      "cell_type": "markdown",
      "metadata": {
        "id": "RiNxG2L_ZwTz"
      },
      "source": [
        "Once you have the data, you need to fit a distribution to your data. \n",
        "We will use scipy.stats. A list of distributions available with scipy.stats is available [here](https://docs.scipy.org/doc/scipy/reference/stats.html#continuous-distributions)\n",
        "\n",
        "* Step 1: Draw a histogram to choose candidate(s) probability distribution. \n",
        "* Step 2: Estimate the parameters of the hypothesized distribution for the sample - in Python, parameters will be estimated automatically using *stats.**dist**.fit()*.\n",
        "* Step 3: Once you have the parameters calculate the theoritical pdf for the same intervals you used in the histogram you created on Step 1. Compare theoritical with observed.\n",
        "* Step 4: Repeat Step 3, but now for the cdf.\n",
        "\n"
      ]
    },
    {
      "cell_type": "code",
      "metadata": {
        "id": "srlKVkKsZVAO"
      },
      "source": [
        "#Plotting histogram of observed data with frequency in the Y axis\n",
        "plt.hist(elect_price,bins=50)"
      ],
      "execution_count": null,
      "outputs": []
    },
    {
      "cell_type": "code",
      "metadata": {
        "id": "P_DDlqpzhAxB"
      },
      "source": [
        "#Plotting histogram of observed data with density in the Y axis\n",
        "plt.hist(elect_price,bins=50,density=True)"
      ],
      "execution_count": null,
      "outputs": []
    },
    {
      "cell_type": "markdown",
      "metadata": {
        "id": "GqXP945sfhQ1"
      },
      "source": [
        "From the pdf plot, it looks like electricity prices follow a triangular distribution. The Triangular Distribution has three parameters:\n",
        "* **a**: lower limit location parameter; \n",
        "* **b**: upper limit location parameter; and\n",
        "* **c**: shape parameter that defines the mode or peak of the triangle."
      ]
    },
    {
      "cell_type": "code",
      "metadata": {
        "colab": {
          "base_uri": "https://localhost:8080/"
        },
        "id": "sG7u6JrGdnOt",
        "outputId": "56f952e6-a16c-4bc1-9db8-9b2a233a3fcd"
      },
      "source": [
        "#Fit a tringular to observed data using .fit()\n",
        "params = stats.triang.fit(elect_price)\n",
        "print(params)"
      ],
      "execution_count": null,
      "outputs": [
        {
          "output_type": "stream",
          "name": "stdout",
          "text": [
            "(0.44355209078584756, 2.9737042398196056, 9.02862750289793)\n"
          ]
        }
      ]
    },
    {
      "cell_type": "markdown",
      "metadata": {
        "id": "cNqGAS5mDK-o"
      },
      "source": [
        "Note *params* has three parameters. The *.fit()* used the three-point estimation technique. The three parameters are then combined to yield either the full probability distribution. The first parameters is shape, second is location and third is scale. This will change depending on which distribution you are trying to fit. Always check the scipy documentation for more information. "
      ]
    },
    {
      "cell_type": "code",
      "metadata": {
        "id": "NVa8FWcggMBG"
      },
      "source": [
        "c = params[0] #shape\n",
        "a = params[1] #location i.e. minimum value for the triangular\n",
        "b = params[2] #scale i.e. maximum value for the triangular\n"
      ],
      "execution_count": null,
      "outputs": []
    },
    {
      "cell_type": "markdown",
      "metadata": {
        "id": "F9SRkHqLCzaM"
      },
      "source": [
        "Based on this fit, let's calculate the theorical pdf. First we will need a vector with the same bins from our hsitogram. We used 50 bins, we use the min and max from the observed prices to calculate the bins using function *np.linspace()*."
      ]
    },
    {
      "cell_type": "code",
      "metadata": {
        "id": "jDyZZH-yhL1G"
      },
      "source": [
        "min_price=np.min(elect_price)\n",
        "max_price=np.max(elect_price)\n",
        "x = np.linspace(start=min_price,stop=max_price,num=50)\n",
        "print(x)"
      ],
      "execution_count": null,
      "outputs": []
    },
    {
      "cell_type": "markdown",
      "metadata": {
        "id": "MvgOQBC3EbYg"
      },
      "source": [
        "Note x corresponds to the array we had displayed before the histogram. Now we need to get theoretical pdf for each of those values using *stats.**dist**.pdf()*."
      ]
    },
    {
      "cell_type": "code",
      "metadata": {
        "id": "ZZgqBb-vtNBb"
      },
      "source": [
        "pdf_fitted = stats.triang.pdf(x, c=c, loc=a, scale=b)\n",
        "print(pdf_fitted)"
      ],
      "execution_count": null,
      "outputs": []
    },
    {
      "cell_type": "markdown",
      "metadata": {
        "id": "FajqdQmDFBke"
      },
      "source": [
        "Now let's plot theoretical cdf and observed histogram just like we did in Excel."
      ]
    },
    {
      "cell_type": "code",
      "metadata": {
        "id": "h49YneeaJ07F"
      },
      "source": [
        "plt.hist(elect_price,bins=50,density=True)\n",
        "plt.plot(x,pdf_fitted, label='triang', color = 'red')"
      ],
      "execution_count": null,
      "outputs": []
    },
    {
      "cell_type": "markdown",
      "metadata": {
        "id": "jgZ-RZ6dFSBq"
      },
      "source": [
        "Repeating the process for the cdf."
      ]
    },
    {
      "cell_type": "code",
      "metadata": {
        "id": "DkDiSK33FXfK"
      },
      "source": [
        "cdf_fitted = stats.triang.cdf(x, c=c, loc=a, scale=b)\n",
        "plt.hist(elect_price,bins=50,density=True,cumulative=True)\n",
        "plt.plot(x,cdf_fitted, label='triang', color = 'red')"
      ],
      "execution_count": null,
      "outputs": []
    },
    {
      "cell_type": "markdown",
      "metadata": {
        "id": "uve8SA24FulU"
      },
      "source": [
        "### Fitting a Distribution to Wind Speed"
      ]
    },
    {
      "cell_type": "code",
      "metadata": {
        "id": "LG33LKT9GeWY"
      },
      "source": [
        "wind_speed_data = pd.read_excel(\"Wind_Invest_Data.xlsx\",sheet_name=\"Wind_Speed\")\n",
        "print(wind_speed_data.head(10),'\\n')\n",
        "\n",
        "#Getting summary statistics\n",
        "print('Summary Statistics for Wind Speed')\n",
        "print(wind_speed_data.iloc[:,1].describe())\n",
        "\n",
        "#just transforming data frame into num py array to facilitate reference\n",
        "wind_speed = np.array(wind_speed_data.iloc[:,1])\n"
      ],
      "execution_count": null,
      "outputs": []
    },
    {
      "cell_type": "code",
      "metadata": {
        "id": "etjNiygLG7d5"
      },
      "source": [
        "#Plotting histogram of observed data with density in the Y axis\n",
        "plt.hist(wind_speed,bins=50,density=True)\n",
        "plt.show(). ##eliminate all the bins print"
      ],
      "execution_count": null,
      "outputs": []
    },
    {
      "cell_type": "markdown",
      "metadata": {
        "id": "Cs4j1QfQIbdq"
      },
      "source": [
        "#### Exercise 1: Fit a lognormal to the data"
      ]
    },
    {
      "cell_type": "code",
      "metadata": {
        "id": "cXANPQF5H7Jj"
      },
      "source": [
        "#Fit a lognormal to observed data using .fit()\n",
        "params = stats.lognorm.fit(wind_speed)\n",
        "print(params)\n",
        "[shape, loc, scale]=params\n",
        "\n",
        "#Create vector with bins\n",
        "min_price=np.min(wind_speed)\n",
        "max_price=np.max(wind_speed)\n",
        "x = np.linspace(start=min_price,stop=max_price,num=50)\n",
        "\n",
        "#Compute theoretical pdf and cdf\n",
        "pdf_fitted_L = stats.lognorm.pdf(x, s=shape, loc=loc, scale=scale)\n",
        "cdf_fitted_L = stats.lognorm.cdf(x, s=shape, loc=loc, scale=scale)\n",
        "\n",
        "#Print both pdfs together\n",
        "plt.hist(wind_speed,bins=50,density=True)\n",
        "plt.plot(x,pdf_fitted_L, label='triang', color = 'red')\n",
        "\n",
        "plt.figure()\n",
        "plt.hist(wind_speed,bins=50,density=True,cumulative=True)\n",
        "plt.plot(x,cdf_fitted_L, label='triang', color = 'red')"
      ],
      "execution_count": null,
      "outputs": []
    },
    {
      "cell_type": "markdown",
      "metadata": {
        "id": "NzJ81uf6Kw47"
      },
      "source": [
        "#### Exercise 2: Fit a Weibull to the data"
      ]
    },
    {
      "cell_type": "markdown",
      "metadata": {
        "id": "rlGCoBQqK1Dq"
      },
      "source": [
        "Copy and paste the code chunk from Exercise 1 and adpat it to the weibull fitting. The Weibull distribution is called **weibull_min** in scipy."
      ]
    },
    {
      "cell_type": "code",
      "metadata": {
        "id": "AztUpL0bLJJ3"
      },
      "source": [
        "#YOUR CODE#"
      ],
      "execution_count": null,
      "outputs": []
    },
    {
      "cell_type": "markdown",
      "metadata": {
        "id": "-tHO6WieLlmG"
      },
      "source": [
        "#### Exercise 3: Generate a single plot with pdf for observed, theoretical Lognormal and theorical Weibull"
      ]
    },
    {
      "cell_type": "code",
      "metadata": {
        "id": "E_dk6WcTL1xL"
      },
      "source": [
        "plt.hist(wind_speed,bins=50,density=True,color='gray')\n",
        "##YOUR CODE##\n"
      ],
      "execution_count": null,
      "outputs": []
    },
    {
      "cell_type": "code",
      "metadata": {
        "id": "4GjzFqF2MZpw"
      },
      "source": [
        "plt.hist(wind_speed,bins=50,density=True,cumulative=True,color='gray')\n",
        "##YOUR CODE##\n"
      ],
      "execution_count": null,
      "outputs": []
    }
  ]
}