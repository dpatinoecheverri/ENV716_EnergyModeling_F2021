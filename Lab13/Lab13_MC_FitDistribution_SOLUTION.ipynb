{
  "nbformat": 4,
  "nbformat_minor": 0,
  "metadata": {
    "kernelspec": {
      "display_name": "Python 3",
      "language": "python",
      "name": "python3"
    },
    "language_info": {
      "codemirror_mode": {
        "name": "ipython",
        "version": 3
      },
      "file_extension": ".py",
      "mimetype": "text/x-python",
      "name": "python",
      "nbconvert_exporter": "python",
      "pygments_lexer": "ipython3",
      "version": "3.7.4"
    },
    "colab": {
      "name": "Lab13_MC_FitDistribution_SOLUTION.ipynb",
      "provenance": [],
      "collapsed_sections": [
        "Xq_cLMJ--mI0"
      ],
      "toc_visible": true,
      "include_colab_link": true
    }
  },
  "cells": [
    {
      "cell_type": "markdown",
      "metadata": {
        "id": "view-in-github",
        "colab_type": "text"
      },
      "source": [
        "<a href=\"https://colab.research.google.com/github/lmmlima/ENV716_EnergyModeling_F2021/blob/main/Lab13/Lab13_MC_FitDistribution_SOLUTION.ipynb\" target=\"_parent\"><img src=\"https://colab.research.google.com/assets/colab-badge.svg\" alt=\"Open In Colab\"/></a>"
      ]
    },
    {
      "cell_type": "markdown",
      "metadata": {
        "id": "WJcTHdvPaWgs"
      },
      "source": [
        "# **Lab 13 - Monte Carlo Part 2: Fitting Distribution to Data in Python**"
      ]
    },
    {
      "cell_type": "markdown",
      "metadata": {
        "id": "4Xj-qvHDaebA"
      },
      "source": [
        "In this lab we will learn how to fit distributions to data sets. The specific learning outcomes are:\n",
        "* Get familiar with the library scipy.stats and its functios *.fit()*;\n",
        "* Understand how to use the parameters estimated on the *.fit()* to calculate values for theoretical cdf and pdf;\n",
        "* Get familiar with *np.linspace()*;\n",
        "* Get familiar with matplotlib.pyplot and how to plot more than one series in the same graph.\n"
      ]
    },
    {
      "cell_type": "markdown",
      "metadata": {
        "id": "Xq_cLMJ--mI0"
      },
      "source": [
        "## Initializing"
      ]
    },
    {
      "cell_type": "code",
      "metadata": {
        "colab": {
          "base_uri": "https://localhost:8080/"
        },
        "id": "epLSaN6gaQK8",
        "outputId": "edfbe73c-1a99-4631-ccaa-5c075d446747"
      },
      "source": [
        "from google.colab import drive\n",
        "drive.mount('/content/drive')"
      ],
      "execution_count": 1,
      "outputs": [
        {
          "output_type": "stream",
          "name": "stdout",
          "text": [
            "Mounted at /content/drive\n"
          ]
        }
      ]
    },
    {
      "cell_type": "code",
      "metadata": {
        "id": "vEXB0YkxaUsJ"
      },
      "source": [
        "import os\n",
        "os.chdir('/content/drive/MyDrive/Colab Notebooks/')"
      ],
      "execution_count": 2,
      "outputs": []
    },
    {
      "cell_type": "code",
      "metadata": {
        "id": "mkwDX4wQaAYz"
      },
      "source": [
        "#Start by loading necessary packages\n",
        "import numpy as np\n",
        "import pandas as pd\n",
        "import matplotlib.pyplot as plt\n",
        "import scipy.stats as stats\n",
        "import random"
      ],
      "execution_count": 3,
      "outputs": []
    },
    {
      "cell_type": "markdown",
      "metadata": {
        "id": "lqiXs-g2bAYV"
      },
      "source": [
        "## Wind Investment Problem"
      ]
    },
    {
      "cell_type": "markdown",
      "metadata": {
        "id": "9GJbAHgU_wMG"
      },
      "source": [
        "Recall the wind investment example from lectures. We had two uncertainties **electricity prices** and **wind speed**. Let's see how we could use Monte Carlo to generate scenarios for the two random variables. We learned on Lab 12 how to draw random variates from known distribution. But this time we don't knwo the distribution a priori, we need to fit a distribution first. \n"
      ]
    },
    {
      "cell_type": "markdown",
      "metadata": {
        "id": "YcAve8VjJAlR"
      },
      "source": [
        "### Fitting a Distribution to **Electricity** Prices"
      ]
    },
    {
      "cell_type": "markdown",
      "metadata": {
        "id": "Tl2WA7XtIpeJ"
      },
      "source": [
        "\n",
        "Let's start by importing the data using *pd.read_excel()*. Then let's print summary statistics using function *.describe()*"
      ]
    },
    {
      "cell_type": "code",
      "metadata": {
        "colab": {
          "base_uri": "https://localhost:8080/"
        },
        "id": "6Gn35C_La_YN",
        "outputId": "9d3875e1-5e59-46a3-9272-3dde1b0a7728"
      },
      "source": [
        "elect_price_data = pd.read_excel(\"Wind_Invest_Data.xlsx\",sheet_name=\"Elect_Prices\")\n",
        "print(elect_price_data.head(10),'\\n')\n",
        "\n",
        "#Getting summary statistics\n",
        "print('Summary Statistics for Electricity Price')\n",
        "print(elect_price_data.iloc[:,1].describe())\n",
        "\n",
        "#just transforming data frame into num py array to facilitate reference\n",
        "elect_price = np.array(elect_price_data.iloc[:,1])"
      ],
      "execution_count": 35,
      "outputs": [
        {
          "output_type": "stream",
          "name": "stdout",
          "text": [
            "   Hour  Electricity price\n",
            "0     1           4.446125\n",
            "1     2           9.039633\n",
            "2     3           9.399392\n",
            "3     4           8.439115\n",
            "4     5           7.955879\n",
            "5     6           7.388054\n",
            "6     7           7.313168\n",
            "7     8           6.232476\n",
            "8     9           5.470214\n",
            "9    10           8.612073 \n",
            "\n",
            "Summary Statistics for Electricity Price\n",
            "count    8760.000000\n",
            "mean        7.319906\n",
            "std         1.842613\n",
            "min         3.009549\n",
            "25%         5.990015\n",
            "50%         7.228339\n",
            "75%         8.607014\n",
            "max        11.920589\n",
            "Name: Electricity price, dtype: float64\n"
          ]
        }
      ]
    },
    {
      "cell_type": "code",
      "metadata": {
        "colab": {
          "base_uri": "https://localhost:8080/",
          "height": 282
        },
        "id": "YYLdYIjMawci",
        "outputId": "b784bd2e-3276-42ab-f463-fb58728ae26c"
      },
      "source": [
        "#Initial plot of data\n",
        "plt.plot(elect_price)"
      ],
      "execution_count": 36,
      "outputs": [
        {
          "output_type": "execute_result",
          "data": {
            "text/plain": [
              "[<matplotlib.lines.Line2D at 0x7f691ee23110>]"
            ]
          },
          "metadata": {},
          "execution_count": 36
        },
        {
          "output_type": "display_data",
          "data": {
            "image/png": "[encoded data removed]",
            "text/plain": [
              "<Figure size 432x288 with 1 Axes>"
            ]
          },
          "metadata": {
            "needs_background": "light"
          }
        }
      ]
    },
    {
      "cell_type": "markdown",
      "metadata": {
        "id": "RiNxG2L_ZwTz"
      },
      "source": [
        "Once you have the data, you need to fit a distribution to your data. \n",
        "We will use scipy.stats. A list of distributions available with scipy.stats is available [here](https://docs.scipy.org/doc/scipy/reference/stats.html#continuous-distributions)\n",
        "\n",
        "* Step 1: Draw a histogram to choose candidate(s) probability distribution. \n",
        "* Step 2: Estimate the parameters of the hypothesized distribution for the sample - in Python, parameters will be estimated automatically using *stats.**dist**.fit()*.\n",
        "* Step 3: Once you have the parameters calculate the theoritical pdf for the same intervals you used in the histogram you created on Step 1. Compare theoritical with observed.\n",
        "* Step 4: Repeat Step 3, but now for the cdf.\n",
        "\n"
      ]
    },
    {
      "cell_type": "code",
      "metadata": {
        "id": "srlKVkKsZVAO",
        "colab": {
          "base_uri": "https://localhost:8080/",
          "height": 560
        },
        "outputId": "8294b859-5e5f-4da2-9dec-a2d95fb010df"
      },
      "source": [
        "#Plotting histogram of observed data with frequency in the Y axis\n",
        "plt.hist(elect_price,bins=50)"
      ],
      "execution_count": 38,
      "outputs": [
        {
          "output_type": "execute_result",
          "data": {
            "text/plain": [
              "(array([ 11.,  22.,  50.,  45.,  72.,  82.,  90., 119., 144., 143., 152.,\n",
              "        183., 209., 229., 228., 251., 234., 292., 310., 273., 293., 356.,\n",
              "        359., 331., 300., 336., 288., 280., 268., 268., 244., 218., 225.,\n",
              "        210., 196., 172., 167., 162., 144., 132., 110., 102.,  97., 101.,\n",
              "         66.,  73.,  42.,  40.,  27.,  14.]),\n",
              " array([ 3.00954873,  3.18776954,  3.36599035,  3.54421116,  3.72243196,\n",
              "         3.90065277,  4.07887358,  4.25709439,  4.4353152 ,  4.61353601,\n",
              "         4.79175682,  4.96997762,  5.14819843,  5.32641924,  5.50464005,\n",
              "         5.68286086,  5.86108167,  6.03930248,  6.21752329,  6.39574409,\n",
              "         6.5739649 ,  6.75218571,  6.93040652,  7.10862733,  7.28684814,\n",
              "         7.46506895,  7.64328976,  7.82151056,  7.99973137,  8.17795218,\n",
              "         8.35617299,  8.5343938 ,  8.71261461,  8.89083542,  9.06905623,\n",
              "         9.24727703,  9.42549784,  9.60371865,  9.78193946,  9.96016027,\n",
              "        10.13838108, 10.31660189, 10.4948227 , 10.6730435 , 10.85126431,\n",
              "        11.02948512, 11.20770593, 11.38592674, 11.56414755, 11.74236836,\n",
              "        11.92058916]),\n",
              " <a list of 50 Patch objects>)"
            ]
          },
          "metadata": {},
          "execution_count": 38
        },
        {
          "output_type": "display_data",
          "data": {
            "image/png": "[encoded data removed]",
            "text/plain": [
              "<Figure size 432x288 with 1 Axes>"
            ]
          },
          "metadata": {
            "needs_background": "light"
          }
        }
      ]
    },
    {
      "cell_type": "code",
      "metadata": {
        "colab": {
          "base_uri": "https://localhost:8080/",
          "height": 646
        },
        "id": "P_DDlqpzhAxB",
        "outputId": "33251bd2-c967-40b1-d741-fdee04f742d0"
      },
      "source": [
        "#Plotting histogram of observed data with density in the Y axis\n",
        "plt.hist(elect_price,bins=50,density=True)"
      ],
      "execution_count": 42,
      "outputs": [
        {
          "output_type": "execute_result",
          "data": {
            "text/plain": [
              "(array([0.0070458 , 0.0140916 , 0.03202635, 0.02882372, 0.04611795,\n",
              "        0.05252322, 0.05764744, 0.07622272, 0.0922359 , 0.09159537,\n",
              "        0.09736011, 0.11721645, 0.13387016, 0.1466807 , 0.14604017,\n",
              "        0.16077229, 0.14988333, 0.1870339 , 0.19856339, 0.17486389,\n",
              "        0.18767443, 0.22802763, 0.22994922, 0.21201446, 0.19215812,\n",
              "        0.21521709, 0.18447179, 0.17934758, 0.17166125, 0.17166125,\n",
              "        0.1562886 , 0.1396349 , 0.14411859, 0.13451068, 0.1255433 ,\n",
              "        0.11017065, 0.10696802, 0.10376538, 0.0922359 , 0.08454957,\n",
              "        0.07045798, 0.06533376, 0.06213113, 0.06469323, 0.04227479,\n",
              "        0.04675848, 0.02690214, 0.02562108, 0.01729423, 0.00896738]),\n",
              " array([ 3.00954873,  3.18776954,  3.36599035,  3.54421116,  3.72243196,\n",
              "         3.90065277,  4.07887358,  4.25709439,  4.4353152 ,  4.61353601,\n",
              "         4.79175682,  4.96997762,  5.14819843,  5.32641924,  5.50464005,\n",
              "         5.68286086,  5.86108167,  6.03930248,  6.21752329,  6.39574409,\n",
              "         6.5739649 ,  6.75218571,  6.93040652,  7.10862733,  7.28684814,\n",
              "         7.46506895,  7.64328976,  7.82151056,  7.99973137,  8.17795218,\n",
              "         8.35617299,  8.5343938 ,  8.71261461,  8.89083542,  9.06905623,\n",
              "         9.24727703,  9.42549784,  9.60371865,  9.78193946,  9.96016027,\n",
              "        10.13838108, 10.31660189, 10.4948227 , 10.6730435 , 10.85126431,\n",
              "        11.02948512, 11.20770593, 11.38592674, 11.56414755, 11.74236836,\n",
              "        11.92058916]),\n",
              " <a list of 50 Patch objects>)"
            ]
          },
          "metadata": {},
          "execution_count": 42
        },
        {
          "output_type": "display_data",
          "data": {
            "image/png": "[encoded data removed]",
            "text/plain": [
              "<Figure size 432x288 with 1 Axes>"
            ]
          },
          "metadata": {
            "needs_background": "light"
          }
        }
      ]
    },
    {
      "cell_type": "markdown",
      "metadata": {
        "id": "GqXP945sfhQ1"
      },
      "source": [
        "From the pdf plot, it looks like electricity prices follow a triangular distribution. The Triangular Distribution has three parameters:\n",
        "* **a**: lower limit location parameter; \n",
        "* **b**: upper limit location parameter; and\n",
        "* **c**: shape parameter that defines the mode or peak of the triangle."
      ]
    },
    {
      "cell_type": "code",
      "metadata": {
        "colab": {
          "base_uri": "https://localhost:8080/"
        },
        "id": "sG7u6JrGdnOt",
        "outputId": "02334817-4b45-4cb8-f292-3f015623597f"
      },
      "source": [
        "#Fit a tringular to observed data using .fit()\n",
        "params = stats.triang.fit(elect_price)\n",
        "print(params)"
      ],
      "execution_count": 39,
      "outputs": [
        {
          "output_type": "stream",
          "name": "stdout",
          "text": [
            "(0.44355209078584756, 2.9737042398196056, 9.02862750289793)\n"
          ]
        }
      ]
    },
    {
      "cell_type": "markdown",
      "metadata": {
        "id": "cNqGAS5mDK-o"
      },
      "source": [
        "Note *params* has three parameters. The *.fit()* used the three-point estimation technique. The three parameters are then combined to yield either the full probability distribution. The first parameters is shape, second is location and third is scale. This will change depending on which distribution you are trying to fit. Always check the scipy documentation for more information. "
      ]
    },
    {
      "cell_type": "code",
      "metadata": {
        "id": "NVa8FWcggMBG"
      },
      "source": [
        "c = params[0] #shape\n",
        "a = params[1] #location i.e. minimum value for the triangular\n",
        "b = params[2] #scale i.e. maximum value for the triangular\n"
      ],
      "execution_count": 12,
      "outputs": []
    },
    {
      "cell_type": "markdown",
      "metadata": {
        "id": "F9SRkHqLCzaM"
      },
      "source": [
        "Based on this fit, let's calculate the theorical pdf. First we will need a vector with the same bins from our hsitogram. We used 50 bins, we use the min and max from the observed prices to calculate the bins using function *np.linspace()*."
      ]
    },
    {
      "cell_type": "code",
      "metadata": {
        "colab": {
          "base_uri": "https://localhost:8080/"
        },
        "id": "jDyZZH-yhL1G",
        "outputId": "152b2578-c526-461e-e2af-75c3414ce884"
      },
      "source": [
        "min_price=np.min(elect_price)\n",
        "max_price=np.max(elect_price)\n",
        "x = np.linspace(start=min_price,stop=max_price,num=50)\n",
        "print(x)"
      ],
      "execution_count": 40,
      "outputs": [
        {
          "output_type": "stream",
          "name": "stdout",
          "text": [
            "[ 3.00954873  3.1914067   3.37326467  3.55512263  3.7369806   3.91883857\n",
            "  4.10069654  4.28255451  4.46441247  4.64627044  4.82812841  5.00998638\n",
            "  5.19184435  5.37370231  5.55556028  5.73741825  5.91927622  6.10113419\n",
            "  6.28299215  6.46485012  6.64670809  6.82856606  7.01042403  7.19228199\n",
            "  7.37413996  7.55599793  7.7378559   7.91971387  8.10157184  8.2834298\n",
            "  8.46528777  8.64714574  8.82900371  9.01086168  9.19271964  9.37457761\n",
            "  9.55643558  9.73829355  9.92015152 10.10200948 10.28386745 10.46572542\n",
            " 10.64758339 10.82944136 11.01129932 11.19315729 11.37501526 11.55687323\n",
            " 11.7387312  11.92058916]\n"
          ]
        }
      ]
    },
    {
      "cell_type": "markdown",
      "metadata": {
        "id": "MvgOQBC3EbYg"
      },
      "source": [
        "Note x corresponds to the array we had displayed before the histogram. Now we need to get theoretical pdf for each of those values using *stats.**dist**.pdf()*."
      ]
    },
    {
      "cell_type": "code",
      "metadata": {
        "colab": {
          "base_uri": "https://localhost:8080/"
        },
        "id": "ZZgqBb-vtNBb",
        "outputId": "160abebc-7178-4a62-cc79-a187dc0cced7"
      },
      "source": [
        "pdf_fitted = stats.triang.pdf(x, c=c, loc=a, scale=b)\n",
        "print(pdf_fitted)"
      ],
      "execution_count": 41,
      "outputs": [
        {
          "output_type": "stream",
          "name": "stdout",
          "text": [
            "[0.00198273 0.01204218 0.02210163 0.03216108 0.04222053 0.05227998\n",
            " 0.06233943 0.07239888 0.08245833 0.09251778 0.10257723 0.11263668\n",
            " 0.12269613 0.13275558 0.14281503 0.15287448 0.16293393 0.17299338\n",
            " 0.18305283 0.19311228 0.20317173 0.21323118 0.22010432 0.21208579\n",
            " 0.20406727 0.19604875 0.18803023 0.1800117  0.17199318 0.16397466\n",
            " 0.15595614 0.14793761 0.13991909 0.13190057 0.12388205 0.11586352\n",
            " 0.107845   0.09982648 0.09180796 0.08378944 0.07577091 0.06775239\n",
            " 0.05973387 0.05171535 0.04369682 0.0356783  0.02765978 0.01964126\n",
            " 0.01162273 0.00360421]\n"
          ]
        }
      ]
    },
    {
      "cell_type": "markdown",
      "metadata": {
        "id": "FajqdQmDFBke"
      },
      "source": [
        "Now let's plot theoretical cdf and observed histogram just like we did in Excel."
      ]
    },
    {
      "cell_type": "code",
      "metadata": {
        "colab": {
          "base_uri": "https://localhost:8080/",
          "height": 282
        },
        "id": "h49YneeaJ07F",
        "outputId": "956252d6-2234-433a-8c2f-7c5193f304e8"
      },
      "source": [
        "plt.hist(elect_price,bins=50,density=True)\n",
        "plt.plot(x,pdf_fitted, label='triang', color = 'red')"
      ],
      "execution_count": 44,
      "outputs": [
        {
          "output_type": "execute_result",
          "data": {
            "text/plain": [
              "[<matplotlib.lines.Line2D at 0x7f691eca8550>]"
            ]
          },
          "metadata": {},
          "execution_count": 44
        },
        {
          "output_type": "display_data",
          "data": {
            "image/png": "[encoded data removed]",
            "text/plain": [
              "<Figure size 432x288 with 1 Axes>"
            ]
          },
          "metadata": {
            "needs_background": "light"
          }
        }
      ]
    },
    {
      "cell_type": "markdown",
      "metadata": {
        "id": "jgZ-RZ6dFSBq"
      },
      "source": [
        "Repeating the process for the cdf."
      ]
    },
    {
      "cell_type": "code",
      "metadata": {
        "colab": {
          "base_uri": "https://localhost:8080/",
          "height": 282
        },
        "id": "DkDiSK33FXfK",
        "outputId": "ba58418d-8d74-4325-d9d8-a327db329892"
      },
      "source": [
        "cdf_fitted = stats.triang.cdf(x, c=c, loc=a, scale=b)\n",
        "plt.hist(elect_price,bins=50,density=True,cumulative=True)\n",
        "plt.plot(x,cdf_fitted, label='triang', color = 'red')"
      ],
      "execution_count": 46,
      "outputs": [
        {
          "output_type": "execute_result",
          "data": {
            "text/plain": [
              "[<matplotlib.lines.Line2D at 0x7f691f230910>]"
            ]
          },
          "metadata": {},
          "execution_count": 46
        },
        {
          "output_type": "display_data",
          "data": {
            "image/png": "[encoded data removed]",
            "text/plain": [
              "<Figure size 432x288 with 1 Axes>"
            ]
          },
          "metadata": {
            "needs_background": "light"
          }
        }
      ]
    },
    {
      "cell_type": "markdown",
      "metadata": {
        "id": "uve8SA24FulU"
      },
      "source": [
        "### Fitting a Distribution to Wind Speed"
      ]
    },
    {
      "cell_type": "code",
      "metadata": {
        "colab": {
          "base_uri": "https://localhost:8080/"
        },
        "id": "LG33LKT9GeWY",
        "outputId": "e95df3e6-da6f-422d-fe72-6c5bdb4505a0"
      },
      "source": [
        "wind_speed_data = pd.read_excel(\"Wind_Invest_Data.xlsx\",sheet_name=\"Wind_Speed\")\n",
        "print(wind_speed_data.head(10),'\\n')\n",
        "\n",
        "#Getting summary statistics\n",
        "print('Summary Statistics for Wind Speed')\n",
        "print(wind_speed_data.iloc[:,1].describe())\n",
        "\n",
        "#just transforming data frame into num py array to facilitate reference\n",
        "wind_speed = np.array(wind_speed_data.iloc[:,1])\n"
      ],
      "execution_count": 47,
      "outputs": [
        {
          "output_type": "stream",
          "name": "stdout",
          "text": [
            "   Hour  Wind speed\n",
            "0     1    6.751494\n",
            "1     2    0.622990\n",
            "2     3    3.393581\n",
            "3     4    9.358401\n",
            "4     5    1.028652\n",
            "5     6    1.702179\n",
            "6     7    9.103161\n",
            "7     8    6.641888\n",
            "8     9    1.564633\n",
            "9    10    2.920598 \n",
            "\n",
            "Summary Statistics for Wind Speed\n",
            "count    23998.000000\n",
            "mean         4.807075\n",
            "std          3.157123\n",
            "min          0.002110\n",
            "25%          2.402191\n",
            "50%          4.231052\n",
            "75%          6.578301\n",
            "max         22.070426\n",
            "Name: Wind speed, dtype: float64\n"
          ]
        }
      ]
    },
    {
      "cell_type": "code",
      "metadata": {
        "colab": {
          "base_uri": "https://localhost:8080/",
          "height": 265
        },
        "id": "etjNiygLG7d5",
        "outputId": "3f0a9d6b-9407-4f34-9888-03e516f6ad4e"
      },
      "source": [
        "#Plotting histogram of observed data with density in the Y axis\n",
        "plt.hist(wind_speed,bins=50,density=True)\n",
        "plt.show() ##eliminate all the bins print"
      ],
      "execution_count": 49,
      "outputs": [
        {
          "output_type": "display_data",
          "data": {
            "image/png": "[encoded data removed]",
            "text/plain": [
              "<Figure size 432x288 with 1 Axes>"
            ]
          },
          "metadata": {
            "needs_background": "light"
          }
        }
      ]
    },
    {
      "cell_type": "markdown",
      "metadata": {
        "id": "Cs4j1QfQIbdq"
      },
      "source": [
        "#### Exercise 1: Fit a lognormal to the data"
      ]
    },
    {
      "cell_type": "code",
      "metadata": {
        "colab": {
          "base_uri": "https://localhost:8080/",
          "height": 548
        },
        "id": "cXANPQF5H7Jj",
        "outputId": "0669fd94-44db-4c2c-90ca-cb72974cc5af"
      },
      "source": [
        "#Fit a lognormal to observed data using .fit()\n",
        "params = stats.lognorm.fit(wind_speed)\n",
        "print(params)\n",
        "[shape, loc, scale]=params\n",
        "\n",
        "#Create vector with bins\n",
        "min_speed=np.min(wind_speed)\n",
        "max_speed=np.max(wind_speed)\n",
        "x = np.linspace(start=min_speed,stop=max_speed,num=50)\n",
        "#print(x)\n",
        "\n",
        "#Compute theoretical pdf and cdf\n",
        "pdf_fitted_L = stats.lognorm.pdf(x, s=shape, loc=loc, scale=scale)\n",
        "cdf_fitted_L = stats.lognorm.cdf(x, s=shape, loc=loc, scale=scale)\n",
        "\n",
        "#Print both pdfs together\n",
        "plt.hist(wind_speed,bins=50,density=True)\n",
        "plt.plot(x,pdf_fitted_L, label='lognorm', color = 'red')\n",
        "\n",
        "plt.figure()\n",
        "plt.hist(wind_speed,bins=50,density=True,cumulative=True)\n",
        "plt.plot(x,cdf_fitted_L, label='lognorm', color = 'red')"
      ],
      "execution_count": 55,
      "outputs": [
        {
          "output_type": "stream",
          "name": "stdout",
          "text": [
            "(0.4738341288044157, -1.8546338354450902, 5.9702547250690845)\n"
          ]
        },
        {
          "output_type": "execute_result",
          "data": {
            "text/plain": [
              "[<matplotlib.lines.Line2D at 0x7f691ce4be90>]"
            ]
          },
          "metadata": {},
          "execution_count": 55
        },
        {
          "output_type": "display_data",
          "data": {
            "image/png": "[encoded data removed]",
            "text/plain": [
              "<Figure size 432x288 with 1 Axes>"
            ]
          },
          "metadata": {
            "needs_background": "light"
          }
        },
        {
          "output_type": "display_data",
          "data": {
            "image/png": "[encoded data removed]",
            "text/plain": [
              "<Figure size 432x288 with 1 Axes>"
            ]
          },
          "metadata": {
            "needs_background": "light"
          }
        }
      ]
    },
    {
      "cell_type": "markdown",
      "metadata": {
        "id": "NzJ81uf6Kw47"
      },
      "source": [
        "#### Exercise 2: Fit a Weibull to the data"
      ]
    },
    {
      "cell_type": "markdown",
      "metadata": {
        "id": "rlGCoBQqK1Dq"
      },
      "source": [
        "Copy and paste the code chunk from Exercise 1 and adpat it to the weibull fitting. The Weibull distribution is called **weibull_min** in scipy."
      ]
    },
    {
      "cell_type": "code",
      "metadata": {
        "colab": {
          "base_uri": "https://localhost:8080/",
          "height": 548
        },
        "id": "AztUpL0bLJJ3",
        "outputId": "243ec0bf-fb6c-4ba7-88dc-8c7a4e12bed2"
      },
      "source": [
        "#Fit a weibull to observed data using .fit()\n",
        "params = stats.weibull_min.fit(wind_speed)\n",
        "print(params)\n",
        "#Note that shape corresponds to the k parameter you calculated using Excel\n",
        "#And scale is the lambda\n",
        "[shape, loc, scale]=params\n",
        "\n",
        "\n",
        "#Create vector with bins\n",
        "min_price=np.min(wind_speed)\n",
        "max_price=np.max(wind_speed)\n",
        "x = np.linspace(start=min_price,stop=max_price,num=50)\n",
        "\n",
        "#Compute theoretical pdf and cdf\n",
        "pdf_fitted_W = stats.weibull_min.pdf(x, c=shape, loc=loc, scale=scale)\n",
        "cdf_fitted_W = stats.weibull_min.cdf(x, c=shape, loc=loc, scale=scale)\n",
        "\n",
        "#Print both pdfs together\n",
        "plt.hist(wind_speed,bins=50,density=True)\n",
        "plt.plot(x,pdf_fitted_W, label='weibull', color = 'red')\n",
        "\n",
        "plt.figure()\n",
        "plt.hist(wind_speed,bins=50,density=True,cumulative=True)\n",
        "plt.plot(x,cdf_fitted_W, label='weibull', color = 'red')"
      ],
      "execution_count": 56,
      "outputs": [
        {
          "output_type": "stream",
          "name": "stdout",
          "text": [
            "(1.5554225879235488, -0.0013708136378058362, 5.348201296102402)\n"
          ]
        },
        {
          "output_type": "execute_result",
          "data": {
            "text/plain": [
              "[<matplotlib.lines.Line2D at 0x7f691d34ac10>]"
            ]
          },
          "metadata": {},
          "execution_count": 56
        },
        {
          "output_type": "display_data",
          "data": {
            "image/png": "[encoded data removed]",
            "text/plain": [
              "<Figure size 432x288 with 1 Axes>"
            ]
          },
          "metadata": {
            "needs_background": "light"
          }
        },
        {
          "output_type": "display_data",
          "data": {
            "image/png": "[encoded data removed]",
            "text/plain": [
              "<Figure size 432x288 with 1 Axes>"
            ]
          },
          "metadata": {
            "needs_background": "light"
          }
        }
      ]
    },
    {
      "cell_type": "markdown",
      "metadata": {
        "id": "-tHO6WieLlmG"
      },
      "source": [
        "#### Exercise 3: Generate a single plot with pdf for observed, theoretical Lognormal and theorical Weibull"
      ]
    },
    {
      "cell_type": "code",
      "metadata": {
        "colab": {
          "base_uri": "https://localhost:8080/",
          "height": 282
        },
        "id": "E_dk6WcTL1xL",
        "outputId": "82cacca1-3df7-476e-fbbc-75ed05d4532e"
      },
      "source": [
        "plt.hist(wind_speed,bins=50,density=True,color='gray')\n",
        "plt.plot(x,pdf_fitted_L, label='lognormal', color = 'red')\n",
        "plt.plot(x,pdf_fitted_W, label='weibull', color = 'orange')\n",
        "plt.legend(loc='upper right')\n",
        "\n"
      ],
      "execution_count": 57,
      "outputs": [
        {
          "output_type": "execute_result",
          "data": {
            "text/plain": [
              "<matplotlib.legend.Legend at 0x7f691daf3490>"
            ]
          },
          "metadata": {},
          "execution_count": 57
        },
        {
          "output_type": "display_data",
          "data": {
            "image/png": "[encoded data removed]",
            "text/plain": [
              "<Figure size 432x288 with 1 Axes>"
            ]
          },
          "metadata": {
            "needs_background": "light"
          }
        }
      ]
    },
    {
      "cell_type": "code",
      "metadata": {
        "colab": {
          "base_uri": "https://localhost:8080/",
          "height": 282
        },
        "id": "4GjzFqF2MZpw",
        "outputId": "4c26424d-1d4f-42da-b4e6-1e64b0e6cab2"
      },
      "source": [
        "plt.hist(wind_speed,bins=50,density=True,cumulative=True,color='gray')\n",
        "plt.plot(x,cdf_fitted_L, label='lognormal', color = 'red')\n",
        "plt.plot(x,cdf_fitted_W, label='weibull', color = 'orange')\n",
        "plt.legend(loc='upper left')\n",
        "\n"
      ],
      "execution_count": 58,
      "outputs": [
        {
          "output_type": "execute_result",
          "data": {
            "text/plain": [
              "<matplotlib.legend.Legend at 0x7f691f343e50>"
            ]
          },
          "metadata": {},
          "execution_count": 58
        },
        {
          "output_type": "display_data",
          "data": {
            "image/png": "[encoded data removed]",
            "text/plain": [
              "<Figure size 432x288 with 1 Axes>"
            ]
          },
          "metadata": {
            "needs_background": "light"
          }
        }
      ]
    }
  ]
}