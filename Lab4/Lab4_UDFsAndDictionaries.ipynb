{
  "nbformat": 4,
  "nbformat_minor": 0,
  "metadata": {
    "kernelspec": {
      "display_name": "Python 3",
      "language": "python",
      "name": "python3"
    },
    "language_info": {
      "codemirror_mode": {
        "name": "ipython",
        "version": 3
      },
      "file_extension": ".py",
      "mimetype": "text/x-python",
      "name": "python",
      "nbconvert_exporter": "python",
      "pygments_lexer": "ipython3",
      "version": "3.7.4"
    },
    "colab": {
      "name": "Lab4_UDFsAndDictionaries.ipynb",
      "provenance": [],
      "collapsed_sections": [],
      "toc_visible": true,
      "include_colab_link": true
    }
  },
  "cells": [
    {
      "cell_type": "markdown",
      "metadata": {
        "id": "view-in-github",
        "colab_type": "text"
      },
      "source": [
        "<a href=\"https://colab.research.google.com/github/lmmlima/ENV716_EnergyModeling_F2021/blob/main/Lab4/Lab4_UDFsAndDictionaries.ipynb\" target=\"_parent\"><img src=\"https://colab.research.google.com/assets/colab-badge.svg\" alt=\"Open In Colab\"/></a>"
      ]
    },
    {
      "cell_type": "markdown",
      "metadata": {
        "id": "N6qkW4Bq9lca"
      },
      "source": [
        "# **Lab 4 – User Defined Function (UDF) and Dictionaries in Python**"
      ]
    },
    {
      "cell_type": "markdown",
      "metadata": {
        "id": "6EOoaHxC98Lh"
      },
      "source": [
        "Learning goals for Lab 4:\n",
        "* Learn how to create your own functions or a User Defined Function (UDF);\n",
        "* Learn how to call your function and store the output;\n",
        "* Learn how to improve your functions to make it more user friendly with IF statements;\n",
        "* Learn how to create a dictionary and how to use within a function definition.\n",
        "\n",
        "A function is a block of code that is only run when called. They are useful because they can be used repeatedly without the need to repeat all the code. Once you create a function it can be called within other functions, loop structurse and even from Python prompt.\n",
        "\n"
      ]
    },
    {
      "cell_type": "code",
      "metadata": {
        "colab": {
          "base_uri": "https://localhost:8080/"
        },
        "id": "TPHOrFrE9vZk",
        "outputId": "0ba96542-9d5b-4f72-b03b-ffc927d32dfe"
      },
      "source": [
        "from google.colab import drive\n",
        "drive.mount('/content/drive')"
      ],
      "execution_count": 1,
      "outputs": [
        {
          "output_type": "stream",
          "name": "stdout",
          "text": [
            "Mounted at /content/drive\n"
          ]
        }
      ]
    },
    {
      "cell_type": "code",
      "metadata": {
        "id": "CvUpCMsS-K0L"
      },
      "source": [
        "import os\n",
        "os.chdir('/content/drive/MyDrive/Colab Notebooks/')"
      ],
      "execution_count": 10,
      "outputs": []
    },
    {
      "cell_type": "code",
      "metadata": {
        "id": "9_wO04ooN419"
      },
      "source": [
        "import pandas as pd\n",
        "import numpy as np"
      ],
      "execution_count": 11,
      "outputs": []
    },
    {
      "cell_type": "markdown",
      "metadata": {
        "id": "0eNZjydL-UAT"
      },
      "source": [
        "## Example 1: Create a UDF that computes the product of two numbers"
      ]
    },
    {
      "cell_type": "markdown",
      "metadata": {
        "id": "toob1BClAuov"
      },
      "source": [
        "Step 1: Define the function. Note the syntax. \\\\\n",
        "def FunctionName(input): \\\\\n",
        "    code \\\\\n",
        "    return(output) \\\\\n"
      ]
    },
    {
      "cell_type": "code",
      "metadata": {
        "id": "LgMTlHuO8Wzp"
      },
      "source": [
        "#Create UDFs in Python\n",
        "#Example 1\n",
        "def product(a,b):\n",
        "    out = a * b\n",
        "    return out"
      ],
      "execution_count": 12,
      "outputs": []
    },
    {
      "cell_type": "markdown",
      "metadata": {
        "id": "b05eAAszBUiX"
      },
      "source": [
        "Step 2: Call the function. Don't forget to provide the arguments."
      ]
    },
    {
      "cell_type": "code",
      "metadata": {
        "id": "CEnp6LBV8Wzq",
        "colab": {
          "base_uri": "https://localhost:8080/"
        },
        "outputId": "53135daf-71d5-42a5-85b6-96166cab23d7"
      },
      "source": [
        "product(4,5)"
      ],
      "execution_count": 13,
      "outputs": [
        {
          "output_type": "execute_result",
          "data": {
            "text/plain": [
              "20"
            ]
          },
          "metadata": {},
          "execution_count": 13
        }
      ]
    },
    {
      "cell_type": "markdown",
      "metadata": {
        "id": "xnmRI6WgBdY2"
      },
      "source": [
        "Step 3: If need the output can be stored in a variable. "
      ]
    },
    {
      "cell_type": "code",
      "metadata": {
        "id": "_1DFmxig8Wzr"
      },
      "source": [
        "prod = product(4,5)"
      ],
      "execution_count": 14,
      "outputs": []
    },
    {
      "cell_type": "code",
      "metadata": {
        "id": "7jAxxdpp8Wzr",
        "colab": {
          "base_uri": "https://localhost:8080/"
        },
        "outputId": "c5f9eaae-f02c-4aca-87c9-0ed9fb0082c9"
      },
      "source": [
        "prod"
      ],
      "execution_count": 15,
      "outputs": [
        {
          "output_type": "execute_result",
          "data": {
            "text/plain": [
              "20"
            ]
          },
          "metadata": {},
          "execution_count": 15
        }
      ]
    },
    {
      "cell_type": "markdown",
      "metadata": {
        "id": "St4S1y2_-sdG"
      },
      "source": [
        "## Example 2: Create a UDF that convert Celsius to Fahrenheit"
      ]
    },
    {
      "cell_type": "markdown",
      "metadata": {
        "id": "dcNmu72gBqVV"
      },
      "source": [
        "We start with a simple function to convert Celsius to Fahrenheit. "
      ]
    },
    {
      "cell_type": "code",
      "metadata": {
        "id": "B_uV6bPG8Wzs"
      },
      "source": [
        "#Convert temperature - Celsius to Fahrenheit\n",
        "def TempConverter(tempC):\n",
        "    tempF = tempC * 9 / 5 + 32\n",
        "    return tempF"
      ],
      "execution_count": 16,
      "outputs": []
    },
    {
      "cell_type": "code",
      "metadata": {
        "id": "wp1aqY8Q8Wzs",
        "colab": {
          "base_uri": "https://localhost:8080/",
          "height": 164
        },
        "outputId": "2ca7b586-3e85-4f0e-971f-3a3927ce9909"
      },
      "source": [
        "Tempconverter(30)"
      ],
      "execution_count": 9,
      "outputs": [
        {
          "output_type": "error",
          "ename": "NameError",
          "evalue": "ignored",
          "traceback": [
            "\u001b[0;31m---------------------------------------------------------------------------\u001b[0m",
            "\u001b[0;31mNameError\u001b[0m                                 Traceback (most recent call last)",
            "\u001b[0;32m<ipython-input-9-f291c0076924>\u001b[0m in \u001b[0;36m<module>\u001b[0;34m()\u001b[0m\n\u001b[0;32m----> 1\u001b[0;31m \u001b[0mTempconverter\u001b[0m\u001b[0;34m(\u001b[0m\u001b[0;36m30\u001b[0m\u001b[0;34m)\u001b[0m\u001b[0;34m\u001b[0m\u001b[0;34m\u001b[0m\u001b[0m\n\u001b[0m",
            "\u001b[0;31mNameError\u001b[0m: name 'Tempconverter' is not defined"
          ]
        }
      ]
    },
    {
      "cell_type": "markdown",
      "metadata": {
        "id": "KTQe8OEe_HhS"
      },
      "source": [
        "What's wrong here? The error 'Tempconverter' is not defined means Python doesn't knwo this function. So you either defined it wrong or used another name. Function names and variables name are CASE SENSITIVE and that's what is wrong here."
      ]
    },
    {
      "cell_type": "code",
      "metadata": {
        "id": "dGfvBAh98Wzs",
        "colab": {
          "base_uri": "https://localhost:8080/"
        },
        "outputId": "37ff5fa5-3e86-4f91-8bdf-de3e9533c475"
      },
      "source": [
        "TempConverter(30)"
      ],
      "execution_count": 17,
      "outputs": [
        {
          "output_type": "execute_result",
          "data": {
            "text/plain": [
              "86.0"
            ]
          },
          "metadata": {},
          "execution_count": 17
        }
      ]
    },
    {
      "cell_type": "markdown",
      "metadata": {
        "id": "swDUwL8x_juf"
      },
      "source": [
        "## Example 3: Create UDF that converts Celsius or Kelvin to Fahrenheit"
      ]
    },
    {
      "cell_type": "code",
      "metadata": {
        "id": "wTqxWzxM8Wzt"
      },
      "source": [
        "#Convert temperature - Celsius/Kelvin to Fahrenheit\n",
        "def TempConverter(unit,temp):\n",
        "    if(unit == \"Celsius\"):\n",
        "        tempF = temp * 9 / 5 + 32\n",
        "    elif(unit == \"Kelvin\"):\n",
        "        tempF = (temp-273)*9/5 + 32\n",
        "    else:\n",
        "        tempF = temp\n",
        "    return tempF"
      ],
      "execution_count": 18,
      "outputs": []
    },
    {
      "cell_type": "code",
      "metadata": {
        "id": "MLGgNVD_8Wzt",
        "colab": {
          "base_uri": "https://localhost:8080/"
        },
        "outputId": "ae360592-9b33-45c1-959d-09d4756477c1"
      },
      "source": [
        "TempConverter(\"Celsius\",30)"
      ],
      "execution_count": 19,
      "outputs": [
        {
          "output_type": "execute_result",
          "data": {
            "text/plain": [
              "86.0"
            ]
          },
          "metadata": {},
          "execution_count": 19
        }
      ]
    },
    {
      "cell_type": "code",
      "metadata": {
        "id": "xZeW9HPy8Wzu",
        "colab": {
          "base_uri": "https://localhost:8080/"
        },
        "outputId": "b411be36-0f2b-4a7d-d045-d8a69a34fb0c"
      },
      "source": [
        "TempConverter(\"Kelvin\",273)"
      ],
      "execution_count": 20,
      "outputs": [
        {
          "output_type": "execute_result",
          "data": {
            "text/plain": [
              "32.0"
            ]
          },
          "metadata": {},
          "execution_count": 20
        }
      ]
    },
    {
      "cell_type": "markdown",
      "metadata": {
        "id": "rvnscYEK_9PL"
      },
      "source": [
        "## Example 4: Improve UDF such that it understands all possible unit entries."
      ]
    },
    {
      "cell_type": "markdown",
      "metadata": {
        "id": "kX_DqPUlB9_J"
      },
      "source": [
        "Considering that there are different ways to spell the temperature unit, how could this function be improved? You could add all the possible ways to the if statements, similarly to watch you did in VBA. Another solution, and the one we will explore, is to create a dictionary.\n",
        "\n",
        "A dictionary is an associative array and its structure is show below. \n"
      ]
    },
    {
      "cell_type": "code",
      "metadata": {
        "id": "VePZRK0S8Wzu"
      },
      "source": [
        "TempUnits={\n",
        "    \"Celsius\":\"Celsius\",\n",
        "    \"CELSIUS\":\"Celsius\",\n",
        "    \"C\":\"Celsius\",\n",
        "    \"celsius\":\"Celsius\"\n",
        "}"
      ],
      "execution_count": 21,
      "outputs": []
    },
    {
      "cell_type": "code",
      "metadata": {
        "id": "y7CYrWMK8Wzu",
        "colab": {
          "base_uri": "https://localhost:8080/",
          "height": 37
        },
        "outputId": "d1027f97-538b-4450-c925-44c613052372"
      },
      "source": [
        "unit=TempUnits.get(\"C\")\n",
        "unit"
      ],
      "execution_count": 22,
      "outputs": [
        {
          "output_type": "execute_result",
          "data": {
            "application/vnd.google.colaboratory.intrinsic+json": {
              "type": "string"
            },
            "text/plain": [
              "'Celsius'"
            ]
          },
          "metadata": {},
          "execution_count": 22
        }
      ]
    },
    {
      "cell_type": "code",
      "metadata": {
        "id": "JTUyaa0h8Wzv",
        "colab": {
          "base_uri": "https://localhost:8080/",
          "height": 37
        },
        "outputId": "f1c40c43-37fd-4154-c4f9-848f7a37abbb"
      },
      "source": [
        "unit=TempUnits.get(\"CELSIUS\")\n",
        "unit"
      ],
      "execution_count": 23,
      "outputs": [
        {
          "output_type": "execute_result",
          "data": {
            "application/vnd.google.colaboratory.intrinsic+json": {
              "type": "string"
            },
            "text/plain": [
              "'Celsius'"
            ]
          },
          "metadata": {},
          "execution_count": 23
        }
      ]
    },
    {
      "cell_type": "markdown",
      "metadata": {
        "id": "cpYyihGWCIFV"
      },
      "source": [
        "A complete list for all other units is show below."
      ]
    },
    {
      "cell_type": "code",
      "metadata": {
        "id": "6C-UY_wO8Wzw"
      },
      "source": [
        "TempUnits={\n",
        "    \"Celsius\":\"Celsius\",\n",
        "    \"CELSIUS\":\"Celsius\",\n",
        "    \"C\":\"Celsius\",\n",
        "    \"celsius\":\"Celsius\",\n",
        "    \"Kelvin\":\"Kelvin\",\n",
        "    \"K\":\"Kelvin\",\n",
        "    \"KELVIN\":\"Kelvin\",\n",
        "    \"kelvin\":\"Kelvin\",\n",
        "    \"Fahrenheit\":\"Fahrenheit\",\n",
        "    \"FAHRENHEIT\":\"Fahrenheit\",\n",
        "    \"F\":\"Fahrenheit\",\n",
        "    \"fahrenheit\":\"Fahrenheit\"\n",
        "}"
      ],
      "execution_count": 24,
      "outputs": []
    },
    {
      "cell_type": "markdown",
      "metadata": {
        "id": "Mp3KtH17CL4a"
      },
      "source": [
        "Now all you need to do is use the dictionary and the get() function to convert any user input unit to a string the function will recognize."
      ]
    },
    {
      "cell_type": "code",
      "metadata": {
        "id": "VVOwB0Ro8Wzx"
      },
      "source": [
        "#Redefine function to be more general\n",
        "#Convert temperature - Celsius/Kelvin to Fahrenheit\n",
        "def TempConverter(unit,temp):\n",
        "    unit = TempUnits.get(unit)\n",
        "    if(unit == \"Celsius\"):\n",
        "        tempF = temp * 9 / 5 + 32\n",
        "    elif(unit == \"Kelvin\"):\n",
        "        tempF = (temp-273)*9/5 + 32\n",
        "    else:\n",
        "        tempF = temp\n",
        "    return tempF"
      ],
      "execution_count": 25,
      "outputs": []
    },
    {
      "cell_type": "code",
      "metadata": {
        "id": "pNsqUDpD8Wzw",
        "colab": {
          "base_uri": "https://localhost:8080/"
        },
        "outputId": "36f3c0a8-a203-4ad3-b590-0b078f4e4cbe"
      },
      "source": [
        "TempConverter(\"K\",273)"
      ],
      "execution_count": 26,
      "outputs": [
        {
          "output_type": "execute_result",
          "data": {
            "text/plain": [
              "32.0"
            ]
          },
          "metadata": {},
          "execution_count": 26
        }
      ]
    },
    {
      "cell_type": "code",
      "metadata": {
        "id": "zZt5s4cx8Wzy",
        "colab": {
          "base_uri": "https://localhost:8080/"
        },
        "outputId": "8172b58c-ebb5-463a-e487-fff051acb61c"
      },
      "source": [
        "TempConverter(\"CELSIUS\",30)"
      ],
      "execution_count": 27,
      "outputs": [
        {
          "output_type": "execute_result",
          "data": {
            "text/plain": [
              "86.0"
            ]
          },
          "metadata": {},
          "execution_count": 27
        }
      ]
    },
    {
      "cell_type": "code",
      "metadata": {
        "id": "WgHqKgVZ8Wzy",
        "colab": {
          "base_uri": "https://localhost:8080/"
        },
        "outputId": "f20f1847-a765-4a38-8841-7be056f4a798"
      },
      "source": [
        "TempConverter(\"farenheit\",86)"
      ],
      "execution_count": 28,
      "outputs": [
        {
          "output_type": "execute_result",
          "data": {
            "text/plain": [
              "86"
            ]
          },
          "metadata": {},
          "execution_count": 28
        }
      ]
    },
    {
      "cell_type": "markdown",
      "metadata": {
        "id": "lrbNd3AdDlAA"
      },
      "source": [
        "## Example 5: Create a function that filters df_gen by primary fuel and returns total installed capacity"
      ]
    },
    {
      "cell_type": "markdown",
      "metadata": {
        "id": "LJaCGXwyGrWo"
      },
      "source": [
        "The function should take two arguments: a data frame containing the GEN19 spreadsheet from egrid and a primary fuel source. Note that you will need to import the spreadsheet first and then call the function. The function should filter the data frame by the fuel source specified and calculate total installed capacity. Note that the fuel source you specify should match elements in column FUELG1. \\\\\n",
        "Remember to give you function a informative name."
      ]
    },
    {
      "cell_type": "code",
      "metadata": {
        "id": "m8y9CVShPF6m"
      },
      "source": [
        "#your code"
      ],
      "execution_count": 29,
      "outputs": []
    },
    {
      "cell_type": "markdown",
      "metadata": {
        "id": "xodIlkchRWEe"
      },
      "source": [
        "## Example 6: Modify the function such that egrid is imported within the function"
      ]
    },
    {
      "cell_type": "markdown",
      "metadata": {
        "id": "86dYX-gCZ8UI"
      },
      "source": [
        "Now instead of taking the data frame, the function should take name of the file and the name of the spreadsheet to be imported, i.e., you will need to call pd.read_excel() inside the function. Remember to give another name to the new function, so you do not loose the one you defined in Example 5. "
      ]
    },
    {
      "cell_type": "code",
      "metadata": {
        "id": "jxpSQ5UORrVd"
      },
      "source": [
        "# your code"
      ],
      "execution_count": 30,
      "outputs": []
    },
    {
      "cell_type": "markdown",
      "metadata": {
        "id": "Pivu7foXSMvO"
      },
      "source": [
        "Note that it took a bit longer now to output results because the file is imported within the function. Now try to acess the data frame df by typing df.head(10). What happens?"
      ]
    },
    {
      "cell_type": "code",
      "metadata": {
        "id": "RpdZAN1ZVR_E"
      },
      "source": [
        "#your code"
      ],
      "execution_count": 31,
      "outputs": []
    },
    {
      "cell_type": "markdown",
      "metadata": {
        "id": "NFzYd9yOSXd6"
      },
      "source": [
        "Since the file was imported within the function environment it will not be acessible outside the function."
      ]
    }
  ]
}