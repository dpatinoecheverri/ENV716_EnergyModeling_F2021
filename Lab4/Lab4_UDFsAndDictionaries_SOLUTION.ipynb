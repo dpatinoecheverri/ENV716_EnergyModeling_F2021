{
  "nbformat": 4,
  "nbformat_minor": 0,
  "metadata": {
    "kernelspec": {
      "display_name": "Python 3",
      "language": "python",
      "name": "python3"
    },
    "language_info": {
      "codemirror_mode": {
        "name": "ipython",
        "version": 3
      },
      "file_extension": ".py",
      "mimetype": "text/x-python",
      "name": "python",
      "nbconvert_exporter": "python",
      "pygments_lexer": "ipython3",
      "version": "3.7.4"
    },
    "colab": {
      "name": "Lab4_UDFsAndDictionaries_SOLUTION.ipynb",
      "provenance": [],
      "collapsed_sections": [],
      "toc_visible": true,
      "include_colab_link": true
    }
  },
  "cells": [
    {
      "cell_type": "markdown",
      "metadata": {
        "id": "view-in-github",
        "colab_type": "text"
      },
      "source": [
        "<a href=\"https://colab.research.google.com/github/lmmlima/ENV716_EnergyModeling_F2021/blob/main/Lab4/Lab4_UDFsAndDictionaries_SOLUTION.ipynb\" target=\"_parent\"><img src=\"https://colab.research.google.com/assets/colab-badge.svg\" alt=\"Open In Colab\"/></a>"
      ]
    },
    {
      "cell_type": "markdown",
      "metadata": {
        "id": "N6qkW4Bq9lca"
      },
      "source": [
        "# **Lab 4 – User Defined Function (UDF) and Dictionaries in Python**"
      ]
    },
    {
      "cell_type": "markdown",
      "metadata": {
        "id": "6EOoaHxC98Lh"
      },
      "source": [
        "Learning goals for Lab 4:\n",
        "* Learn how to create your own functions or a User Defined Function (UDF);\n",
        "* Learn how to call your function and store the output;\n",
        "* Learn how to improve your functions to make it more user friendly with IF statements;\n",
        "* Learn how to create a dictionary and how to use within a function definition.\n",
        "\n",
        "A function is a block of code that is only run when called. They are useful because they can be used repeatedly without the need to repeat all the code. Once you create a function it can be called within other functions, loop structurse and even from Python prompt.\n",
        "\n"
      ]
    },
    {
      "cell_type": "code",
      "metadata": {
        "colab": {
          "base_uri": "https://localhost:8080/"
        },
        "id": "TPHOrFrE9vZk",
        "outputId": "8d393acb-623b-4d18-ab8b-46276c4459a1"
      },
      "source": [
        "from google.colab import drive\n",
        "drive.mount('/content/drive')"
      ],
      "execution_count": null,
      "outputs": [
        {
          "output_type": "stream",
          "name": "stdout",
          "text": [
            "Mounted at /content/drive\n"
          ]
        }
      ]
    },
    {
      "cell_type": "code",
      "metadata": {
        "id": "CvUpCMsS-K0L"
      },
      "source": [
        "import os\n",
        "os.chdir('/content/drive/MyDrive/Colab Notebooks/')"
      ],
      "execution_count": null,
      "outputs": []
    },
    {
      "cell_type": "code",
      "metadata": {
        "id": "9_wO04ooN419"
      },
      "source": [
        "import pandas as pd\n",
        "import numpy as np"
      ],
      "execution_count": null,
      "outputs": []
    },
    {
      "cell_type": "markdown",
      "metadata": {
        "id": "0eNZjydL-UAT"
      },
      "source": [
        "## Example 1: Create a UDF that computes the product of two numbers"
      ]
    },
    {
      "cell_type": "markdown",
      "metadata": {
        "id": "toob1BClAuov"
      },
      "source": [
        "Step 1: Define the function. Note the syntax. \\\\\n",
        "def FunctionName(input): \\\\\n",
        "    code \\\\\n",
        "    return(output) \\\\\n"
      ]
    },
    {
      "cell_type": "code",
      "metadata": {
        "id": "LgMTlHuO8Wzp"
      },
      "source": [
        "#Create UDFs in Python\n",
        "#Example 1\n",
        "def product(a,b):\n",
        "    out = a * b\n",
        "    return out"
      ],
      "execution_count": null,
      "outputs": []
    },
    {
      "cell_type": "markdown",
      "metadata": {
        "id": "b05eAAszBUiX"
      },
      "source": [
        "Step 2: Call the function. Don't forget to provide the arguments."
      ]
    },
    {
      "cell_type": "code",
      "metadata": {
        "id": "CEnp6LBV8Wzq",
        "colab": {
          "base_uri": "https://localhost:8080/"
        },
        "outputId": "113bd2f9-2492-4b0d-9f89-20bea5e412f0"
      },
      "source": [
        "product(4,5)"
      ],
      "execution_count": null,
      "outputs": [
        {
          "output_type": "execute_result",
          "data": {
            "text/plain": [
              "20"
            ]
          },
          "metadata": {},
          "execution_count": 4
        }
      ]
    },
    {
      "cell_type": "markdown",
      "metadata": {
        "id": "xnmRI6WgBdY2"
      },
      "source": [
        "Step 3: If need the output can be stored in a variable. "
      ]
    },
    {
      "cell_type": "code",
      "metadata": {
        "id": "_1DFmxig8Wzr"
      },
      "source": [
        "prod = product(4,5)"
      ],
      "execution_count": null,
      "outputs": []
    },
    {
      "cell_type": "code",
      "metadata": {
        "id": "7jAxxdpp8Wzr",
        "colab": {
          "base_uri": "https://localhost:8080/"
        },
        "outputId": "a433ae51-594f-4333-9256-0a4f25bfe965"
      },
      "source": [
        "prod"
      ],
      "execution_count": null,
      "outputs": [
        {
          "output_type": "execute_result",
          "data": {
            "text/plain": [
              "20"
            ]
          },
          "metadata": {},
          "execution_count": 6
        }
      ]
    },
    {
      "cell_type": "markdown",
      "metadata": {
        "id": "St4S1y2_-sdG"
      },
      "source": [
        "## Example 2: Create a UDF that convert Celsius to Fahrenheit"
      ]
    },
    {
      "cell_type": "markdown",
      "metadata": {
        "id": "dcNmu72gBqVV"
      },
      "source": [
        "We start with a simple function to convert Celsius to Fahrenheit. "
      ]
    },
    {
      "cell_type": "code",
      "metadata": {
        "id": "B_uV6bPG8Wzs"
      },
      "source": [
        "#Convert temperature - Celsius to Fahrenheit\n",
        "def TempConverter(tempC):\n",
        "    tempF = tempC * 9 / 5 + 32\n",
        "    return tempF"
      ],
      "execution_count": null,
      "outputs": []
    },
    {
      "cell_type": "code",
      "metadata": {
        "id": "wp1aqY8Q8Wzs",
        "colab": {
          "base_uri": "https://localhost:8080/",
          "height": 164
        },
        "outputId": "cf3765b9-352d-4d60-a885-9b3aae3f92ae"
      },
      "source": [
        "Tempconverter(30)"
      ],
      "execution_count": null,
      "outputs": [
        {
          "output_type": "error",
          "ename": "NameError",
          "evalue": "ignored",
          "traceback": [
            "\u001b[0;31m---------------------------------------------------------------------------\u001b[0m",
            "\u001b[0;31mNameError\u001b[0m                                 Traceback (most recent call last)",
            "\u001b[0;32m<ipython-input-8-f291c0076924>\u001b[0m in \u001b[0;36m<module>\u001b[0;34m()\u001b[0m\n\u001b[0;32m----> 1\u001b[0;31m \u001b[0mTempconverter\u001b[0m\u001b[0;34m(\u001b[0m\u001b[0;36m30\u001b[0m\u001b[0;34m)\u001b[0m\u001b[0;34m\u001b[0m\u001b[0;34m\u001b[0m\u001b[0m\n\u001b[0m",
            "\u001b[0;31mNameError\u001b[0m: name 'Tempconverter' is not defined"
          ]
        }
      ]
    },
    {
      "cell_type": "markdown",
      "metadata": {
        "id": "KTQe8OEe_HhS"
      },
      "source": [
        "What's wrong here? The error 'Tempconverter' is not defined means Python doesn't knwo this function. So you either defined it wrong or used another name. Function names and variables name are CASE SENSITIVE and that's what is wrong here."
      ]
    },
    {
      "cell_type": "code",
      "metadata": {
        "id": "dGfvBAh98Wzs",
        "colab": {
          "base_uri": "https://localhost:8080/"
        },
        "outputId": "6679f6ce-b4ac-4586-85f2-61360d96e0aa"
      },
      "source": [
        "TempConverter(30)"
      ],
      "execution_count": null,
      "outputs": [
        {
          "output_type": "execute_result",
          "data": {
            "text/plain": [
              "86.0"
            ]
          },
          "metadata": {},
          "execution_count": 9
        }
      ]
    },
    {
      "cell_type": "markdown",
      "metadata": {
        "id": "swDUwL8x_juf"
      },
      "source": [
        "## Example 3: Create UDF that converts Celsius or Kelvin to Fahrenheit"
      ]
    },
    {
      "cell_type": "code",
      "metadata": {
        "id": "wTqxWzxM8Wzt"
      },
      "source": [
        "#Convert temperature - Celsius/Kelvin to Fahrenheit\n",
        "def TempConverter(unit,temp):\n",
        "    if(unit == \"Celsius\"):\n",
        "        tempF = temp * 9 / 5 + 32\n",
        "    elif(unit == \"Kelvin\"):\n",
        "        tempF = (temp-273)*9/5 + 32\n",
        "    else:\n",
        "        tempF = temp\n",
        "    return tempF"
      ],
      "execution_count": null,
      "outputs": []
    },
    {
      "cell_type": "code",
      "metadata": {
        "id": "MLGgNVD_8Wzt",
        "colab": {
          "base_uri": "https://localhost:8080/"
        },
        "outputId": "70bf9c12-f609-42a8-b739-92c1390fc4ce"
      },
      "source": [
        "TempConverter(\"Celsius\",30)"
      ],
      "execution_count": null,
      "outputs": [
        {
          "output_type": "execute_result",
          "data": {
            "text/plain": [
              "86.0"
            ]
          },
          "metadata": {},
          "execution_count": 11
        }
      ]
    },
    {
      "cell_type": "code",
      "metadata": {
        "id": "xZeW9HPy8Wzu",
        "colab": {
          "base_uri": "https://localhost:8080/"
        },
        "outputId": "259b5a6e-881c-4658-e444-21cc17527585"
      },
      "source": [
        "TempConverter(\"Kelvin\",273)"
      ],
      "execution_count": null,
      "outputs": [
        {
          "output_type": "execute_result",
          "data": {
            "text/plain": [
              "32.0"
            ]
          },
          "metadata": {},
          "execution_count": 12
        }
      ]
    },
    {
      "cell_type": "markdown",
      "metadata": {
        "id": "rvnscYEK_9PL"
      },
      "source": [
        "## Example 4: Improve UDF such that it understands all possible unit entries."
      ]
    },
    {
      "cell_type": "markdown",
      "metadata": {
        "id": "kX_DqPUlB9_J"
      },
      "source": [
        "Considering that there are different ways to spell the temperature unit, how could this function be improved? You could add all the possible ways to the if statements, similarly to watch you did in VBA. Another solution, and the one we will explore, is to create a dictionary.\n",
        "\n",
        "A dictionary is an associative array and its structure is show below. \n"
      ]
    },
    {
      "cell_type": "code",
      "metadata": {
        "id": "VePZRK0S8Wzu"
      },
      "source": [
        "TempUnits={\n",
        "    \"Celsius\":\"Celsius\",\n",
        "    \"CELSIUS\":\"Celsius\",\n",
        "    \"C\":\"Celsius\",\n",
        "    \"celsius\":\"Celsius\"\n",
        "}"
      ],
      "execution_count": null,
      "outputs": []
    },
    {
      "cell_type": "code",
      "metadata": {
        "id": "y7CYrWMK8Wzu",
        "colab": {
          "base_uri": "https://localhost:8080/",
          "height": 37
        },
        "outputId": "da4ca81d-dd80-4f73-b5fb-8cc486b87d5f"
      },
      "source": [
        "unit=TempUnits.get(\"C\")\n",
        "unit"
      ],
      "execution_count": null,
      "outputs": [
        {
          "output_type": "execute_result",
          "data": {
            "application/vnd.google.colaboratory.intrinsic+json": {
              "type": "string"
            },
            "text/plain": [
              "'Celsius'"
            ]
          },
          "metadata": {},
          "execution_count": 28
        }
      ]
    },
    {
      "cell_type": "code",
      "metadata": {
        "id": "JTUyaa0h8Wzv",
        "colab": {
          "base_uri": "https://localhost:8080/",
          "height": 37
        },
        "outputId": "b7bf858b-ca94-41f0-89b0-85275dc3ea27"
      },
      "source": [
        "unit=TempUnits.get(\"CELSIUS\")\n",
        "unit"
      ],
      "execution_count": null,
      "outputs": [
        {
          "output_type": "execute_result",
          "data": {
            "application/vnd.google.colaboratory.intrinsic+json": {
              "type": "string"
            },
            "text/plain": [
              "'Celsius'"
            ]
          },
          "metadata": {},
          "execution_count": 29
        }
      ]
    },
    {
      "cell_type": "markdown",
      "metadata": {
        "id": "cpYyihGWCIFV"
      },
      "source": [
        "A complete list for all other units is show below."
      ]
    },
    {
      "cell_type": "code",
      "metadata": {
        "id": "6C-UY_wO8Wzw"
      },
      "source": [
        "TempUnits={\n",
        "    \"Celsius\":\"Celsius\",\n",
        "    \"CELSIUS\":\"Celsius\",\n",
        "    \"C\":\"Celsius\",\n",
        "    \"celsius\":\"Celsius\",\n",
        "    \"Kelvin\":\"Kelvin\",\n",
        "    \"K\":\"Kelvin\",\n",
        "    \"KELVIN\":\"Kelvin\",\n",
        "    \"kelvin\":\"Kelvin\",\n",
        "    \"Fahrenheit\":\"Fahrenheit\",\n",
        "    \"FAHRENHEIT\":\"Fahrenheit\",\n",
        "    \"F\":\"Fahrenheit\",\n",
        "    \"fahrenheit\":\"Fahrenheit\"\n",
        "}"
      ],
      "execution_count": null,
      "outputs": []
    },
    {
      "cell_type": "markdown",
      "metadata": {
        "id": "Mp3KtH17CL4a"
      },
      "source": [
        "Now all you need to do is use the dictionary and the get() function to convert any user input unit to a string the function will recognize."
      ]
    },
    {
      "cell_type": "code",
      "metadata": {
        "id": "VVOwB0Ro8Wzx"
      },
      "source": [
        "#Redefine function to be more general\n",
        "#Convert temperature - Celsius/Kelvin to Fahrenheit\n",
        "def TempConverter(unit,temp):\n",
        "    unit = TempUnits.get(unit)\n",
        "    if(unit == \"Celsius\"):\n",
        "        tempF = temp * 9 / 5 + 32\n",
        "    elif(unit == \"Kelvin\"):\n",
        "        tempF = (temp-273)*9/5 + 32\n",
        "    else:\n",
        "        tempF = temp\n",
        "    return tempF"
      ],
      "execution_count": null,
      "outputs": []
    },
    {
      "cell_type": "code",
      "metadata": {
        "id": "pNsqUDpD8Wzw",
        "colab": {
          "base_uri": "https://localhost:8080/"
        },
        "outputId": "e7904d9c-c269-4d61-9858-875ebf1bd379"
      },
      "source": [
        "TempConverter(\"K\",273)"
      ],
      "execution_count": null,
      "outputs": [
        {
          "output_type": "execute_result",
          "data": {
            "text/plain": [
              "32.0"
            ]
          },
          "metadata": {},
          "execution_count": 32
        }
      ]
    },
    {
      "cell_type": "code",
      "metadata": {
        "id": "zZt5s4cx8Wzy",
        "colab": {
          "base_uri": "https://localhost:8080/"
        },
        "outputId": "01994b59-84a5-4f54-fba4-434c2637478b"
      },
      "source": [
        "TempConverter(\"CELSIUS\",30)"
      ],
      "execution_count": null,
      "outputs": [
        {
          "output_type": "execute_result",
          "data": {
            "text/plain": [
              "86.0"
            ]
          },
          "metadata": {},
          "execution_count": 19
        }
      ]
    },
    {
      "cell_type": "code",
      "metadata": {
        "id": "WgHqKgVZ8Wzy",
        "colab": {
          "base_uri": "https://localhost:8080/"
        },
        "outputId": "1c3c6156-1052-4bd7-9466-74a82f664279"
      },
      "source": [
        "TempConverter(\"farenheit\",86)"
      ],
      "execution_count": null,
      "outputs": [
        {
          "output_type": "execute_result",
          "data": {
            "text/plain": [
              "86"
            ]
          },
          "metadata": {},
          "execution_count": 20
        }
      ]
    },
    {
      "cell_type": "markdown",
      "metadata": {
        "id": "lrbNd3AdDlAA"
      },
      "source": [
        "## Example 5: Create a function that filters df_gen by primary fuel and returns total installed capacity"
      ]
    },
    {
      "cell_type": "markdown",
      "metadata": {
        "id": "LJaCGXwyGrWo"
      },
      "source": [
        "The function should take two arguments: a data frame containing the GEN19 spreadsheet from egrid and a primary fuel source. Note that you will need to import the spreadsheet first and then call the function. The function should filter the data frame by the fuel source specified and calculate total installed capacity. Note that the fuel source you specify should match elements in column FUELG1. \\\\\n",
        "Remember to give you function a informative name."
      ]
    },
    {
      "cell_type": "code",
      "metadata": {
        "id": "m8y9CVShPF6m"
      },
      "source": [
        "def FindTotalCap (df, fuel):\n",
        "  sub_df = df[(df.FUELG1==fuel)]  #filter by fuel\n",
        "  return(sub_df['NAMEPCAP'].sum()) #calculate sum of column NAMEPCAP"
      ],
      "execution_count": null,
      "outputs": []
    },
    {
      "cell_type": "code",
      "metadata": {
        "id": "VMZA1VK_NSIt"
      },
      "source": [
        "df_gen = pd.read_excel(io=\"egrid2019_data.xlsx\",sheet_name=\"GEN19\",skiprows=1,keep_default_na=False)\n",
        "df_gen.head(5)"
      ],
      "execution_count": null,
      "outputs": []
    },
    {
      "cell_type": "code",
      "metadata": {
        "colab": {
          "base_uri": "https://localhost:8080/"
        },
        "id": "Dkury-8XPPEK",
        "outputId": "03630154-08c2-43a7-a401-fae106d5c8e5"
      },
      "source": [
        "print(\"Total Installed Capacity for Wind\",FindTotalCap(df_gen,\"WND\"))"
      ],
      "execution_count": null,
      "outputs": [
        {
          "output_type": "stream",
          "name": "stdout",
          "text": [
            "Total Installed Capacity for Wind 150408.0\n"
          ]
        }
      ]
    },
    {
      "cell_type": "code",
      "metadata": {
        "colab": {
          "base_uri": "https://localhost:8080/"
        },
        "id": "efqzn_7hPpxw",
        "outputId": "bfb2d81a-3e3d-4f7c-ba7d-343110e89bc4"
      },
      "source": [
        "print(\"Total Installed Capacity for Solar\",FindTotalCap(df_gen,\"SUN\"))"
      ],
      "execution_count": null,
      "outputs": [
        {
          "output_type": "stream",
          "name": "stdout",
          "text": [
            "Total Installed Capacity for Solar 79903.00000000025\n"
          ]
        }
      ]
    },
    {
      "cell_type": "code",
      "metadata": {
        "colab": {
          "base_uri": "https://localhost:8080/"
        },
        "id": "PKfVZulMP1Hy",
        "outputId": "81d8fa53-e199-4d6c-ab6b-e70a46e5587d"
      },
      "source": [
        "print(\"Total Installed Capacity for BIT Coal\", FindTotalCap(df_gen,\"BIT\"))"
      ],
      "execution_count": null,
      "outputs": [
        {
          "output_type": "stream",
          "name": "stdout",
          "text": [
            "Total Installed Capacity for BIT Coal 155229.99999999997\n"
          ]
        }
      ]
    },
    {
      "cell_type": "markdown",
      "metadata": {
        "id": "xodIlkchRWEe"
      },
      "source": [
        "## Example 6: Modify the function such that egrid is imported within the function"
      ]
    },
    {
      "cell_type": "markdown",
      "metadata": {
        "id": "86dYX-gCZ8UI"
      },
      "source": [
        "Now instead of taking the data frame, the function should take name of the file and the name of the spreadsheet to be imported, i.e., you will need to call pd.read_excel() inside the function. Remember to give another name to the new function, so you do not loose the one you defined in Example 5. "
      ]
    },
    {
      "cell_type": "code",
      "metadata": {
        "id": "jxpSQ5UORrVd"
      },
      "source": [
        "def FindTotalCapFromExcel (filename, sheetname, fuel):\n",
        "  df = pd.read_excel(io=filename,sheet_name=sheetname,skiprows=1,keep_default_na=False)\n",
        "  sub_df = df[(df.FUELG1==fuel)]\n",
        "  return(sub_df['NAMEPCAP'].sum())"
      ],
      "execution_count": null,
      "outputs": []
    },
    {
      "cell_type": "code",
      "metadata": {
        "colab": {
          "base_uri": "https://localhost:8080/"
        },
        "id": "ZBIoA8mWR_wX",
        "outputId": "fca8c12b-a33a-4602-ee0f-b128da839f29"
      },
      "source": [
        "print(\"Total Installed Capacity for Wind\",FindTotalCapFromExcel(\"egrid2019_data.xlsx\",\"GEN19\",\"WND\"))"
      ],
      "execution_count": null,
      "outputs": [
        {
          "output_type": "stream",
          "name": "stdout",
          "text": [
            "Total Installed Capacity for Wind 150408.0\n"
          ]
        }
      ]
    },
    {
      "cell_type": "markdown",
      "metadata": {
        "id": "Pivu7foXSMvO"
      },
      "source": [
        "Note that it took a bit longer now to output results because the file is imported within the function. Now try to acess the data frame df by typing df.head(10). What happens?"
      ]
    },
    {
      "cell_type": "code",
      "metadata": {
        "colab": {
          "base_uri": "https://localhost:8080/",
          "height": 164
        },
        "id": "a0vaPaf_STv9",
        "outputId": "fa86c486-c9fd-4c0e-c474-cc75bd703f61"
      },
      "source": [
        "df.head(10)"
      ],
      "execution_count": null,
      "outputs": [
        {
          "output_type": "error",
          "ename": "NameError",
          "evalue": "ignored",
          "traceback": [
            "\u001b[0;31m---------------------------------------------------------------------------\u001b[0m",
            "\u001b[0;31mNameError\u001b[0m                                 Traceback (most recent call last)",
            "\u001b[0;32m<ipython-input-51-4a676c3d8c05>\u001b[0m in \u001b[0;36m<module>\u001b[0;34m()\u001b[0m\n\u001b[0;32m----> 1\u001b[0;31m \u001b[0mdf\u001b[0m\u001b[0;34m.\u001b[0m\u001b[0mhead\u001b[0m\u001b[0;34m(\u001b[0m\u001b[0;36m10\u001b[0m\u001b[0;34m)\u001b[0m\u001b[0;34m\u001b[0m\u001b[0;34m\u001b[0m\u001b[0m\n\u001b[0m",
            "\u001b[0;31mNameError\u001b[0m: name 'df' is not defined"
          ]
        }
      ]
    },
    {
      "cell_type": "markdown",
      "metadata": {
        "id": "NFzYd9yOSXd6"
      },
      "source": [
        "Since the file was imported within the function environment it will not be acessible outside the function."
      ]
    }
  ]
}