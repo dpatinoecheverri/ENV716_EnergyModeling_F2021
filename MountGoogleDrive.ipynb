{
  "nbformat": 4,
  "nbformat_minor": 0,
  "metadata": {
    "colab": {
      "name": "MountGoogleDrive.ipynb",
      "provenance": [],
      "authorship_tag": "ABX9TyO0wwHzpI+pS6zwg0Nf7gmX"
    },
    "kernelspec": {
      "name": "python3",
      "display_name": "Python 3"
    },
    "language_info": {
      "name": "python"
    }
  },
  "cells": [
    {
      "cell_type": "code",
      "metadata": {
        "colab": {
          "base_uri": "https://localhost:8080/"
        },
        "id": "JTTSlG-WNB4_",
        "outputId": "1de5d8f7-91f7-4327-f74e-88fb38229b69"
      },
      "source": [
        "from google.colab import drive\n",
        "drive.mount('/content/gdrive')"
      ],
      "execution_count": null,
      "outputs": [
        {
          "output_type": "stream",
          "text": [
            "Mounted at /content/gdrive\n"
          ],
          "name": "stdout"
        }
      ]
    },
    {
      "cell_type": "code",
      "metadata": {
        "colab": {
          "base_uri": "https://localhost:8080/"
        },
        "id": "-BNQniMwNaTd",
        "outputId": "92ef4c82-9922-47ea-edef-8c4b4a92efdc"
      },
      "source": [
        "%cd /content/gdrive/My Drive/"
      ],
      "execution_count": null,
      "outputs": [
        {
          "output_type": "stream",
          "text": [
            "/content/gdrive/My Drive\n"
          ],
          "name": "stdout"
        }
      ]
    },
    {
      "cell_type": "code",
      "metadata": {
        "colab": {
          "base_uri": "https://localhost:8080/"
        },
        "id": "Wjr46Nx4N3Sw",
        "outputId": "a0d83dab-c1e5-4eef-d51b-5eb2351f6018"
      },
      "source": [
        "%ls"
      ],
      "execution_count": null,
      "outputs": [
        {
          "output_type": "stream",
          "text": [
            "\u001b[0m\u001b[01;36m'2021 Projeto_Energisa'\u001b[0m@\n",
            " Advisor_MeetingSchedule.gsheet\n",
            "'Bryan’s Performance Evaluation Report.gdoc'\n",
            " \u001b[01;34mCIRED_Tutorial\u001b[0m/\n",
            " Clara_FamilyCultureProject.gslides\n",
            "\"Clara's_9th_birthday.gsheet\"\n",
            "\"Clara's Journal.gdoc\"\n",
            "'Class notes.gdoc'\n",
            "\u001b[01;34m'Colab Notebooks'\u001b[0m/\n",
            "'DAY 2 MASTER DOCUMENT .gdoc'\n",
            "'DOA FOA - CP_Draft - Subtopic 7.gdoc'\n",
            "'DUEI Event Calendar.gsheet'\n",
            "'DukeEngage ITAIPU 2021.gsheet'\n",
            " DukeEngage_Students.gsheet\n",
            " \u001b[01;34mDukeEngage_Summer2020\u001b[0m/\n",
            " \u001b[01;34mDukeEngage_Summer2021\u001b[0m/\n",
            " DukeEngage_VirtualProject.gdoc\n",
            " EDA_FinalProject_Groups.gsheet\n",
            "'EMPS Presentation.gslides'\n",
            "'EMPS Project Adam and Wendell.gslides'\n",
            "'Energy Market in North Carolina FAQ.gdoc'\n",
            " ENV716_LabPreference.gsheet\n",
            " ENV716_PermissionNumbers_Fall2021.gsheet\n",
            " ENV717_GroupsSignUp_S2019.gsheet\n",
            " \u001b[01;34mENV790_F18\u001b[0m/\n",
            " \u001b[01;34mENV790_F19\u001b[0m/\n",
            " ENV872_EDA_Planning.gsheet\n",
            " Fall2020_ENV716_PermissionNumbers.gsheet\n",
            "'Final Presentation.gslides'\n",
            " Forecasting_Models_in_R.gdoc\n",
            "'Gigil (1).gslides'\n",
            " Gigil.gslides\n",
            " IEEE_panel_script.gdoc\n",
            "\u001b[01;34m'Lecture Notes QM'\u001b[0m/\n",
            " Luana_teste.gdoc\n",
            "'Lunch Dinner schedule.gsheet'\n",
            "'MP Projects.gdoc'\n",
            " MP.v6.docx\n",
            "\"Mrs. Minch's Manatees Directory.gdoc\"\n",
            " Orientation_MeetingSchedule.gsheet\n",
            " Planejamento_FimdeAno.gsheet\n",
            " Relacao_Alunos_ELE204_Sem2_2015.gsheet\n",
            " Relacao_Alunos_ELE204_Sem2_2015.xlsx\n",
            "'Script for Power Players.gdoc'\n",
            " TreasureHunt.gsheet\n",
            " TSA_Sp21_A8.gsheet\n",
            " TSA_SP21_Lab4_StatTest.gsheet\n",
            "'Untitled document.gdoc'\n",
            "'Untitled presentation.gslides'\n",
            " Utility_Rates_US.gsheet\n",
            "'Virtual Duke Engage Project.gsheet'\n"
          ],
          "name": "stdout"
        }
      ]
    },
    {
      "cell_type": "code",
      "metadata": {
        "colab": {
          "base_uri": "https://localhost:8080/"
        },
        "id": "m0RLzoSyN8uJ",
        "outputId": "76bf4f6a-5c4b-4e01-b3c4-d3fccf99522e"
      },
      "source": [
        "%cd /content/gdrive/My Drive/Colab Notebooks/"
      ],
      "execution_count": null,
      "outputs": [
        {
          "output_type": "stream",
          "text": [
            "/content/gdrive/My Drive/Colab Notebooks\n"
          ],
          "name": "stdout"
        }
      ]
    },
    {
      "cell_type": "code",
      "metadata": {
        "colab": {
          "base_uri": "https://localhost:8080/"
        },
        "id": "khr55u4HODQq",
        "outputId": "eff44dc4-9411-4aa3-997e-0e9c0860227b"
      },
      "source": [
        "%ls"
      ],
      "execution_count": null,
      "outputs": [
        {
          "output_type": "stream",
          "text": [
            "\u001b[0m\u001b[01;34mENV716_LabFiles\u001b[0m/  Untitled0.ipynb\n"
          ],
          "name": "stdout"
        }
      ]
    },
    {
      "cell_type": "code",
      "metadata": {
        "colab": {
          "base_uri": "https://localhost:8080/"
        },
        "id": "Hfg7YOpIOIYW",
        "outputId": "23a438d7-1507-4f3e-cc9e-abaf06f0bc74"
      },
      "source": [
        "%cd /content/gdrive/My Drive/Colab Notebooks/ENV716_LabFiles/"
      ],
      "execution_count": null,
      "outputs": [
        {
          "output_type": "stream",
          "text": [
            "/content/gdrive/My Drive/Colab Notebooks/ENV716_LabFiles\n"
          ],
          "name": "stdout"
        }
      ]
    },
    {
      "cell_type": "code",
      "metadata": {
        "colab": {
          "base_uri": "https://localhost:8080/"
        },
        "id": "K9RFTx0AON-k",
        "outputId": "b4b24adb-76a1-4534-dd9a-f76601b6ad17"
      },
      "source": [
        "ls"
      ],
      "execution_count": null,
      "outputs": [
        {
          "output_type": "stream",
          "text": [
            "Lab10_Script_MultiperiodLP.ipynb    Lab5_Script.ipynb\n",
            "Lab10_Script_ShortestPath.ipynb     Lab5_Script_Test.ipynb\n",
            "Lab11_Script.ipynb                  Lab6_Script.ipynb\n",
            "Lab11_Script_RVs.ipynb              Lab7_Script_Part1UDF.ipynb\n",
            "Lab12_Script_RVs.ipynb              Lab7_Script_Part2_Pivot.ipynb\n",
            "Lab12_Uniform_And_Normal_RVs.ipynb  Lab8_Script_Full.ipynb\n",
            "Lab13_Script_A10_Q2.ipynb           Lab8_Script_LPs.ipynb\n",
            "Lab13_Script_MC.ipynb               Lab9_Script_MoreonLP.ipynb\n",
            "Lab1_HeloWorld.ipynb                Lab9_Script_MultiperiodLP_old.ipynb\n",
            "Lab1_SimpleCalculation.ipynb        Lab9_Script_MultiperiodLP-Test.ipynb\n",
            "Lab3_Script.ipynb                   Lab9_Script_Part2_Full.ipynb\n",
            "Lab4_Script.ipynb                   Lab9_Script_SensitivityLPs.ipynb\n",
            "Lab4_Script_test.ipynb\n"
          ],
          "name": "stdout"
        }
      ]
    },
    {
      "cell_type": "code",
      "metadata": {
        "id": "JuU4_SVgPa_A"
      },
      "source": [
        "from google.colab import drive\n",
        "drive.mount('/content/drive')"
      ],
      "execution_count": null,
      "outputs": []
    }
  ]
}