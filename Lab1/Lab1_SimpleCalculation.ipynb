{
  "nbformat": 4,
  "nbformat_minor": 0,
  "metadata": {
    "kernelspec": {
      "display_name": "Python 3",
      "language": "python",
      "name": "python3"
    },
    "language_info": {
      "codemirror_mode": {
        "name": "ipython",
        "version": 3
      },
      "file_extension": ".py",
      "mimetype": "text/x-python",
      "name": "python",
      "nbconvert_exporter": "python",
      "pygments_lexer": "ipython3",
      "version": "3.7.4"
    },
    "colab": {
      "name": "Lab1_SimpleCalculation.ipynb",
      "provenance": [],
      "toc_visible": true
    }
  },
  "cells": [
    {
      "cell_type": "markdown",
      "metadata": {
        "id": "N8rYyniqpC0R"
      },
      "source": [
        "# ENVIRON/ENERGY 716 - Lab 1\n",
        "# Intro to Python | Simple Operations | Defining objects\n",
        "\n",
        "Let's start with a simple print command."
      ]
    },
    {
      "cell_type": "code",
      "metadata": {
        "id": "NEbLMJ_zpC0W",
        "outputId": "5ebe39ae-c215-4daf-95f8-fbf3a7a1cd4f"
      },
      "source": [
        "print('Hello World', 1 + 1)"
      ],
      "execution_count": null,
      "outputs": [
        {
          "name": "stdout",
          "output_type": "stream",
          "text": [
            "Hello World 2\n"
          ]
        }
      ]
    },
    {
      "cell_type": "markdown",
      "metadata": {
        "id": "WPtIQx1DpC0Y"
      },
      "source": [
        "### Simple math operation using a Jupyter notebook. "
      ]
    },
    {
      "cell_type": "code",
      "metadata": {
        "id": "jy1fDE_fpC0a",
        "outputId": "e0870360-b3d1-47c3-de35-c28b41d9e8b5"
      },
      "source": [
        "#Addition\n",
        "2 + 3"
      ],
      "execution_count": null,
      "outputs": [
        {
          "data": {
            "text/plain": [
              "5"
            ]
          },
          "execution_count": 2,
          "metadata": {},
          "output_type": "execute_result"
        }
      ]
    },
    {
      "cell_type": "code",
      "metadata": {
        "id": "nwJAAi_ipC0a",
        "outputId": "1bd57c55-646f-42bf-d28b-bfcc6ade5736"
      },
      "source": [
        "#Subtraction\n",
        "5 - 4"
      ],
      "execution_count": null,
      "outputs": [
        {
          "data": {
            "text/plain": [
              "1"
            ]
          },
          "execution_count": 3,
          "metadata": {},
          "output_type": "execute_result"
        }
      ]
    },
    {
      "cell_type": "code",
      "metadata": {
        "id": "lp1k9m8opC0b",
        "outputId": "a3daf405-fa4b-4a13-838b-3cda4f8fc010"
      },
      "source": [
        "# Multiplication\n",
        "2 * 2"
      ],
      "execution_count": null,
      "outputs": [
        {
          "data": {
            "text/plain": [
              "4"
            ]
          },
          "execution_count": 4,
          "metadata": {},
          "output_type": "execute_result"
        }
      ]
    },
    {
      "cell_type": "code",
      "metadata": {
        "id": "FyV57q35pC0b",
        "outputId": "7f279193-a71f-4296-87e6-1e8a9c4eb309"
      },
      "source": [
        "# Division\n",
        "10 / 5"
      ],
      "execution_count": null,
      "outputs": [
        {
          "data": {
            "text/plain": [
              "2.0"
            ]
          },
          "execution_count": 5,
          "metadata": {},
          "output_type": "execute_result"
        }
      ]
    },
    {
      "cell_type": "code",
      "metadata": {
        "id": "JwFAi4rSpC0c",
        "outputId": "fa82995a-bccd-4bda-d4a9-4b7ca2eaa285"
      },
      "source": [
        "## Integer division\n",
        "10 // 5"
      ],
      "execution_count": null,
      "outputs": [
        {
          "data": {
            "text/plain": [
              "2"
            ]
          },
          "execution_count": 6,
          "metadata": {},
          "output_type": "execute_result"
        }
      ]
    },
    {
      "cell_type": "code",
      "metadata": {
        "id": "4yeKokFdpC0c",
        "outputId": "f57c8306-e931-4858-c2ac-5302f7ea71bf"
      },
      "source": [
        "## Compare the outputs from each operator / and // \n",
        "11/5"
      ],
      "execution_count": null,
      "outputs": [
        {
          "data": {
            "text/plain": [
              "2.2"
            ]
          },
          "execution_count": 7,
          "metadata": {},
          "output_type": "execute_result"
        }
      ]
    },
    {
      "cell_type": "code",
      "metadata": {
        "id": "bx81fGDJpC0e",
        "outputId": "defe1ce4-cbb9-4532-b796-adec03f88845"
      },
      "source": [
        "11//5"
      ],
      "execution_count": null,
      "outputs": [
        {
          "data": {
            "text/plain": [
              "2"
            ]
          },
          "execution_count": 8,
          "metadata": {},
          "output_type": "execute_result"
        }
      ]
    },
    {
      "cell_type": "code",
      "metadata": {
        "id": "WDM_E1UqpC0f",
        "outputId": "23e48765-df54-4a31-8afd-e8216b6c6da9"
      },
      "source": [
        "# Potentiation\n",
        "4 ** 2"
      ],
      "execution_count": null,
      "outputs": [
        {
          "data": {
            "text/plain": [
              "16"
            ]
          },
          "execution_count": 9,
          "metadata": {},
          "output_type": "execute_result"
        }
      ]
    },
    {
      "cell_type": "code",
      "metadata": {
        "id": "prp5Gx7PpC0h",
        "outputId": "e438d0db-7f62-4f8d-8e54-c2e461d35573"
      },
      "source": [
        "# Use paranthesis to define order of operations\n",
        "(2 + 3) * 2"
      ],
      "execution_count": null,
      "outputs": [
        {
          "data": {
            "text/plain": [
              "10"
            ]
          },
          "execution_count": 10,
          "metadata": {},
          "output_type": "execute_result"
        }
      ]
    },
    {
      "cell_type": "markdown",
      "metadata": {
        "id": "12Bs2AD8pC0k"
      },
      "source": [
        "## Creating variables, vectors and lists"
      ]
    },
    {
      "cell_type": "code",
      "metadata": {
        "id": "JkQAHPGKpC0k"
      },
      "source": [
        "x = 5"
      ],
      "execution_count": null,
      "outputs": []
    },
    {
      "cell_type": "code",
      "metadata": {
        "id": "pK3Kj4O8pC0l",
        "outputId": "f0c142df-499c-4057-eb35-4d65f45ad1b1"
      },
      "source": [
        "x"
      ],
      "execution_count": null,
      "outputs": [
        {
          "data": {
            "text/plain": [
              "5"
            ]
          },
          "execution_count": 12,
          "metadata": {},
          "output_type": "execute_result"
        }
      ]
    },
    {
      "cell_type": "code",
      "metadata": {
        "id": "DwOpYgzepC0m"
      },
      "source": [
        "x = 10"
      ],
      "execution_count": null,
      "outputs": []
    },
    {
      "cell_type": "code",
      "metadata": {
        "id": "tmWGh2A4pC0n",
        "outputId": "28981bcb-b614-4d62-e263-832a874b414a"
      },
      "source": [
        "x"
      ],
      "execution_count": null,
      "outputs": [
        {
          "data": {
            "text/plain": [
              "10"
            ]
          },
          "execution_count": 14,
          "metadata": {},
          "output_type": "execute_result"
        }
      ]
    },
    {
      "cell_type": "code",
      "metadata": {
        "id": "1vrG98iMpC0o",
        "outputId": "1ca6f026-1464-4cf1-9e24-dc7e72deb256"
      },
      "source": [
        "x + 3"
      ],
      "execution_count": null,
      "outputs": [
        {
          "data": {
            "text/plain": [
              "13"
            ]
          },
          "execution_count": 15,
          "metadata": {},
          "output_type": "execute_result"
        }
      ]
    },
    {
      "cell_type": "code",
      "metadata": {
        "id": "ouPjhDBRpC0p"
      },
      "source": [
        "y = 3"
      ],
      "execution_count": null,
      "outputs": []
    },
    {
      "cell_type": "markdown",
      "metadata": {
        "id": "QnMkVpT2pC0p"
      },
      "source": [
        "You can do any math operation using the variables created."
      ]
    },
    {
      "cell_type": "code",
      "metadata": {
        "id": "O6-SNnfTpC0q",
        "outputId": "1941ac87-e8fe-41f6-876e-c4dae2d3358a"
      },
      "source": [
        "x + y"
      ],
      "execution_count": null,
      "outputs": [
        {
          "data": {
            "text/plain": [
              "13"
            ]
          },
          "execution_count": 17,
          "metadata": {},
          "output_type": "execute_result"
        }
      ]
    },
    {
      "cell_type": "markdown",
      "metadata": {
        "id": "8ZsqivSqpC0r"
      },
      "source": [
        "You can create variable that takes strings or characters instead fo numbers."
      ]
    },
    {
      "cell_type": "code",
      "metadata": {
        "id": "KNYvyFTHpC0s"
      },
      "source": [
        "name = 'Luana'"
      ],
      "execution_count": null,
      "outputs": []
    },
    {
      "cell_type": "code",
      "metadata": {
        "id": "e9RpYKJkpC0s",
        "outputId": "5553259e-3235-4354-a909-05b50c8fbafd"
      },
      "source": [
        "name"
      ],
      "execution_count": null,
      "outputs": [
        {
          "data": {
            "text/plain": [
              "'Luana'"
            ]
          },
          "execution_count": 19,
          "metadata": {},
          "output_type": "execute_result"
        }
      ]
    },
    {
      "cell_type": "markdown",
      "metadata": {
        "id": "tKn8shDLpC0t"
      },
      "source": [
        "String variables are stored by character. You can access each character using the [] and the number of interest inside the square brackets.\n",
        "Pyhton start counting at 0. If you want the first character on your variable you should point to [0]. If you want the last but do not now the size of your string use [-1]."
      ]
    },
    {
      "cell_type": "code",
      "metadata": {
        "id": "lj4yNZBcpC0v",
        "outputId": "add1bb2b-df45-4fe4-dc02-054c24c273a4"
      },
      "source": [
        "name[0]"
      ],
      "execution_count": null,
      "outputs": [
        {
          "data": {
            "text/plain": [
              "'L'"
            ]
          },
          "execution_count": 20,
          "metadata": {},
          "output_type": "execute_result"
        }
      ]
    },
    {
      "cell_type": "code",
      "metadata": {
        "id": "BjgQfzORpC0w",
        "outputId": "5a280a89-0a74-48f4-b6c1-0f27d585716a"
      },
      "source": [
        "name[-1]"
      ],
      "execution_count": null,
      "outputs": [
        {
          "data": {
            "text/plain": [
              "'a'"
            ]
          },
          "execution_count": 21,
          "metadata": {},
          "output_type": "execute_result"
        }
      ]
    },
    {
      "cell_type": "markdown",
      "metadata": {
        "id": "PjboBFwOpC0w"
      },
      "source": [
        "You can create vectors and matrices using the square brackets and access each element. You can add new elements to a vector by using .apend()."
      ]
    },
    {
      "cell_type": "code",
      "metadata": {
        "id": "Yv-e38v5pC0w"
      },
      "source": [
        "z = [1, 2, 3, 4, 5, 6]"
      ],
      "execution_count": null,
      "outputs": []
    },
    {
      "cell_type": "code",
      "metadata": {
        "id": "l0_6bK3DpC0x",
        "outputId": "759fc1f0-6510-4086-9be2-a83369501999"
      },
      "source": [
        "z"
      ],
      "execution_count": null,
      "outputs": [
        {
          "data": {
            "text/plain": [
              "[1, 2, 3, 4, 5, 6]"
            ]
          },
          "execution_count": 23,
          "metadata": {},
          "output_type": "execute_result"
        }
      ]
    },
    {
      "cell_type": "code",
      "metadata": {
        "id": "-7YxOnTapC0x",
        "outputId": "1514713c-7da0-41db-c563-5fb88427cef1"
      },
      "source": [
        "z[1]"
      ],
      "execution_count": null,
      "outputs": [
        {
          "data": {
            "text/plain": [
              "2"
            ]
          },
          "execution_count": 24,
          "metadata": {},
          "output_type": "execute_result"
        }
      ]
    },
    {
      "cell_type": "code",
      "metadata": {
        "id": "0EblkrwEpC00",
        "outputId": "24cca106-9884-4753-a7fa-f2300ae3beac"
      },
      "source": [
        "z[1:3]"
      ],
      "execution_count": null,
      "outputs": [
        {
          "data": {
            "text/plain": [
              "[2, 3]"
            ]
          },
          "execution_count": 25,
          "metadata": {},
          "output_type": "execute_result"
        }
      ]
    },
    {
      "cell_type": "code",
      "metadata": {
        "scrolled": true,
        "id": "94ttSmDBpC02",
        "outputId": "585392d9-e271-4190-cbe1-355e6e9fa982"
      },
      "source": [
        "z[-1]"
      ],
      "execution_count": null,
      "outputs": [
        {
          "data": {
            "text/plain": [
              "6"
            ]
          },
          "execution_count": 26,
          "metadata": {},
          "output_type": "execute_result"
        }
      ]
    },
    {
      "cell_type": "code",
      "metadata": {
        "id": "aKb5oBo4pC03"
      },
      "source": [
        "z.append(7)"
      ],
      "execution_count": null,
      "outputs": []
    },
    {
      "cell_type": "code",
      "metadata": {
        "id": "7NCOpFBDpC04",
        "outputId": "3c133f2c-b156-4253-e360-d8fc69d9079d"
      },
      "source": [
        "z"
      ],
      "execution_count": null,
      "outputs": [
        {
          "data": {
            "text/plain": [
              "[1, 2, 3, 4, 5, 6, 7]"
            ]
          },
          "execution_count": 28,
          "metadata": {},
          "output_type": "execute_result"
        }
      ]
    },
    {
      "cell_type": "markdown",
      "metadata": {
        "id": "RcLH-eVQpC05"
      },
      "source": [
        "You can create lists. A list is a set of elements, any mix of variables, vectors, matrices can be stored in a list. The elements do not need to be of the same type."
      ]
    },
    {
      "cell_type": "code",
      "metadata": {
        "id": "6VnKowgEpC05"
      },
      "source": [
        "newlist = [1, 2, 'Luana']"
      ],
      "execution_count": null,
      "outputs": []
    },
    {
      "cell_type": "code",
      "metadata": {
        "id": "QTUxU9eMpC05",
        "outputId": "aa002602-d756-43c1-a3f4-190f8e8bd27a"
      },
      "source": [
        "newlist"
      ],
      "execution_count": null,
      "outputs": [
        {
          "data": {
            "text/plain": [
              "[1, 2, 'Luana']"
            ]
          },
          "execution_count": 30,
          "metadata": {},
          "output_type": "execute_result"
        }
      ]
    },
    {
      "cell_type": "code",
      "metadata": {
        "id": "5v_GYVyfpIQh"
      },
      "source": [
        "print(\"test\")"
      ],
      "execution_count": null,
      "outputs": []
    }
  ]
}