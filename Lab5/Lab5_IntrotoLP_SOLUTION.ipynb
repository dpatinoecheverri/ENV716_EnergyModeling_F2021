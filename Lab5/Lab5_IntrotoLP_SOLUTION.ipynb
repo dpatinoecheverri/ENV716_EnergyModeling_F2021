{
  "nbformat": 4,
  "nbformat_minor": 0,
  "metadata": {
    "kernelspec": {
      "display_name": "Python 3",
      "language": "python",
      "name": "python3"
    },
    "language_info": {
      "codemirror_mode": {
        "name": "ipython",
        "version": 3
      },
      "file_extension": ".py",
      "mimetype": "text/x-python",
      "name": "python",
      "nbconvert_exporter": "python",
      "pygments_lexer": "ipython3",
      "version": "3.7.4"
    },
    "colab": {
      "name": "Lab5_IntrotoLP_SOLUTION.ipynb",
      "provenance": [],
      "collapsed_sections": [],
      "toc_visible": true,
      "include_colab_link": true
    }
  },
  "cells": [
    {
      "cell_type": "markdown",
      "metadata": {
        "id": "view-in-github",
        "colab_type": "text"
      },
      "source": [
        "<a href=\"https://colab.research.google.com/github/lmmlima/ENV716_EnergyModeling_F2021/blob/main/Lab5/Lab5_IntrotoLP_SOLUTION.ipynb\" target=\"_parent\"><img src=\"https://colab.research.google.com/assets/colab-badge.svg\" alt=\"Open In Colab\"/></a>"
      ]
    },
    {
      "cell_type": "markdown",
      "metadata": {
        "id": "UTSWAyK4aXM6"
      },
      "source": [
        "# **Lab 5 - Intro to LPs in Python with PYOMO**"
      ]
    },
    {
      "cell_type": "markdown",
      "metadata": {
        "id": "xGkLoJVsarvC"
      },
      "source": [
        "Learning outcomes for Lab 5:\n",
        "* Learn how to implement a simple LP in Python using PYOMO; \n",
        "* Solve the chemical solution example we explored in the lectures.\n"
      ]
    },
    {
      "cell_type": "markdown",
      "metadata": {
        "id": "FZqW7gHHgKXA"
      },
      "source": [
        "Recall you have two machines A and B and you can produce two types of chemical solutions for CO2 capture. Profit from producing type I is \\$800 and type II \\$600. The units produced are constrained by machine availability. You only have 60 hours in machine A and 48 in machine B. \n",
        "\n",
        "* Type I requires 4h in MA and 2h in MB\n",
        "* Type II requires 2h in MA and 4h in MB\n",
        "\n",
        "![Screen Shot 2021-09-23 at 10.23.03 PM.png](data:image/png;base64,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)\n",
        "\n",
        "This is a small instance with 2 decision variables and 2 constraints. We will explore two ways to implement this model to get you familiar with the Pyomo environment. But keep in mind that for larger models, there are other ways to do it and we will explore them in upcoming labs. "
      ]
    },
    {
      "cell_type": "code",
      "metadata": {
        "colab": {
          "base_uri": "https://localhost:8080/"
        },
        "id": "Ybf3uRt9Z6pT",
        "outputId": "ff54974a-0ce1-476f-8182-e5fc51ec9dfd"
      },
      "source": [
        "from google.colab import drive\n",
        "drive.mount('/content/drive')"
      ],
      "execution_count": 2,
      "outputs": [
        {
          "output_type": "stream",
          "name": "stdout",
          "text": [
            "Mounted at /content/drive\n"
          ]
        }
      ]
    },
    {
      "cell_type": "code",
      "metadata": {
        "id": "zFBz6O9Jbgae"
      },
      "source": [
        "import os\n",
        "os.chdir('/content/drive/MyDrive/Colab Notebooks/')"
      ],
      "execution_count": 3,
      "outputs": []
    },
    {
      "cell_type": "markdown",
      "metadata": {
        "id": "uVXUnISKckjh"
      },
      "source": [
        "## Installing and Running Pyomo on Google Colab"
      ]
    },
    {
      "cell_type": "markdown",
      "metadata": {
        "id": "2TTAb-ffdI4v"
      },
      "source": [
        "To import/install a library that's not in Colaboratory by default, you can use !pip install. This needs to be done at the begining of you notebook. And you only need to run it once at the start of each Colab session."
      ]
    },
    {
      "cell_type": "code",
      "metadata": {
        "colab": {
          "base_uri": "https://localhost:8080/"
        },
        "id": "demwApZCdXt5",
        "outputId": "7ab112b0-b372-4335-948f-49d81098fcca"
      },
      "source": [
        "!pip install pyomo"
      ],
      "execution_count": 4,
      "outputs": [
        {
          "output_type": "stream",
          "name": "stdout",
          "text": [
            "Collecting pyomo\n",
            "  Downloading Pyomo-6.1.2-cp37-cp37m-manylinux_2_5_x86_64.manylinux1_x86_64.manylinux_2_12_x86_64.manylinux2010_x86_64.whl (9.1 MB)\n",
            "\u001b[K     |████████████████████████████████| 9.1 MB 5.0 MB/s \n",
            "\u001b[?25hCollecting ply\n",
            "  Downloading ply-3.11-py2.py3-none-any.whl (49 kB)\n",
            "\u001b[K     |████████████████████████████████| 49 kB 5.6 MB/s \n",
            "\u001b[?25hInstalling collected packages: ply, pyomo\n",
            "Successfully installed ply-3.11 pyomo-6.1.2\n"
          ]
        }
      ]
    },
    {
      "cell_type": "markdown",
      "metadata": {
        "id": "z1gRSEXcdnms"
      },
      "source": [
        "## Installing optimization solver\n",
        "\n",
        "Pyomo does not include any optimization solvers. Therefore, you will need to install third-party solvers to solve optimization models built with Pyomo. There are several solver options, for this class we will use glpk and/or cbc.\n",
        "We'll install glpk using apt-get. The verbose -y and -qq ??"
      ]
    },
    {
      "cell_type": "code",
      "metadata": {
        "id": "7SacEI5mdxI2",
        "colab": {
          "base_uri": "https://localhost:8080/"
        },
        "outputId": "ac939a0f-80b8-4718-98be-90970ba0d6ee"
      },
      "source": [
        "!apt-get install -y -qq glpk-utils"
      ],
      "execution_count": 5,
      "outputs": [
        {
          "output_type": "stream",
          "name": "stdout",
          "text": [
            "Selecting previously unselected package libsuitesparseconfig5:amd64.\n",
            "(Reading database ... 155047 files and directories currently installed.)\n",
            "Preparing to unpack .../libsuitesparseconfig5_1%3a5.1.2-2_amd64.deb ...\n",
            "Unpacking libsuitesparseconfig5:amd64 (1:5.1.2-2) ...\n",
            "Selecting previously unselected package libamd2:amd64.\n",
            "Preparing to unpack .../libamd2_1%3a5.1.2-2_amd64.deb ...\n",
            "Unpacking libamd2:amd64 (1:5.1.2-2) ...\n",
            "Selecting previously unselected package libcolamd2:amd64.\n",
            "Preparing to unpack .../libcolamd2_1%3a5.1.2-2_amd64.deb ...\n",
            "Unpacking libcolamd2:amd64 (1:5.1.2-2) ...\n",
            "Selecting previously unselected package libglpk40:amd64.\n",
            "Preparing to unpack .../libglpk40_4.65-1_amd64.deb ...\n",
            "Unpacking libglpk40:amd64 (4.65-1) ...\n",
            "Selecting previously unselected package glpk-utils.\n",
            "Preparing to unpack .../glpk-utils_4.65-1_amd64.deb ...\n",
            "Unpacking glpk-utils (4.65-1) ...\n",
            "Setting up libsuitesparseconfig5:amd64 (1:5.1.2-2) ...\n",
            "Setting up libcolamd2:amd64 (1:5.1.2-2) ...\n",
            "Setting up libamd2:amd64 (1:5.1.2-2) ...\n",
            "Setting up libglpk40:amd64 (4.65-1) ...\n",
            "Setting up glpk-utils (4.65-1) ...\n",
            "Processing triggers for libc-bin (2.27-3ubuntu1.3) ...\n",
            "/sbin/ldconfig.real: /usr/local/lib/python3.7/dist-packages/ideep4py/lib/libmkldnn.so.0 is not a symbolic link\n",
            "\n",
            "Processing triggers for man-db (2.8.3-2ubuntu0.1) ...\n"
          ]
        }
      ]
    },
    {
      "cell_type": "markdown",
      "metadata": {
        "id": "tGwd2ywmeJ72"
      },
      "source": [
        "## Import Pyomo and solver\n",
        "\n",
        "The first step in any Pyomo project is to import relevant components of the Pyomo library. This can be done with the following python statement 'from pyomo.environ import *'. \\\\\n",
        "\n",
        "We use the * symbol to elimate the need of using the expression pyomo.environ every time we need to use a pyomo function. \\\\\n",
        "\n",
        "You also need to load the solver. The Pyomo libary includes a SolverFactory() class used to specify a solver. Here you have two options.\n",
        "* **cbc** from Coin OR or\n",
        "* **glpk** \\\\\n",
        "\n",
        "Both solvers will work for linear problems, put cbc could also be used ofr nonlinear applications. Let's use glpk today."
      ]
    },
    {
      "cell_type": "code",
      "metadata": {
        "id": "qR3PKPtvZ4eL"
      },
      "source": [
        "from pyomo.environ import *\n",
        "#Import solver\n",
        "opt=SolverFactory('glpk')"
      ],
      "execution_count": 6,
      "outputs": []
    },
    {
      "cell_type": "markdown",
      "metadata": {
        "id": "civp5i5Nfn4N"
      },
      "source": [
        "## Create Model"
      ]
    },
    {
      "cell_type": "markdown",
      "metadata": {
        "id": "GZ0gYgRxhcil"
      },
      "source": [
        "The next thing you need to do is initialize the model. The are two options with Pyomo for model building: AbstractModel() and ConcreteModel(). The file “PyomoFundamentals.pdf” will explain the differences in details. In a nutshell concrete models are immediately constructed and data is presented when components like variables, constraints and objective function are created. The abstract model is useful when you will run the same optimization model for different data sets, or when you will import data that is stored in a excel spreadsheet. You can create an abstract model even before entering/importing the data set.\n",
        "\n",
        "For the chemical solutions example, since we already have all the data we need, let’s build a concrete model. Let’s create the model and name it “model” using the following command.\n"
      ]
    },
    {
      "cell_type": "code",
      "metadata": {
        "id": "r6JPTe1wZ4eO"
      },
      "source": [
        "#Creating model\n",
        "model = ConcreteModel()"
      ],
      "execution_count": 7,
      "outputs": []
    },
    {
      "cell_type": "markdown",
      "metadata": {
        "id": "e58zGUr7h-xy"
      },
      "source": [
        "## Add model components\n",
        "\n",
        "The first components we will add to the model are the decision variables. We will use class Var() to specify the variable type using the domain argument. The number of units type I and II will be a continuous number greater than equal to zero."
      ]
    },
    {
      "cell_type": "code",
      "metadata": {
        "id": "YE5xztjNZ4eO"
      },
      "source": [
        "#Adding decision variables\n",
        "model.x1 = Var(domain=NonNegativeReals)\n",
        "model.x2 = Var(domain=NonNegativeReals)\n",
        "#model.x2 = Var(domain=Reals,bounds=(0,None))  #alternative way to define variables"
      ],
      "execution_count": 8,
      "outputs": []
    },
    {
      "cell_type": "markdown",
      "metadata": {
        "id": "PsfRa8uNibiz"
      },
      "source": [
        "The domain argument could also be used to specify other type of variables like Real, Integers and Booleans. The class Var() has also an argument to set bounds on decision variables, for example Var(domain=Reals, bounds=(0,None)) is the same of defining domain equal NonNegativeReals. \\\\\n",
        "\n",
        "The second component we will add is objective function. Recall an objective function is an expression involving decision variables. We will store it in model.profit and use the class Objective() to define the expression and sense of the optimization model.\n"
      ]
    },
    {
      "cell_type": "code",
      "metadata": {
        "id": "2RM0lZ67Z4eP"
      },
      "source": [
        "#Adding objective function\n",
        "model.profit = Objective(expr = 800*model.x1 + 600*model.x2, sense=maximize)"
      ],
      "execution_count": 9,
      "outputs": []
    },
    {
      "cell_type": "markdown",
      "metadata": {
        "id": "bM3QN1aTiiPK"
      },
      "source": [
        "The third component we will add is the constraints using the class Constraint(). The expression is specified using the argument expr. "
      ]
    },
    {
      "cell_type": "code",
      "metadata": {
        "id": "RG0HUR9zZ4eP"
      },
      "source": [
        "#Adding constraints\n",
        "model.machA = Constraint(expr = 4*model.x1 + 2*model.x2 <= 60)\n",
        "model.machB = Constraint(expr = 2*model.x1 + 4*model.x2 <= 48)"
      ],
      "execution_count": 10,
      "outputs": []
    },
    {
      "cell_type": "markdown",
      "metadata": {
        "id": "WMG4zeoGim95"
      },
      "source": [
        "## Solve the model\n",
        "\n",
        "We already specified the solver now all we need to do is call solve(). The solve() method attempts to solve the model using the specified solver. And you can add a few lines to print the results as below. "
      ]
    },
    {
      "cell_type": "code",
      "metadata": {
        "scrolled": true,
        "colab": {
          "base_uri": "https://localhost:8080/"
        },
        "id": "3O9hHwECZ4eP",
        "outputId": "5754da6c-15f8-4da7-fae3-109e1a96829a"
      },
      "source": [
        "#Solve Model\n",
        "results = opt.solve(model)\n",
        "\n",
        "#Print results\n",
        "print('Profit = ', model.profit())\n",
        "print('\\nDecision Variables')\n",
        "print('x1 = ', model.x1())\n",
        "print('x2 = ', model.x2())"
      ],
      "execution_count": 11,
      "outputs": [
        {
          "output_type": "stream",
          "name": "stdout",
          "text": [
            "Profit =  13200.0\n",
            "\n",
            "Decision Variables\n",
            "x1 =  12.0\n",
            "x2 =  6.0\n"
          ]
        }
      ]
    },
    {
      "cell_type": "code",
      "metadata": {
        "colab": {
          "base_uri": "https://localhost:8080/"
        },
        "id": "BL4IM6mKZ4eQ",
        "outputId": "4fdd5964-0035-4cb2-f57c-7470e4eee293"
      },
      "source": [
        "print('\\nConstraints')\n",
        "print('Mach A = ', model.machA())\n",
        "print('Mach B = ', model.machB())"
      ],
      "execution_count": 12,
      "outputs": [
        {
          "output_type": "stream",
          "name": "stdout",
          "text": [
            "\n",
            "Constraints\n",
            "Mach A =  60.0\n",
            "Mach B =  48.0\n"
          ]
        }
      ]
    },
    {
      "cell_type": "code",
      "metadata": {
        "scrolled": true,
        "colab": {
          "base_uri": "https://localhost:8080/"
        },
        "id": "oOW5fft9Z4eR",
        "outputId": "cdc4066c-1ab9-4a38-d6d2-798886816644"
      },
      "source": [
        "#results.write()\n",
        "if results.solver.status == 'ok':\n",
        "    model.pprint()"
      ],
      "execution_count": 13,
      "outputs": [
        {
          "output_type": "stream",
          "name": "stdout",
          "text": [
            "2 Var Declarations\n",
            "    x1 : Size=1, Index=None\n",
            "        Key  : Lower : Value : Upper : Fixed : Stale : Domain\n",
            "        None :     0 :  12.0 :  None : False : False : NonNegativeReals\n",
            "    x2 : Size=1, Index=None\n",
            "        Key  : Lower : Value : Upper : Fixed : Stale : Domain\n",
            "        None :     0 :   6.0 :  None : False : False : NonNegativeReals\n",
            "\n",
            "1 Objective Declarations\n",
            "    profit : Size=1, Index=None, Active=True\n",
            "        Key  : Active : Sense    : Expression\n",
            "        None :   True : maximize : 800*x1 + 600*x2\n",
            "\n",
            "2 Constraint Declarations\n",
            "    machA : Size=1, Index=None, Active=True\n",
            "        Key  : Lower : Body        : Upper : Active\n",
            "        None :  -Inf : 4*x1 + 2*x2 :  60.0 :   True\n",
            "    machB : Size=1, Index=None, Active=True\n",
            "        Key  : Lower : Body        : Upper : Active\n",
            "        None :  -Inf : 2*x1 + 4*x2 :  48.0 :   True\n",
            "\n",
            "5 Declarations: x1 x2 profit machA machB\n"
          ]
        }
      ]
    },
    {
      "cell_type": "markdown",
      "metadata": {
        "id": "bf5e4kvimD67"
      },
      "source": [
        "## How to get shadow prices?"
      ]
    },
    {
      "cell_type": "markdown",
      "metadata": {
        "id": "mcPzY0ORmbEt"
      },
      "source": [
        "Access to shadow prices values is similar to accessing decision variables values, except that shadow prices are not captured by default so additional specifications are needed before solving the model to signal that shadow prices are desired. The dual suffix is where you can access shadow prices."
      ]
    },
    {
      "cell_type": "code",
      "metadata": {
        "id": "Gn8TJet7mjLO"
      },
      "source": [
        "#calculating shadow prices\n",
        "model.dual=Suffix(direction=Suffix.IMPORT)"
      ],
      "execution_count": 14,
      "outputs": []
    },
    {
      "cell_type": "markdown",
      "metadata": {
        "id": "_Or7Kcq4mxWX"
      },
      "source": [
        "Then all you need to do is solve the model and print results plus shadow prices."
      ]
    },
    {
      "cell_type": "code",
      "metadata": {
        "colab": {
          "base_uri": "https://localhost:8080/"
        },
        "id": "UpLy4cFhmzbB",
        "outputId": "824b0458-6fac-44cc-c94a-620fa84a1244"
      },
      "source": [
        "#Solve Model\n",
        "results = opt.solve(model)\n",
        "\n",
        "print(\"Shadow Prices\")\n",
        "model.dual.pprint()"
      ],
      "execution_count": 15,
      "outputs": [
        {
          "output_type": "stream",
          "name": "stdout",
          "text": [
            "Shadow Prices\n",
            "dual : Direction=Suffix.IMPORT, Datatype=Suffix.FLOAT\n",
            "    Key   : Value\n",
            "    machA : 166.666666666667\n",
            "    machB : 66.6666666666667\n"
          ]
        }
      ]
    },
    {
      "cell_type": "markdown",
      "metadata": {
        "id": "Q20IFapykf_m"
      },
      "source": [
        "## Exercise 1 \n",
        "\n",
        "Change the model to incorporate a new constraint that says total number of units type I and type II cannot exceed 15. Create a new model and call it 'model2'. Solve the model.\n"
      ]
    },
    {
      "cell_type": "code",
      "metadata": {
        "id": "QwutRBYHlyG3",
        "colab": {
          "base_uri": "https://localhost:8080/"
        },
        "outputId": "e29307e8-0e75-46cc-eca7-b72aab70a7c3"
      },
      "source": [
        "#your model\n",
        "model2 = ConcreteModel()\n",
        "model2.x1 = Var(domain=NonNegativeReals)\n",
        "model2.x2 = Var(domain=NonNegativeReals)\n",
        "\n",
        "#Adding objective function\n",
        "model2.profit = Objective(expr = 800*model2.x1 + 600*model2.x2, sense=maximize)\n",
        "\n",
        "#Adding constraints\n",
        "model2.machA = Constraint(expr = 4*model2.x1 + 2*model2.x2 <= 60)\n",
        "model2.machB = Constraint(expr = 2*model2.x1 + 4*model2.x2 <= 48)\n",
        "\n",
        "##Additional constraint\n",
        "model2.total = Constraint(expr = model2.x1 + model2.x2 <= 15)\n",
        "\n",
        "#Solve Model\n",
        "results = opt.solve(model2)\n",
        "\n",
        "#Print results\n",
        "print('Profit = ', model2.profit())\n",
        "print('\\nDecision Variables')\n",
        "print('x1 = ', model2.x1())\n",
        "print('x2 = ', model2.x2())"
      ],
      "execution_count": 16,
      "outputs": [
        {
          "output_type": "stream",
          "name": "stdout",
          "text": [
            "Profit =  12000.0\n",
            "\n",
            "Decision Variables\n",
            "x1 =  15.0\n",
            "x2 =  0.0\n"
          ]
        }
      ]
    },
    {
      "cell_type": "markdown",
      "metadata": {
        "id": "9VAhVyZRl1RQ"
      },
      "source": [
        "## Exercise 2\n",
        "\n",
        "Change the model to incorporate a new constraint that says total number of units type I cannot exceed 11. Create a new model and call it 'model3'. Solve the model."
      ]
    },
    {
      "cell_type": "code",
      "metadata": {
        "id": "t9B-Zux3l-C6",
        "colab": {
          "base_uri": "https://localhost:8080/"
        },
        "outputId": "fe0a0918-162c-48af-c1f5-676fcf733b39"
      },
      "source": [
        "#your model\n",
        "model3 = ConcreteModel()\n",
        "model3.x1 = Var(domain=Reals,bounds=(0,11))\n",
        "model3.x2 = Var(domain=Reals,bounds=(0,None))\n",
        "\n",
        "#Adding objective function\n",
        "model3.profit = Objective(expr = 800*model3.x1 + 600*model3.x2, sense=maximize)\n",
        "\n",
        "#Adding constraints\n",
        "model3.machA = Constraint(expr = 4*model3.x1 + 2*model3.x2 <= 60)\n",
        "model3.machB = Constraint(expr = 2*model3.x1 + 4*model3.x2 <= 48)\n",
        "\n",
        "#Solve Model\n",
        "results = opt.solve(model3)\n",
        "\n",
        "#Print results\n",
        "print('Profit = ', model3.profit())\n",
        "print('\\nDecision Variables')\n",
        "print('x1 = ', model3.x1())\n",
        "print('x2 = ', model3.x2())"
      ],
      "execution_count": 17,
      "outputs": [
        {
          "output_type": "stream",
          "name": "stdout",
          "text": [
            "Profit =  12700.0\n",
            "\n",
            "Decision Variables\n",
            "x1 =  11.0\n",
            "x2 =  6.5\n"
          ]
        }
      ]
    },
    {
      "cell_type": "markdown",
      "metadata": {
        "id": "cqP7prEFi73y"
      },
      "source": [
        "## Alternative way to create the model using data in matrix/vector format (more on this later)"
      ]
    },
    {
      "cell_type": "markdown",
      "metadata": {
        "id": "VjqIGhhFjF4y"
      },
      "source": [
        "So far we used scalar modeling components, model.x1 = Var() and model.x2 = Var(), and each constraint was added as a separate line in the model. Now I want to show you how you could create the same model using numpy arrays to enter the data and use indexed variables and constraints. This will come in handy when you create larger instances of LP models. \n",
        "\n",
        "Recall the original representation with scalar, let’s build a matrix representation.\n",
        "![Screen Shot 2021-09-23 at 10.05.11 PM.png](data:image/png;base64,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)"
      ]
    },
    {
      "cell_type": "markdown",
      "metadata": {
        "id": "gU4rnR-sjTJe"
      },
      "source": [
        "Note that the matrix representation can be used for instances with more machines and more water heater types. The size of matrix A and vector c, b and x will depend on the sets. \\\\\n",
        "\n",
        "$I=\\{Type I,Type II\\}$ \\\\\n",
        "\n",
        "$J=\\{MA,MB\\}$\n"
      ]
    },
    {
      "cell_type": "markdown",
      "metadata": {
        "id": "G1uPOzJRjoOp"
      },
      "source": [
        "The indices are represented by the range() statement. We have two sets, one for the chemical solution types I and II and one for machines. Entering the numpy arrays is straight forward. The only part that is not familiar to you is the sum() used to define the expression for constraints and objective function. You can see this $sum(A[j,i]*x[i] \\ \\ for \\ \\ i \\ \\ in \\ \\ I)$ as equivalent to the expression \\\\\n",
        "\n",
        "$\\sum_{i∈I}a_{j,i}*x_i$."
      ]
    },
    {
      "cell_type": "code",
      "metadata": {
        "id": "3CTsVbhuZ4eS",
        "colab": {
          "base_uri": "https://localhost:8080/"
        },
        "outputId": "2b458248-3d59-454b-dd4f-9458aeb3640f"
      },
      "source": [
        "#Indexed variables and constraints\n",
        "import numpy as np\n",
        "#LP matrix and vector - standard form\n",
        "A = np.array([[4, 2], [2, 4]])\n",
        "b = np.array([60,48])\n",
        "c = np.array([800,600])\n",
        "\n",
        "P=range(2)  #set of chemical solution type I and II\n",
        "M=range(2)  #set of machines A and B\n",
        "\n",
        "model = ConcreteModel()\n",
        "\n",
        "#Index decision variables by water heater type set\n",
        "model.x=Var(P)\n",
        "\n",
        "#Adding constraints\n",
        "model.constraints = ConstraintList()\n",
        "for m in M:\n",
        "    model.constraints.add(sum(A[m,p]*model.x[p] for p in P) <= b[m])\n",
        "\n",
        "#Adding objective\n",
        "model.profit = Objective(expr = sum(c[p]*model.x[p] for p in P), sense=maximize)\n",
        "\n",
        "#Solvign model\n",
        "results=opt.solve(model)\n",
        "\n",
        "#Print results\n",
        "print('Profit = ', model.profit())\n",
        "print('\\nDecision Variables')\n",
        "for p in P:\n",
        "    print('x',(p+1),' = ', model.x[p].value,sep='')\n",
        "\n",
        "    "
      ],
      "execution_count": 18,
      "outputs": [
        {
          "output_type": "stream",
          "name": "stdout",
          "text": [
            "Profit =  13200.0\n",
            "\n",
            "Decision Variables\n",
            "x1 = 12.0\n",
            "x2 = 6.0\n"
          ]
        }
      ]
    },
    {
      "cell_type": "code",
      "metadata": {
        "id": "m89Pdp2FZ4eS"
      },
      "source": [
        ""
      ],
      "execution_count": null,
      "outputs": []
    }
  ]
}