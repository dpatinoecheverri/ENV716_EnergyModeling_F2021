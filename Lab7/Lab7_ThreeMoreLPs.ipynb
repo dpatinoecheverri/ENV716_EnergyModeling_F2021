{
  "nbformat": 4,
  "nbformat_minor": 0,
  "metadata": {
    "kernelspec": {
      "display_name": "Python 3",
      "language": "python",
      "name": "python3"
    },
    "language_info": {
      "codemirror_mode": {
        "name": "ipython",
        "version": 3
      },
      "file_extension": ".py",
      "mimetype": "text/x-python",
      "name": "python",
      "nbconvert_exporter": "python",
      "pygments_lexer": "ipython3",
      "version": "3.7.4"
    },
    "colab": {
      "name": "Lab7_ThreeMoreLPs.ipynb",
      "provenance": [],
      "collapsed_sections": [],
      "toc_visible": true,
      "include_colab_link": true
    }
  },
  "cells": [
    {
      "cell_type": "markdown",
      "metadata": {
        "id": "view-in-github",
        "colab_type": "text"
      },
      "source": [
        "<a href=\"https://colab.research.google.com/github/lmmlima/ENV716_EnergyModeling_F2021/blob/main/Lab7/Lab7_ThreeMoreLPs.ipynb\" target=\"_parent\"><img src=\"https://colab.research.google.com/assets/colab-badge.svg\" alt=\"Open In Colab\"/></a>"
      ]
    },
    {
      "cell_type": "markdown",
      "metadata": {
        "id": "Y14uvsnh0e75"
      },
      "source": [
        "# **Lab 7 - More on LPs in Python**"
      ]
    },
    {
      "cell_type": "markdown",
      "metadata": {
        "id": "Cda7t6gw1PYI"
      },
      "source": [
        "Learning outcomes for Lab 7:\n",
        "* Implement more LP models in Pyomo using object **Sets()** and **Param()**;\n",
        "\n"
      ]
    },
    {
      "cell_type": "markdown",
      "metadata": {
        "id": "RRVCA3_S17L0"
      },
      "source": [
        "## Initializing "
      ]
    },
    {
      "cell_type": "code",
      "metadata": {
        "colab": {
          "base_uri": "https://localhost:8080/"
        },
        "id": "p9RjfZs31rSC",
        "outputId": "9f752808-66d5-4fa4-9d90-c39e686a759c"
      },
      "source": [
        "from google.colab import drive\n",
        "drive.mount('/content/drive')"
      ],
      "execution_count": null,
      "outputs": [
        {
          "output_type": "stream",
          "name": "stdout",
          "text": [
            "Mounted at /content/drive\n"
          ]
        }
      ]
    },
    {
      "cell_type": "code",
      "metadata": {
        "id": "zz6H46Ap1vhR"
      },
      "source": [
        "import os\n",
        "os.chdir('/content/drive/MyDrive/Colab Notebooks/')"
      ],
      "execution_count": null,
      "outputs": []
    },
    {
      "cell_type": "markdown",
      "metadata": {
        "id": "iCRbHUT8110g"
      },
      "source": [
        "Installing Pyomo and glpk solver."
      ]
    },
    {
      "cell_type": "code",
      "metadata": {
        "colab": {
          "base_uri": "https://localhost:8080/"
        },
        "id": "jAqq5CgB2CdL",
        "outputId": "b7bd93bb-f33a-4baf-a53a-2b49ae075a08"
      },
      "source": [
        "!pip install pyomo\n",
        "!apt-get install -y -qq glpk-utils"
      ],
      "execution_count": null,
      "outputs": [
        {
          "output_type": "stream",
          "name": "stdout",
          "text": [
            "Collecting pyomo\n",
            "  Downloading Pyomo-6.1.2-cp37-cp37m-manylinux_2_5_x86_64.manylinux1_x86_64.manylinux_2_12_x86_64.manylinux2010_x86_64.whl (9.1 MB)\n",
            "\u001b[K     |████████████████████████████████| 9.1 MB 28.7 MB/s \n",
            "\u001b[?25hCollecting ply\n",
            "  Downloading ply-3.11-py2.py3-none-any.whl (49 kB)\n",
            "\u001b[K     |████████████████████████████████| 49 kB 5.5 MB/s \n",
            "\u001b[?25hInstalling collected packages: ply, pyomo\n",
            "Successfully installed ply-3.11 pyomo-6.1.2\n",
            "Selecting previously unselected package libsuitesparseconfig5:amd64.\n",
            "(Reading database ... 155047 files and directories currently installed.)\n",
            "Preparing to unpack .../libsuitesparseconfig5_1%3a5.1.2-2_amd64.deb ...\n",
            "Unpacking libsuitesparseconfig5:amd64 (1:5.1.2-2) ...\n",
            "Selecting previously unselected package libamd2:amd64.\n",
            "Preparing to unpack .../libamd2_1%3a5.1.2-2_amd64.deb ...\n",
            "Unpacking libamd2:amd64 (1:5.1.2-2) ...\n",
            "Selecting previously unselected package libcolamd2:amd64.\n",
            "Preparing to unpack .../libcolamd2_1%3a5.1.2-2_amd64.deb ...\n",
            "Unpacking libcolamd2:amd64 (1:5.1.2-2) ...\n",
            "Selecting previously unselected package libglpk40:amd64.\n",
            "Preparing to unpack .../libglpk40_4.65-1_amd64.deb ...\n",
            "Unpacking libglpk40:amd64 (4.65-1) ...\n",
            "Selecting previously unselected package glpk-utils.\n",
            "Preparing to unpack .../glpk-utils_4.65-1_amd64.deb ...\n",
            "Unpacking glpk-utils (4.65-1) ...\n",
            "Setting up libsuitesparseconfig5:amd64 (1:5.1.2-2) ...\n",
            "Setting up libcolamd2:amd64 (1:5.1.2-2) ...\n",
            "Setting up libamd2:amd64 (1:5.1.2-2) ...\n",
            "Setting up libglpk40:amd64 (4.65-1) ...\n",
            "Setting up glpk-utils (4.65-1) ...\n",
            "Processing triggers for libc-bin (2.27-3ubuntu1.3) ...\n",
            "/sbin/ldconfig.real: /usr/local/lib/python3.7/dist-packages/ideep4py/lib/libmkldnn.so.0 is not a symbolic link\n",
            "\n",
            "Processing triggers for man-db (2.8.3-2ubuntu0.1) ...\n"
          ]
        }
      ]
    },
    {
      "cell_type": "markdown",
      "metadata": {
        "id": "uDsRodub2IFw"
      },
      "source": [
        "Importing pyomo and solver."
      ]
    },
    {
      "cell_type": "code",
      "metadata": {
        "id": "KF4yLGmk0Wp-"
      },
      "source": [
        "from pyomo.environ import *\n",
        "#Import solver\n",
        "opt=SolverFactory('glpk')"
      ],
      "execution_count": null,
      "outputs": []
    },
    {
      "cell_type": "markdown",
      "metadata": {
        "id": "3wmLa-7X6K1P"
      },
      "source": [
        "## Exercise 1"
      ]
    },
    {
      "cell_type": "markdown",
      "metadata": {
        "id": "eCNN4yp06Ogb"
      },
      "source": [
        "Recall our chemical solution example. Imagine we have a third type o chemical solution. How would you change the model from Lab 6 to incorporate a third type that has a profit of 700 and takes 2 hours on machine A and 2 hours on machine B."
      ]
    },
    {
      "cell_type": "code",
      "metadata": {
        "id": "NzWW2tOWAdJ2"
      },
      "source": [
        "# your code\n"
      ],
      "execution_count": null,
      "outputs": []
    },
    {
      "cell_type": "markdown",
      "metadata": {
        "id": "SnOkDxF9IlU5"
      },
      "source": [
        "Understanding argument rule and UDF."
      ]
    },
    {
      "cell_type": "code",
      "metadata": {
        "id": "reC6coRjIk7_"
      },
      "source": [
        "#Print obj function\n"
      ],
      "execution_count": null,
      "outputs": []
    },
    {
      "cell_type": "code",
      "metadata": {
        "colab": {
          "base_uri": "https://localhost:8080/"
        },
        "id": "O3mXY0QRHxMK",
        "outputId": "f12571f9-5e2d-41a3-9dfa-2e23269543ff"
      },
      "source": [
        "#Print model constraints"
      ],
      "execution_count": null,
      "outputs": [
        {
          "output_type": "stream",
          "name": "stdout",
          "text": [
            "mach : Size=2, Index=M, Active=True\n",
            "    Key : Lower : Body                                    : Upper : Active\n",
            "     MA :  -Inf : 4*X[TypeI] + 2*X[TypeII] + 2*X[TypeIII] :  60.0 :   True\n",
            "     MB :  -Inf : 2*X[TypeI] + 4*X[TypeII] + 2*X[TypeIII] :  48.0 :   True\n"
          ]
        }
      ]
    },
    {
      "cell_type": "markdown",
      "metadata": {
        "id": "j1VLqVZV2MNr"
      },
      "source": [
        "## Exercise 2: Implement the LP Model for the PV manufacturing example from A4 - Q4\n",
        "\n",
        "\n"
      ]
    },
    {
      "cell_type": "markdown",
      "metadata": {
        "id": "nM-v8Qpe3XNK"
      },
      "source": [
        "A manufacturer of PV cells assembles three types of cells, model 1, model 2 and model 3. Each model requires processing in three machines (in any order). The number of machine hours required for each unit of each model and the available capacity on the machines is given in the following table:\n",
        "![Screen Shot 2021-10-06 at 1.42.30 PM.png](data:image/png;base64,iVBORw0KGgoAAAANSUhEUgAAAoIAAAB/CAYAAAB7Y6P7AAAK3GlDQ1BJQ0MgUHJvZmlsZQAASImVlwdUE+kWgP+Z9AaBhAhICb0jnQBSQg9FkA6iEpJAQgkxIajYkcUVWAsqIqCs6KKIgqtLkbUgFmyLoiL2BVkUlHWxYENlB3iE3X3nvXfezZncLzf3v+U/88+5AwAlhCuRZMBUADLF2dKIAG9mXHwCEzcAiAALyMAVAC5PJmGHh4cARKb13+XdHQBN6FtWE7H+/f//Kqp8gYwHAJSIcDJfxstEuA25XvIk0mwAUEcRu8HSbMkE30aYLkUKRHhwglOn+PMEJ08ymjrpExXhg7AhAHgylytNBYBsg9iZObxUJA45HGEbMV8kRngtwh48IZePMJIXWGZmZk3wMMKmiL8EAAodYVbyX2Km/i1+siI+l5uq4Km+JgXvK5JJMrjL/8+t+d+SmSGfzmGMXGShNDAC0Qxk/+6mZwUrWJw8L2yaRfxJ/0kWygOjp5kn80mYZj7XN1ixNmNeyDSniPw5ijjZnKhpFsj8IqdZmhWhyJUi9WFPM1c6k1eeHq2wCwUcRfxcYVTsNOeIYuZNsyw9MnjGx0dhl8ojFPULxAHeM3n9Fb1nyv7Sr4ijWJstjApU9M6dqV8gZs/ElMUpauMLfP1mfKIV/pJsb0UuSUa4wl+QEaCwy3IiFWuzkZtzZm24Yg/TuEHh0wx8gR8IQT5MEAnsgDOwBSzEBrIFy7InmvHJkiyXilKF2Uw2cuIETI6YZ23JtLOxswVg4vxO3RJv7k6eS4iBn7FlITmcRQjUzNi46wFoRgOghp2xGaMAUNkGwKl1PLk0Z8qGnvjCIE8GZUAHGkAHGABTYIXU5wTcgBdScRAIA1EgHiwCPCAEmUAKloKVYB0oAEVgC9gBykEV2AcOgiPgGGgGJ8FZcBFcBTdAN3gAesEAeAFGwDswBkEQDqJANEgD0oWMIAvIDmJBHpAfFAJFQPFQEpQKiSE5tBJaDxVBJVA5tBeqhX6ETkBnoctQF3QP6oOGoNfQJxgFk2E6rA0bw3NgFsyGg+EoeCGcCi+Bc+F8eBNcBlfDh+Em+Cx8Fe6Ge+EX8CgKoEgoBkoPZYVioXxQYagEVApKilqNKkSVoqpR9ahWVAfqFqoXNYz6iMaiaWgm2grthg5ER6N56CXo1ehidDn6ILoJfR59C92HHkF/xVAwWhgLjCuGg4nDpGKWYgowpZgaTCPmAqYbM4B5h8ViGVgTrDM2EBuPTcOuwBZjd2MbsG3YLmw/dhSHw2ngLHDuuDAcF5eNK8Dtwh3GncHdxA3gPuBJeF28Hd4fn4AX4/PwpfhD+NP4m/hn+DEClWBEcCWEEfiE5YTNhP2EVsJ1wgBhjKhCNCG6E6OIacR1xDJiPfEC8SHxDYlE0ie5kOaTRKS1pDLSUdIlUh/pI1mVbE72ISeS5eRN5APkNvI98hsKhWJM8aIkULIpmyi1lHOUx5QPSjQlayWOEl9pjVKFUpPSTaWXygRlI2W28iLlXOVS5ePK15WHqQSqMdWHyqWuplZQT1B7qKMqNBVblTCVTJVilUMql1UGVXGqxqp+qnzVfNV9qudU+2komgHNh8ajraftp12gDdCxdBM6h55GL6IfoXfSR9RU1RzUYtSWqVWonVLrZaAYxgwOI4OxmXGMcYfxaZb2LPYswayNs+pn3Zz1Xn22upe6QL1QvUG9W/2TBlPDTyNdY6tGs8YjTbSmueZ8zaWaezQvaA7Pps92m82bXTj72Oz7WrCWuVaE1gqtfVrXtEa1dbQDtCXau7TPaQ/rMHS8dNJ0tuuc1hnSpel66Ip0t+ue0X3OVGOymRnMMuZ55oiell6gnlxvr16n3pi+iX60fp5+g/4jA6IByyDFYLtBu8GIoa5hqOFKwzrD+0YEI5aR0GinUYfRe2MT41jjDcbNxoMm6iYck1yTOpOHphRTT9MlptWmt82wZiyzdLPdZjfMYXNHc6F5hfl1C9jCyUJksduiyxJj6WIptqy27LEiW7GtcqzqrPqsGdYh1nnWzdYv5xjOSZizdU7HnK82jjYZNvttHtiq2gbZ5tm22r62M7fj2VXY3ban2Pvbr7FvsX/lYOEgcNjjcNeR5hjquMGx3fGLk7OT1KneacjZ0DnJudK5h0VnhbOKWZdcMC7eLmtcTrp8dHVyzXY95vqHm5Vbutsht8G5JnMFc/fP7XfXd+e673Xv9WB6JHl879HrqefJ9az2fOJl4MX3qvF6xjZjp7EPs19623hLvRu93/u4+qzyafNF+Qb4Fvp2+qn6RfuV+z321/dP9a/zHwlwDFgR0BaICQwO3BrYw9Hm8Di1nJEg56BVQeeDycGRweXBT0LMQ6QhraFwaFDottCH84zmiec1h4EwTti2sEfhJuFLwn+ej50fPr9i/tMI24iVER2RtMjFkYci30V5R22OehBtGi2Pbo9RjkmMqY15H+sbWxLbGzcnblXc1XjNeFF8SwIuISahJmF0gd+CHQsGEh0TCxLvLDRZuGzh5UWaizIWnVqsvJi7+HgSJik26VDSZ24Yt5o7msxJrkwe4fnwdvJe8L342/lDAndBieBZintKScpgqnvqttQhoaewVDgs8hGVi16lBaZVpb1PD0s/kD6eEZvRkInPTMo8IVYVp4vPZ+lkLcvqklhICiS9S1yX7FgyIg2W1sgg2UJZSzYdGZSuyU3l38j7cjxyKnI+LI1ZenyZyjLxsmvLzZdvXP4s1z/3hxXoFbwV7Sv1Vq5b2beKvWrvamh18ur2NQZr8tcMrA1Ye3AdcV36ul/ybPJK8t6uj13fmq+dvza//5uAb+oKlAqkBT0b3DZUfYv+VvRt50b7jbs2fi3kF14psikqLfpczCu+8p3td2XfjW9K2dS52Wnzni3YLeItd7Z6bj1YolKSW9K/LXRb03bm9sLtb3cs3nG51KG0aidxp3xnb1lIWcsuw11bdn0uF5Z3V3hXNFRqVW6sfL+bv/vmHq899VXaVUVVn74XfX93b8Depmrj6tJ92H05+57uj9nf8QPrh9oazZqimi8HxAd6D0YcPF/rXFt7SOvQ5jq4Tl43dDjx8I0jvkda6q3q9zYwGoqOgqPyo89/TPrxzrHgY+3HWcfrfzL6qbKR1ljYBDUtbxppFjb3tsS3dJ0IOtHe6tba+LP1zwdO6p2sOKV2avNp4un80+Nncs+Mtknahs+mnu1vX9z+4Fzcudvn55/vvBB84dJF/4vnOtgdZy65Xzp52fXyiSusK81Xna42XXO81viL4y+NnU6dTdedr7fccLnR2jW36/RNz5tnb/neunibc/tq97zurjvRd+72JPb03uXfHbyXce/V/Zz7Yw/WPsQ8LHxEfVT6WOtx9a9mvzb0OvWe6vPtu/Yk8smDfl7/i99kv30eyH9KeVr6TPdZ7aDd4Mkh/6Ebzxc8H3gheTE2XPC7yu+VL01f/vSH1x/XRuJGBl5JX42/Ln6j8ebAW4e37aPho4/fZb4be1/4QePDwY+sjx2fYj89G1v6Gfe57IvZl9avwV8fjmeOj0u4Uu7kKIBMBwBOSQHg9QFkPo4HgHYDAOKCqfl6UqCpd4JJAv+Jp2bwSXECoNYLgInRK7QNgMq1yAyC/KYiOhzRUV4AtrdXXP8SWYq93VQsUjMympSOj79B5kecGQBfesbHx5rHx7/UIMXeB6Dt3dRcPyHUw8ibjLJvYERIt14V+KdMzfx/6fGfGkxU4AD+qf8EoW8X3unOxAYAAABWZVhJZk1NACoAAAAIAAGHaQAEAAAAAQAAABoAAAAAAAOShgAHAAAAEgAAAESgAgAEAAAAAQAAAoKgAwAEAAAAAQAAAH8AAAAAQVNDSUkAAABTY3JlZW5zaG90rkB0qwAAAdZpVFh0WE1MOmNvbS5hZG9iZS54bXAAAAAAADx4OnhtcG1ldGEgeG1sbnM6eD0iYWRvYmU6bnM6bWV0YS8iIHg6eG1wdGs9IlhNUCBDb3JlIDYuMC4wIj4KICAgPHJkZjpSREYgeG1sbnM6cmRmPSJodHRwOi8vd3d3LnczLm9yZy8xOTk5LzAyLzIyLXJkZi1zeW50YXgtbnMjIj4KICAgICAgPHJkZjpEZXNjcmlwdGlvbiByZGY6YWJvdXQ9IiIKICAgICAgICAgICAgeG1sbnM6ZXhpZj0iaHR0cDovL25zLmFkb2JlLmNvbS9leGlmLzEuMC8iPgogICAgICAgICA8ZXhpZjpQaXhlbFlEaW1lbnNpb24+MTI3PC9leGlmOlBpeGVsWURpbWVuc2lvbj4KICAgICAgICAgPGV4aWY6UGl4ZWxYRGltZW5zaW9uPjY0MjwvZXhpZjpQaXhlbFhEaW1lbnNpb24+CiAgICAgICAgIDxleGlmOlVzZXJDb21tZW50PlNjcmVlbnNob3Q8L2V4aWY6VXNlckNvbW1lbnQ+CiAgICAgIDwvcmRmOkRlc2NyaXB0aW9uPgogICA8L3JkZjpSREY+CjwveDp4bXBtZXRhPgp+ZgnVAAA0PklEQVR4Ae1dCdxW0/ZeaE5FpNI8KqWBK83KTRGVqBShpFKhgTJUols0XyVlFpm6RNFA5uHeQhMa9deAJk2GTIXz38+69rnnfXunb+j73nPOs36/9z3n7L3PPns96wxrr7322sc4hoREBIgAESACRIAIEAEiEDoEjg0dx2SYCBABIkAEiAARIAJEQBGgIsgbgQgQASJABIgAESACIUWAimBIBU+2iQARIAJEgAgQASJARZD3ABEgAkSACBABIkAEQooAFcGQCp5sEwEiQASIABEgAkQgTzQExxxzTHQSj4kAESACRIAIEAEiQAR8ikCiADFHKILgMdEJPsWAzU4BAXQCKPsUgApQEco8QMLMACuUewbAClBRyj1AwswAK5B7IuLQcCJ0mEcEiAARIAJEgAgQgQAjQEUwwMIla0SACBABIkAEiAARSITAUVUEBwwYICVLlpQWLVrEbMP06dM1/+KLL46Zn9HE9u3bS7du3eKedskll8jll18eNz8rGc8884zyAn7j/d59992sXCK055YvX14xnTJlSkwM2rRpo/kPPfRQzPxUEnEvli5dWv7888+kxb/55hu93osvvpi07GOPPSZFihRJqd6klYWsgN/kDreKuXPnyhVXXKH3R926dWXq1KmUfQbuW7/JHKw9++yz0q5dO31/YLtixYoMcOz/opMnT9b7ffjw4dnOjPebPXPmTL3Ob7/9lvQ6u3fv1rLPPfdc3LL4blxzzTVx85NlbNmyRWz9e/fu1es9/fTTyU5Ly/yjqgj+8MMP8u2338p7770nmzZtOgKAp556SvP37dt3RF5mEg4cOCCJ6ipTpowKKzN1JzunWrVqcu2117q/X3/9VQoUKOAeI+/UU09NVg3zYyCAhxr30ezZs4/I3bp1qyxZskTzf/rppyPyU0348ccfZdeuXSn5SP7+++96vV9++SVh9VAK+vfvLwcPHkxYjpmxEfCb3BcsWCCdOnWS/fv3y+233y6lSpWSQYMGyfjx42MzyNQjEPCbzF977TW58sorJV++fHLrrbfKV199pYaP//u//zuCt6AmPPjggwJFCFt897KTvN9svKPxHUjFj92+o3/++ee4zcFzCp0hs3ThhRfK66+/rqcfd9xxUrlyZe30Z7a+3DzvqCqCYCxv3rz6e+GFFyL4/PLLL+WTTz6JSPMeQEg7d+70JkXsQ4B//PFHRJr3AEpotGLwwAMPyLRp07zFdB/14AaLR7i5EymYOK9BgwZy7733ur+TTz5Zqlev7h4jD8epEq6JGz8epdKmeOf6Mb1w4cKyevXqIzoUzz//vMRzhIVccQ8lenHs2bMnIRyZwRkKYpcuXVQpSFg5M5Mi4Ce5T5o0SWrVqiVQDqAAYotn/oknnkjKJwv8DwE/yRwKP2SO0QHIHBYhdPzmzZv3P4YCvPf+++8LlN7Ro0drB2jOnDmZ4hbv2Vgd8XjfbO9F4p1ry+D9jw5GqoRvfbJOPury6h8nnniiLF26VDp06HDEZb7//ns5dOhQRHoifSLV60dUmMWDo64InnTSSdKqVSv517/+FdFU3DBly5aVxo0bu+kYlrvrrrvklFNOEZwHCxp6BAsXLnTLLFq0SOrUqaP5GILt0aNHhMVlx44d8ve//11OOOEE/V1wwQWuQoV9KygMI5YrV05GjBih5VAXjt9++233Wtu2bZPWrVvL8ccfL1DsKlWqJLh+ZgkWLQwT4uGxhJsULxKYqNEmtOP666+XYsWKSfHixaVly5YCq5el7G6TrTfdtx07dozZoYAiCKXLS+gFwhKHDwruoaJFi8qwYcPEO6TwyCOPqDxxr+E+jB62zwrOUC5xH2EoG/cXKfMI+EXu+CjgXXT//fe7zKKDgvdYIquEW5g7LgJ+kTkaDIsQvk+2M2otgfhmhIGs68vNN98sVapUEQzfWsK3GO/esWPH2iTd4vuGby2emQ8//FDgQoF3NVxzgBvqsuT9Zts0u012LspBIce3G9Z5fFvhwhWPYNGHVQ/l8Z3Gt//rr7+OWbxRo0aqAEPxR7vxzsc5s2bN0vI4t3v37nLuuefqdxz6yB133CG4BsrjGg0bNpSPPvrIrT8j13dPyq4do4hEkKk34jgrBwYIxwjAMeA4qPeLL75wqzvjjDMcI3CnadOmjgFE01966SUt16dPH+eDDz5wzE3mmA+5Y4DT/OXLlzuFChVyzjnnHMcolo5RnBxjcXSMb4Lmoy5c56KLLnIMqFo/js3HWPObN2/uGCVR943vjpY1yp1j/MMco1A45qXt4Bh0+PBhp3bt2o5RFBzzQXeMRdMxVj8nT548ztq1a7VMoj9zQzlGAY4oYqyYjhkudnr37u2mg0+00dywjm0TeAbvlv/69es7pteT5Ta5F42zg3akI5lhF+emm25SuZqXhtvE9evXu9ih7cZXRfN69erlGFO907NnT70PzNCNY17UztChQzX/rbfe0vzzzz9fcTdKuNaDOsyQQlKcjW+IljeuDW5bvDvmBecYq4AmjRkzRssiLR0pXWUOrPwm92j5mhEPlb1REKOzcv04XeXuV5mvWbPGMQqOYz7wTr169RyjGOS6jGM1IDvlbixd+j3G+xZ099136/2+cuVK99LGkOEYtyn32HSKHKMcOn379nXMiJdjDB4Ovm+vvvqqYxRqxyhQWodR8vQc7zfbuFhonrHWJT3X+HFrWXwHjFHAgW4BPQP847kE/e1vf3OMT6fur1q1yjn22GOdJk2aOMalxxk3bpxTokQJ58wzz3Rivbuhi+A7jfaircaaqXVDJwFZXeTSSy915s+f7/JlFF3HWE/1GrhXoCOBMnp9PSkDf8nkfsSXP9kJGbi2MglF8LvvvtOXOj6KIDw0uA7A9CqCr7zyijN48GDHmFHdy9x4441a1lhzNA83Dm5ASxMmTHBuueUWPURdUOagNIGMhVEVOdPD1GPvTWWVLuNfpnn4u+222/RauNEgPLTxvvvuc/ONyVYVTzzwySiWIohzzGQWx/QO3DZCKcQNB55tm4yvhVu9GW7SduBmy2qb3Erj7GSn7ONcIlPJ9uPw5JNPKha2QzFq1CgHOJuep6ZDEYQCBmUdLyAv4aFHPcAZiqGxNEfcZ8YpWeuAIpgM52SKoPe6VAS9aGRs389yxz2KDwU6ksbtJGOM50BpPuv/7fRl17MOY0LVqlX1HWImRzrGMpgDUsz4JbJT7g8//LDya0a4tCFm5Eo73DDkWEJnGddctmyZJpnJFe7x5s2bnSFDhjhmco0trgYglDeWNk3zfrO9imCyc60iiM6+JcgEdV933XWa5FUEoZBBaTQ+nra4GmJQHoaDWAR5X2OMCKBYiqAZ0XO/8++8845eu2vXrloef/j24/0Aysz19cQU/8BHIjrqQ8OmATrMCROv9RPEsDAmV5x11lnIdgkzrjp37qyO1phJDFOzHWqB86fRmsVYEtXcbE8yVh6ZOHGiPZTTTjtN8ufPr8cw159++uliFFE3P3oH9VmC+RgEnwNjbdJ9XN/0WPSHIWcMX2/cuFHzMvNnrFTaHgwn4DoYMoezMXwpLQErSzAxg8D70WqTvVa6bzGDDLK1bgYYFsYscTssg/Z/9tlngnulbdu2Eezg3oKfhnmByKeffqr3nhdz88Jxy4cdZxeINNnxm9zhKwSXFwx9vfnmm2I6emmCpH+a4TeZI0IGJkTC7x3Dff369fMP2JlsKYaFQZg5C/6NUUaHeDH8Ch990GWXXabfazskC/cofJPNqJ665hgjjrzxxhs6095Y39StC+fhHZ6I4KaVyrmY0GEJ+gTO27Bhg01yt3jnG0VJEHnEfu/h1w/K7PfeKIquLgL3I5BRTHWLP/gVWl/Eo3F990Ip7MRcWSSF8zJcBGFboPCYnrLYD3h0JbixjLauCiDG1vExx4OFcXcICaAZK0H0aRHH8DXICBUsWNAtbkzD7r4ZGtZ9+KtgTN9L8CvLLEGZhH8EHgwolXAkNb2KiOrM8Ld7DF8CEJSWo9Um92JpvgN/E9uhMMP/+oCaHlZEqzFTG+SVJY5x/4Bwf2A/2nnYO7M37DgrUGn05ye5YwY73hl4xhcvXqwfnjSC0jdN8YvM8R7Buxn+3CBjZVJlwgxF6vfK+33xDfgpNHTdunWq8NaoUcM1UOA0TI4yQ8Ma4QHKIb5l+Pbjm29G3DTCwz333KNXQPiVs88+W79r+C4i7BK+dzCW2Pd1vKakem4sX02vAcDWDyMBZHjVVVfZJHcbbbByM5LswM8/muLdD0fj+tHXTnScY4ogLDIAYeTIkdpzihXvb8aMGWopND54roUM4RhAUJpgRcRkDSiEFlBMCoB1LbNaezxw7AxfWAmN+VqL4bpmqFotnPHOS5YOBQWKHyYSgCc4yhqfkojTbA8Jif/+9781DzcjrFmg7G6TVuqTP7xU8MJAb834cOoPs80sodcHCyFmbFq5IQ8fZbxk0DPDyxo9U8xMty9wGwYAZY+W7FE3KXMI+EHuZghJ48nB2mGGHLXHnzlueRYQSHeZYxIQFH50To1bkys0WHfQIbUjU25GgHYef/xx5Qb3uX1fIgHfSBhOEEoGiiAIodMwOc/4eeuxVbYwMogZsh9//LEqhMi0oz2wpieiVM/FSJolGKGgQCJ+YDRhJNG4rKkFs0KFCppthrN1AicmbMYifGfwDc8Oysz1s+O6to7/mcBsylHaYkYNLHwQNBQf9CSiqWbNmoJgvZjBidlXxvlUA7SiHCw2MLfj4w3zLYZcEJYB1kL0IKwlKLrOzB5Dca1YsaIOOxs/Qb1ZcUPjAYjV9oxcB7ML8cBgRhP2owkzp3Gj42HCw4PZRVAYj2abotuQrse2Q4H7KFZnApYEYGp8MjScg5mMozOIYVmGAglCPhRynI+PN3qqeOgtEWeLRPps013ucPMwvlHqfoDhH+PPKnhv4GfdW9IHTX+0JN1lDmsXhrAx2xOhgzAkDMME3FPwrYgelfAH6slbiRETdKTR4fEqgTgTBhq8V6FUYVYvCN8vfDMRVxVKs3XBwhAxCMqk8S/U76FVHqNDv2lBz1+q5+J7jbbCuIL3PuL93XDDDZ6a/rsLAw+skBi1NBNX1HBg/PaUB+glsQi84ruSysICsc73pmXm+t7zs7xvmI8gU2HEcVYOjOavs4ZtHUa5UYdJOH1a8k4W+fzzz3XWjnmAtBxm7RrLj+5j1i7IKH862QLtNGPs6nBpJ4/AsdTrHIry5513njtT2Aw3u/t2YobxZUAxJRNjUK+F2b0gTGrBTGFcCz9z8zkokwrBkRQziuJRs2bNdFKD15HctgmzjU1vQ51X4Xhshh/carLSJreSODvZKfs4l8hUsulZOwMHDnTPNVZilYeJRalp1lEXs7tBuB+uvvpqxc/eJ5h17J39hfsIE0aQj5lcpnOh+5gsAkqEs3lpaVnzgtGyif7MMIiW9V47UfmczktXmQMHP8ndzv4HntE/88HIabEmvV66yt1PMgfIxjDhYDKilTkmquFdZScsJhVEDhfIDrljUifqMR2cmK03ypHm4/tvyU70wIxcS3gnYuIe3r+oDxNBMeHPhHlxTEgwLeb9Zts6MHE02bnbt2/XOvGtQKQO1I/JG1aPQOX4tpvOhm2Og8mImMmLsmb4WHUFO8nFLeTZMXMTtBzK43uBLSbQgKJ1EXyrkI/oJJZMSDPHGMjsYYav756Ywg6unYiOQaYp5BLMnVFJbl5O7SC4M3pT1j8u+rpoH+K8mVl5SX0Go8/NzDEmm8AiaR0+M1NH9Dmw8GGo29ubQLBr8xLRySRwloUs7NBl9PlHo03pIPtoPrNyDCuNeSGon1a83jmGCjC8Y17gMS91NHCOeaFcSgyazAEj5Z78Zgqa3HNb5nhPwEUFkxHSeUg4HeWO+K6IOYgROLQvI5TKufC/w0gj6o/3HfBeE7EDEfcPo5jJCNfHvRfLHzDZufHyM3L9eHVEpyeTe1oqgtFMBOkYQ74wJ2N9RgQd9vofeBXB7LyxUsUv2c2Saj0s5x8EKHP/yCo7W0q5Zyea/qmLcvePrLKzpcnkHtsMkp0tYF0RCGCFC/ROsByRVwlEIfRWMKMplV5LRKU8IAJEgAgQASJABIhAJhCgRTAToGXlFISLwbAvlp5KN0rWa0i39rI9WUeAMs86hn6sgXL3o9Sy3mbKPesY+rGGZHKnIuhHqR6lNie7WY7SZVltLiJAmeci+Ll4aco9F8HPxUtT7rkIfi5eOpnccyx8TC5iwEsTASJABIgAESACuYAAJn+aWb65cGVeMlUEqAimihTLEQEiQASIABEgAikjgDiuWMYVwbcRcxFBwv1AUF5NGBtdASxee/3ETzwebDoni1gkuCUCRIAIEAEiQASyBQGEecN6wHfeeaeGYjFxWzWgc7ZUfpQrgQUTyiAWfohHfuInHg82nYqgRYJbIkAEiAARIAJEIFsQwOpPmzZtkt69e2t9DzzwQMx6oXRhqblTTjklZn6sxD179kiJEiXcLMTzw4onsdYWhkK6c+dOXWc+Xlg2s4iEYFUqrDwSi6AUIq6xN6JHZvlB3EGsnJJOE0Y5NBxL6kwjAkSACBABIkAEMo3A8OHDdTg4X758WgeWl+vQoYPuP/TQQxrIf8SIERq8GcOwCOyP2LqxyKyupVZF1IlyUBqxoATKIxSbWWVMFUOzIokGeEYdCNOG4dvChQsLrHcIEm1WKtFFBuw1Fi1aJHXq1FGlDG3AMnRYPMIS1qDH9ZCHa4wdO9Zm6XJ5GeEHi2CY1cZUWYVSieDjuH46EBXBdJAC20AEiAARIAJEICAIwAJnllWTtm3buhxhmNWuIQwLHhS1Z599VsaNGydm6TUdhr3uuuvc8t6dP//8UxU0s2SnYF3eZ555RrOxrjfWEYZieccdd4hZQk6PkTl06FBdMxhrfWPdY+S///77MmHCBD13xYoV0rlzZ8Ga0VjoAXXb9mgB84f1kWHRxHrI9erVEyiuWEsalBF+EDLu4osvlk8//VTM0nTaTiizUCTXrVun9eXmH4eGcxN9XpsIEAEiQASIQMAQMGvvKkeweiUiKHBQ5kCrV69WpRBDp2Z94JinwWKHRRlAUO5mzpwpY8aMEbPes6aZ9eZlyZIlYtYQllq1asl5550nvXr10rxGjRrJrFmzdHlaJECZxAIOKI9hYRDi/GIY2BKuBx9HEMpgEYi1a9eqFdGW8W7j8YNrAJP77rtPl5HFOWhbqVKlBIoq+MhNoiKYm+jz2kSACBABIkAEAoYAlCUQhlUTEWYUW4JSBEqkCEK5s2TrbtWqlU3S4VvMUAZBYYSlr0+fPrJx40ZVxPbv36++hMhftWqVzmi2SiDSYEUEwaIJqlu3rm7xV7t2bd3HutLxKB4/69ev11Og9EEZtQRLJ9qW20RFMLclwOsTASJABIgAEQgQAghgDMKQaCIqWLCgm+2diOEmRu3Az88SJoGAvHXYPGzbt2+v1r6mTZtKgwYNdEjZKnrIx9Cu9V/EcSyCf2FGyNsWLz+YyAKC5bJ06dIRVWZkkkzEidl4QB/BbASTVREBIkAEiAARCDsCZ555pkKwYcOGXIFi8+bNgokeN998s/oFTpo0Sf0Vd+3a5Qa3rlatmg7zekPE9O/fXypUqCDwYcxOql69ulYHq+eQIUP0169fP/UPzO5rZabdVAQzgxrPIQJEgAgQASJABGIiUL9+fQ21kluKIBQuzPJdtmyZKnsff/yxTsywoVvQaChiGCqG5fDNN9+UJ554Qodte/bsKfnz54/JV2YT4bNYsWJFnSgCP0G059prr5XHH39catSokdlqs+08KoLZBiUrIgJEgAgQASJABBDPD1YwzMy1ZIeL7TG23uFTb3r0vj3XbpFv9+3WpuEYM4HHjx+vM5Ph29e4cWONA9i1a1dZuXKlDgsjDcrf8uXLdcIKrIfdu3dXa52t025t3bG2SLMUjx8MGS9YsECtjYMHD5ZzzjlHZx9PnTpVmjRpYk/Pte0xZpz9vwPtfzUBjEcl5VrjeOGcRYCyz1m80+FqlHk6SCHn20C55zzm6XDFnJQ7lJzbb79dZ+l6gz/nNA5btmxRv7x4M5Gh7yDGH+ISJvMZzI62Y7IJYhWWLVs2O6pLqY5kcqcimBKM4SiU7GYJBwrh4pIyD5e8LbeUu0UiXNuclDsmimAWbadOneQf//hHuIBOM26TyZ2KYJoJLDebk+xmyc228dpHBwHK/Ojgmu61Uu7pLqGj076clvvixYvlyiuvlK+++irm8m9Hh0vWGo1AMrlTEYxGLMTHyW6WEEMTWNYp88CKNiFjlHtCeAKbmRty/+KLL3SiRE4MuwZWcFlkLJncqQhmEeAgnZ7sZgkSr+TlvwhQ5uG8Eyh3yj2cCIST62TPO2cNh/O+INdEgAgQASJABIhABhDASiC7d+/OwBn+KEpF0B9yYiuJABEgAkSACIQGAaz5W7JkSV0TOF2YRhxCBMtG3MEgERXBIEmTvBABIkAEiAARCAACf/zxh0AZ9K78kdtsIT7h3XffrWsSwzoYFKIiGBRJkg8iQASIABEgAgFFAEphPOXrp59+kn379mWJ8+jzUSeuGU09evSQHTt2yNNPPx2d5dtjKoK+FR0bTgSIABEgAkQg2AhgzeBy5crpMDGWjRs7dqzL8Nq1a6VZs2ZSpEgRXTkEy7jNmzfPzT/33HMFq4l4qWnTptKtWzdNmjFjhs5oRqzDk08+WeuCQojzsDoKhqZPOukk+ec//+lWkSdPHunYsaOMGDEiMItvUBF0xcsdIkAEiAARIAJEIJ0QmDt3rvTu3Vvmz58v9erVUwXss88+E1jsOnToIAhPc++996ovYfHixeXSSy/VtXzBw88//6w/Lz9Ig68fCFusKoKl8IYPH65K46hRo3TZueeee04+/PBDVQqHDBkia9ascatp27atfP3113qum+jjnTw+bjubTgSIABEgAkSACAQYAQzF3nnnncph0aJFpWXLlgJL4Oeffy5ffvmlzJw5U66//nrNx/rBlSpVksmTJ8ucOXNSRuWBBx4QKHegLl26SOHChdVS2LBhQ6lRo4Z07txZLYa2wsqVK+sulENYIf1OtAj6XYJsPxEgAkSACBCBgCJQt25dl7PatWvrPtbrXb9+ve5bBQ4HUMpq1aolGzZs0LxU/7zX6N+/v1oRGzVqJGXKlJHbbrtNypcvL6VKlXKrw1A1CAppEIiKYBCkSB6IABEgAkSACAQQAVjnYpGdOHLccccdkY3ZvZYw+9hLGFKOphNOOMFNatGihSqZ8AuEUjl79mxp3ry5Dk3bQlhHGYRAzUEgKoJBkCJ5IAJEgAgQASIQIgSqVq2q3C5atMjlGmsaw0pXv359TStQoEDEbGL4B27dutUtH2tn5MiRqvwNGjRIlixZoj6IUPi8k1CsxfGss86KVYXv0ugj6DuRscFEgAgQASJABMKNAPz2MHN39OjRcvjwYR2+HTdunOTNm1d9+oAO/PseffRRmTZtmtSpU0fGjx8vhw4dSgocfBIxWxjDw4sXLxZYFa1yiZM3btyodSC4dBCIimAQpEgeiAARIAJEgAgECAE77Gq3YM3uY4uQMQsXLpSePXvKgAEDlPNq1arpJBFMKAFhJjBmBA8cOFDPbd26tVxwwQVy7LGRg6G2XpwzbNgwnSE8ePBgDWadP39+6dOnj/Tt2xfZSsuXL9dJKQhnEwQ6xjHkZQSARCV5s7kfYAQo+wALNw5rlHkcYAKeTLkHXMBx2Auq3BH7D5a+0qVLx+R8586dAoUO4WVSJfgSfvPNN1KlShVB7EBLBw4cUOsjrIZDhw61yWm9TSZ3KoJpLb6cbVyymyVnW8Or5QQClHlOoJx+16Dc008mOdEiyj3rKI8ZM0ZmzZol69atk3z58mW9whyoIZnc/6fm5kBjeAkiQASIABEgAkSACPgRAax7DH/Dhx9+2DdKYCo40yKYCkohKZOs1xASGELFJmUeKnG7zFLuLhSh2qHcsyZuTErZsmWLVK9ePWsV5fDZyeRORTCHBZLOl0t2s6Rz29m2zCFAmWcON7+fRbn7XYKZaz/lnjnc/H5WMrlHTp3xO7dsPxEgAkSACBABIkAEiEDKCFARTBkqFiQCRIAIEAEiQASIQLAQoCIYLHmSGyJABIgAESACRIAIpIwAFcGUoWJBIkAEiAARIAJEgAgECwEqgsGSJ7khAkSACBABIkAEiEDKCFARTBkqFiQCRIAIEAEiQASIQLAQoCIYLHmSGyJABIgAESACRIAIpIwAFcGUoWJBIkAEiAARIAJEgAgEC4GYAaWDxSK5IQJEgAgQASJABIhAeBFwHCcu8zHXGk50QtyamOF7BJJFH/c9g2TgCAQo8yMgCUUC5R4KMR/BJOV+BCShSIDcExGHhhOhwzwiQASIABEgAkSACAQYASqCARYuWSMCRIAIEAEiQASIQCIEqAhGobNlyxYpW7asvPTSS1E5PAwKAn/++ad06NBBunfvHpelxx57TIoUKSIoSwoeAkuWLJFOnTpJqVKlpFWrVvLhhx8Gj0lyFBOBAwcOSO3ateXWW2+Nmc9EfyFw0UUXSbNmzSJ+d911l8vEpEmTIvJQtmXLlm4+3vGTJ0+Whg0bSvny5eXqq68W3CNhIiqCHml/+eWX0q5dO9m+fbscPnzYk8PdoCDw66+/Sr9+/eSVV14R7MeiuXPnSv/+/eXgwYOxspnmcwQ2bdqkHYG1a9fKbbfdJj/99JO0bt1a1q1b53PO2PxUEMDzD9n/+OOPqRRnmTRGYNeuXbJo0SL9XqNTZ3/Fixd3Wz1//nyBgcfmYXvKKae4+VOnTpVbbrlFypQpIwMHDpRXX31V2rRp4+aHYsdMDIkgw3TEcVgOZs6c6RQqVEh/wOD5558PC+sun0GX/erVq53q1as7xx13nJMnTx7nsssuc3nHzs8//+x07twZU6ucfPny6faPP/6IKBO0g6DLPJa8jDXYKVmypHPo0CHN/uGHH5zjjz/e6dOnT6zigUwLo9whyNmzZ+uzD/6NQhhI2SZiKmhyX7x4sb6nP/nkk5hsG2ufY0Z2nGHDhsXM/+677/Sb37dvXzd/zpw5Wuebb77ppvl9J5ncaRE0CIGeeuopMYqBYMiIFEwE3njjDTEffHn33Xfl9NNPP4LJPXv2yNtvvy1TpkyRESNGHJHPhGAg8Omnn6pFMG/evMoQXABgAXjnnXeCwSC5iInAtm3bZMCAAXLnnXeqdShmISb6CgHTuRc8x7Vq1ZJly5apVd/rzrN582a1/J511lmC/aVLl+oIgGUSowPGAKBuIjatffv2YgwBoXofUBH8S/qvv/66KoMlSpSw9wO3AUOgd+/esmLFCmnatGlMzuAbio/F4MGD5dhj+WjEBMnnib///rt888036gfsZQXDQhhmIgUTASgHV111ldSsWVPuuOOOYDIZQq5WrVolZtRGKleuLI0aNVKFsEmTJureBTigKILwTq9SpYo0btxYKlSoIAsXLtR0DBmD8O63VKBAATnppJNk586dNinwW37t/hIxrAKkYCNQrFixhAxC+StcuHDCMsz0NwLffvutQBmMvhdwDJ8xM1zsbwbZ+pgIjB8/XlauXClmaFiMa0jMMkz0HwLr16+XE044QaZPny5r1qxRJf+jjz6SXr16KTPW77dnz56yYcMGefTRR/Ud361bN9mxY4f+UDDW+2Dv3r3+AySTLY4ZUDqTdfE0IkAEiEBaI1C0aFFt3y+//BLRTkwYQR6GhEjBQgCjAKNGjZJp06ZJtWrVgsVcyLmBmweeZePfr0iMHTtWPvjgA3XxwmS/kSNHqjUQLkGg0047TcvfeOONWsYagKInDuJ9EKbRQVoE9fbgHxEgAmFAAB8EvPyje/vwD61YsWIYIAgdj7ACIgoEZoZC/vjt3r1bHnnkEd2P7hSEDiAfMwzZmYkcERxgiBhpeMZh/Y+OAIJ8EJ75U0891d3XHfOHc/ft2yeVKlWySYHf0iIYeBGTQSJABLwI1K1bV+ATPHHiRE2G/5iZIaj+Q95y3A8GApgECP8wL91+++2C+6Br166SP39+bxb3fYIArHjlypWTc845R0PI2GYjnAxcfJB37bXXygsvvKC+39bCZ/0Da9SoofEk4SqA90GDBg20ClgUMYGkatWqtsrgb6OnRRuOo5NCdbxx40adOs7wMcEWe506dY4IH+PleMyYMXofMHyMF5Vg7L/44osqWzNpwDHx5DSMCMIJGR+yYDCYAhdhf8+bWHIMH5PCfZLuRe6++259lseNG+f85z//ca677jo9Hj58uDYdz7dZZ9dByCgTNN4xwaUdMxHEMVEjHGMt1DJdunRxjJ+hM2/ePOfjjz92zjjjDP3Z8FLpjkEq7Uv2vNMiGEfXT7ZIc5zTmOwTBCDfRDLmrGGfCDITzezYsaM6lcMieM899+iQMPzH6tevn4naeIofEcDzzWfcj5KLbDMCQMMHFIHhQQULFtT90aNH6zHChGGiEHxEEVga7/wWLVrIM888404awrMPy/All1yi9wRmFiPNhpfSigL+dwy0SS+PACoqyZvN/QAjQNkHWLhxWAuzzH/77TcNM4HQE2GjMMs9bLL28htUuZug8Br+CS4AsWaFw09w69atGj/SThDx4oJ9+AXCp9AEm4/O8v1xMrlTEfS9iLOPgWQ3S/ZdiTWlCwKUebpIImfbQbnnLN7pcjXKPV0kkbPtSCZ3zhrOWXnwakSACBABIkAEiAARSBsEYloE06Z1bAgRIAJEgAgQASJABIhAlhBI5PIXc7JIohOy1BKenNYIJDMfp3Xj2bhMIUCZZwo2359EuftehJligHLPFGy+PwlyT0QcGk6EDvOIABEgAkSACBABIhBgBKgIBli4ZI0IEAEiQASIABEgAokQoCL4FzpYs3DYsGG6FiXCSZjAlIIF6knBRQAuEHPnzpUrrrhCQwZgpYGpU6cKVpogBRsBPO8XXnihhpNo3bq1PPHEE8FmmNy5CDz22GO6zCCfcxeSQOwcOHBAVwq59dZbI/jZtm2bDBo0SJeMq1evnpig0hH5uA8mT54sDRs2lPLly8vVV18tqCtMREXQSBvLyZx33nny8ssvS8+ePaVNmzby3HPPycUXXyxmZYkw3Q+h4nXBggXSqVMn2b9/v2DJKbPagL4wEICUFFwEzOpBgvVGd+7cqYGlscQYlqJ67bXXgss0OVME0PHr37+/HDx4kIgEDIF+/fqJWUlEfvzxR5czKHno6EP5xxbP/dChQ2XChAluGXT+sQ51mTJlBAGqX331VdUB3AJh2DFWkQgyPEcch+Hg/vvv12VpsByNJSw/BSxWrVplkwK/DZvsmzdv7tSqVcuVq3lpONWrV3eqVavmpgV9J2wyhzyN0uecfPLJzvbt213xmlVFHLOygHsc9J2wyd109p3OnTvrOz1fvny6DfrykbHu4aDKffbs2Q6WiQR/RiF0WTcriGiaWUvcTTOdf8cEjXZMQHnnu+++cwoVKuT07dvXzZ8zZ84R57iZPt1JJndaBA1CRhmQhx9+WLAcjSW7QPUvv/xik7gNEAKw9Pbo0UNMJ8DlCjOrzDqUaiF2E7kTOATMWsNqCT711FN1NQE842adYR0RCByzZEgR2LNnj7z99tsyZcoUGTFiBFEJEAIY+h0wYIDceeedOqrjZQ0uIHint2zZ0k3GKNDu3btl/fr1smnTJn3fI81S+/btxXQW5J133rFJgd9SETQixk3Su3dvV9hYegqKobEaCHwKSMFDAMsQwQ3A+4JYvny5LF26VM4///zgMUyOFAEMG2E5Kij9WFsYzziWnEKnAC4ipGAiULZsWYHCMHjwYK4xHCARY+j3qquukpo1a6qbRzRrW7ZsEXT4vOtKYwgYtGvXLkE+CPeHpQIFCqjyCNeRsBAVwShJHzp0SBegRm9h5syZuoh1VBEeBhAB9Aw7dOggp5xySoT/SABZDTVLO3bsUP7xbMMxHL7Al19+uTz55JMxPyShBitAzEMRKFy4cIA4IitAAP7csOaboeGYawzjeS9atGgEWMWKFdNjWInt+8Cm2YI43rt3rz0M/JaKoEfExl9AnUTnz58v06ZN0+EjTzZ3A4oArICNGzfWiUHGl0SsW0BA2Q01W3nz5lX+K1asKPPmzdNOn/Ejkjp16qgyGGpwyDwR8BECK1askFGjRuksYOPXHbPlsPb/+uuvEXk//fSTHqPTj3xQrDJh+g5QEdTbQDRUTIsWLXRo8Pnnn5cbb7zxrxxugozAkiVLpFWrVjoUAIXwjDPOCDK7oecNw0IYFobMvdH24SKAjiCHh0N/ixAAnyAAK+Dhw4d1xu/xxx8v+MH375FHHtF9+P5iWBiWPy9ZSx86g8gHecuY+SDqO1ypUiXvaYHej7nEXKA5jsEcfIbMDFJVBt966y1p0qRJjFJMChoCkHW7du3knHPOEViBTzzxxKCxSH6iEEComBo1agicyPHCt8rgBx98IKeddpqYGYRRZ/CQCBCBdETgsssukypVqkQ0DWHAEA+2a9eugmcdPv6PP/64bNiwQZ97FH799dcFIwMVKlTQ5x3+4khr0KCB1oV3ATqEVatWjag7yAfHYDa0l0G8GKOSvNmB3IcD8X333SeXXnqpNGvWLIJHzCBCgOkwUJhkj6EAzBbfvHmzjB492h0igJzxYgiLRThMMrfP8KxZs3SiEOLJIX6gCRchEydO1Ptg5MiRtligt2GUuxXo2LFjdeYwIgd4JxHY/CBvgy730qVLS8eOHWXGjBkqRkwOK1eunAaanj59usYZxMRQxA3Eex8EH2GMDOG9AAthr169NB1Dz9aVRBN8/JdU7lAEvWR49R6GYt/cPBo3CLxH/0xwyVBgACbDJHvT6ztC1lb2BQsWpMwDjADiRY4bN07jh0HmZkjJueGGGxykh4XC9KxHy/See+7RZ59xBKOR8f+xUeQcE0omgpE33nhD4wbaZ7179+4aQ9AWMrOHHeMWpveE6Rg4TZs2dcwEFJsdiG2y550WQYMQ6b8IJO01EKjAIRBmmcMihPARGCIKSs8/1Rs0zHJPFaMglgur3I02J1u3bhVYDBEeJhbt27dPfv/9d11uNFa+n9OSyZ2KoJ+lm81tT3azZPPlWF0aIECZp4EQcqEJlHsugJ4Gl6Tc00AIudCEZHLnrOFcEAovSQSIABEgAkSACBCBdEAgpkUwHRrGNhABIkAEiAARIAJEgAhkHQEMj8ejmOFjEp0QryKm+x+BZOZj/3NIDqIRoMyjEQnHMeUeDjlHc0m5RyMSjmPIPRFxaDgROswjAkSACBABIkAEiECAEaAiGGDhkjUiQASIABEgAkSACCRCgIrgX+isWrVKEGC2bNmy0qhRI3nwwQcT4ca8gCCAiPJXXnmlYN3Js88+W15++eWAcEY2UkHgscce02DiJoZgKsVZxscIIGhwp06dpFSpUrrE4Icffuhjbth0IAA3trlz58oVV1yhYV+wqsjUqVPF+zxPmjRJF4rAYhH2hyUlLaHs5MmTpWHDhlK+fHm5+uqr5cCBAzY7FFsqgkbMWIS6bdu28t5778mQIUM0rli/fv3k/vvvD8VNEFYm16xZIxdccIHs2LFD7rjjDl1RBMsWvfvuu2GFJFR84wOCzt/BgwdDxXcYmd20aZN06NBBV5a47bbb9J3funVrWbduXRjhCAzPCxYsUOV+//79guXloOQPGjRIxo8f7/KI5UMRLxR59oeOvyUojlhpBOuQDxw4UMwiEtKmTRubHY6t0agjyHAdcRyGAxtp/vPPP3fZNeuOOsZC5B6HYSdssjdLDTkmuKhj1ppW8RqF0DHLyznXX399GMStPIZN5mDarCPqdO7cWVcSyJcvXyhXmQib3I0SqKtLHDp0SO97PPNYUaZPnz56HJa/oMm9efPmjlkq1BUfVgeqXr26U61aNU3DcZEiRZxhw4a5Zbw73333na4w1LdvXzfZLDmp74Q333zTTfP7TjK50yJoEEIvANah2rVrmyMR85KQb7/9VsyLQo/5F0wEChcuLIcPH1Z5g0NYhjFMULx48WAyTK4UgT179sjbb78tU6ZM0TVnCUvwEfj000/VImhXkDHKgVp93nnnneAzH1AOsTJQjx49IkbuMDv2pJNOEtPZU66xljzWGz7rrLN0XfmlS5fqe95CAksxysJlwFL79u3FdBAlTPcGFUEj/UKFConpVchvv/0md911l5hehi41gyEEUnARMJY/qVy5sjRo0ED9Qswak7pAOV4upOAiAD/gbdu2yeDBg8WsLRpcRsmZIoBlw7755hv1//ZCgqFAs86sN4n7PkLAjN5Iz549xevvt3z5coGyd/755ysnq1ev1i2e9SpVqkjjxo3V9WvhwoWajiFjEN4JlrAEHZTJnTt32qTAb/kW9IgYLwVjFla/ESiHtlfhKcLdACGAniIUAfgIwi9w9+7dYoYVdPJAgNgkK1EIQOawBpPCgQBGd6AMFitWLIJhHOMdYIaLI9J54E8ErB8o/P8mTJigTFgfUCiMGzZskEcffVSf/W7duul7H+9+UKx7Y+/evZoXhj8qgh4pY/H59evXa++xZs2aai7GQtSkYCJw0003CZyM8bL46quvZMWKFbJs2TK55pprgskwuSICIUSgaNGiyvUvv/wSwT1cQZCHYUCSvxGAFRDWPgwXG98+KVGihDI0cuRIVfbHjBkjxu9fevXqJUOHDtU0zCKHiwDo119/1a39w71h67BpQd5SETTSxaxBKAKW0KO44YYb9KbCzUIKHgJQ8D/66CMNHQOlH3TmmWdK165d1TqIFwGJCBAB/yMAX2988KMtPPAVrVixov8ZDDkH+Ea3atVKh3OhEJ5xxhkuIrAEww/cSwgPB4L8Tz31VHdfd8yfmRgi+D5UqlTJJgV+S0XQiLh79+5y+umnq/CtxGEZBEWbjG0+t/5GoGDBgspA9LCQHSrIkyfm6ov+ZpqtJwIhRQDx5RAz1BImhcFyZGaX2iRufYjAW2+9Je3atdPJIFACo5U3WADhCwqlz5L1D6xRo4ZOEIWvoffe+OCDD9QtrGrVqvaUwG/5tTMiRkBhxBoyoQQ0ntAnn3yiQSlxI7Ro0SLwN0EYGYQP6CWXXCIPPfSQ4IWACUIIJv3aa68J/Efy588fRljIMxEIJAKILYeZocOHD9f3/fTp01U5wDHJnwhgOBffbHTmMTnkySefdBmBcnfjjTfKrbfeKrNnzxYTKkyHhOH6M23aNDX8IHYwyiF2LCII1KlTRy2EGA2EVfHSSy916wv8TnR8HMNwdFIojidOnKjxhMA/fmYGqfPFF1+EgnfLZNhkb8z/TpcuXRwTckBljq2xDjvff/+9hSTw27DJPFqgNoao8S2Kzgr0cdjkDvmaoPGOCR+jz7oZEnZmzJgRaBnHYi5IcjeWO5UleIr+mREfl30zccTBMcrgHW9mGTuIGWvJTBJ1jMFH881EMv32r1y50mYHYptM7seAS1PIJcThiUpy84K+g54FppPDSTSMseTCKnv4AyK8BJYXskPGQb/XLX9hlbnlP6zbsModIcK2b9+uYaPCKPuwyh1+glu3btWVRewEkWj5wy8QPoUlS5aMzvL9cTK5UxH0vYizj4FkN0v2XYk1pQsClHm6SCJn20G55yze6XI1yj1dJJGz7Ugm95iKYM42kVcjAkSACBABIkAEiAAROFoIJBrpPWKySKLCR6uBrJcIEAEiQASIABEgAkQg5xFg+Jicx5xXJAJEgAgQASJABIhAWiBARTAtxMBGEAEiQASIABEgAkQg5xGgIpjzmPOKRIAIEAEiQASIABFICwSoCKaFGNgIIkAEiAARIAJEgAjkPAL/D4oNJ+tGTSRVAAAAAElFTkSuQmCC)\n",
        "\n",
        "The marketing department estimates a great potential for selling models 1 and 2 but estimates that only 25 units of Model 3 can be sold. The marginal profits of each model are $650, $175 and $300. The objective is to find the production mix that maximizes profits.\n",
        "\n",
        "We will implement this model using model objects (Sets() and Param()), using dictionaries to specify parameters, indexing decision variables and constraints by sets, using user defined function to define constraints in a more general form.\n",
        "\n",
        "Start by writing the LP formulation indexed by sets and in standard form. \n",
        "\n",
        "Sets: \\\\\n",
        "$m∈ M:$ set of machines A and B \\\\\n",
        "$p∈P:$ set of PV cells types 1,2,3 \\\\\n",
        "\n",
        "Parameters:  \\\\\n",
        "$a_{m,p}:$ number of hours on machine m needed to produce cell type $p$ \\\\\n",
        "$H_m:$  number of hours available on machine $m$ \\\\\n",
        "$U_p:$  number of estimated sales for each cell model \\\\\n",
        "$C_p:$ profit gained from producing type $p$ \\\\\n",
        "\n",
        "Decision Variables: \\\\\n",
        "$x_p:$ number of units of type p to produce \\\\\n",
        "\n",
        "Problem Formulation: \\\\  \n",
        "$ max_x\t\\sum_{p\\in P}c_p*x_p$ \\\\\n",
        "$ s.t.\t\\sum_{p\\in P}a_{m,p}*x_p ≤ H_m  \\quad ∀ m \\in M $ \\\\\n",
        "$ \\quad \\quad \\quad x_p ≤ U_p \\quad \\quad \\quad \\quad   ∀p\\in P $ \\\\\n",
        "$ \\quad \\quad \\quad x_p ≥ 0 \\quad \\quad \\quad \\quad   ∀p\\in P $ \\\\\n",
        "\n",
        "Now let’s start by adding sets and parameters to the model. Because we are using objects Sets() and Param(), the assigned names should start with “model.”."
      ]
    },
    {
      "cell_type": "code",
      "metadata": {
        "id": "lKT3QU5t0WqG"
      },
      "source": [
        "##your code"
      ],
      "execution_count": null,
      "outputs": []
    },
    {
      "cell_type": "markdown",
      "metadata": {
        "id": "8frox32lGh8q"
      },
      "source": [
        "## Exercise 3: Gasoline blending"
      ]
    },
    {
      "cell_type": "markdown",
      "metadata": {
        "id": "Vc7ffw_OHH4Z"
      },
      "source": [
        "Refer to the final formulation on slide 22 of Lecture 12. Implement that model using the Set() and Param() approach.\n",
        "\n",
        "\n"
      ]
    },
    {
      "cell_type": "code",
      "metadata": {
        "id": "VjhZI9qlGpNQ"
      },
      "source": [
        "##your code"
      ],
      "execution_count": null,
      "outputs": []
    }
  ]
}