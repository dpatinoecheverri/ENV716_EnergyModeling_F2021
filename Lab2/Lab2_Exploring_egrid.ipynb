{
  "nbformat": 4,
  "nbformat_minor": 0,
  "metadata": {
    "colab": {
      "name": "Lab2_Exploring_egrid.ipynb",
      "provenance": [],
      "mount_file_id": "1gsc8_LApdxqYO12kujuQZDDXs0_L8W-Z",
      "authorship_tag": "ABX9TyPyvW/SkdVmNhWsIKZlcnln",
      "include_colab_link": true
    },
    "kernelspec": {
      "name": "python3",
      "display_name": "Python 3"
    },
    "language_info": {
      "name": "python"
    }
  },
  "cells": [
    {
      "cell_type": "markdown",
      "metadata": {
        "id": "view-in-github",
        "colab_type": "text"
      },
      "source": [
        "<a href=\"https://colab.research.google.com/github/lmmlima/ENV716_EnergyModeling_F2021/blob/main/Lab2/Lab2_Exploring_egrid.ipynb\" target=\"_parent\"><img src=\"https://colab.research.google.com/assets/colab-badge.svg\" alt=\"Open In Colab\"/></a>"
      ]
    },
    {
      "cell_type": "markdown",
      "metadata": {
        "id": "QZxRVy3rtQ8f"
      },
      "source": [
        "# **Lab 2 – Reading Data Sets in Python**"
      ]
    },
    {
      "cell_type": "markdown",
      "metadata": {
        "id": "BfQcVp5yy_3g"
      },
      "source": [
        "Learning goals for Lab 2:\n",
        "1. How to read excel spreadsheets in Python;\n",
        "2. How to slice you large data set into a smaller data set;\n",
        "3. How to filter rows and columns;\n",
        "4. How to get summary values.\n"
      ]
    },
    {
      "cell_type": "markdown",
      "metadata": {
        "id": "mZ7s1i1NxLxq"
      },
      "source": [
        "If you have not mounted google drive yet please do so by running the code chunk below. "
      ]
    },
    {
      "cell_type": "code",
      "metadata": {
        "colab": {
          "base_uri": "https://localhost:8080/"
        },
        "id": "lty5nsIqquj2",
        "outputId": "e11d2011-0a29-4424-88fe-ff26e995942a"
      },
      "source": [
        "from google.colab import drive \n",
        "drive.mount('/content/drive')"
      ],
      "execution_count": 15,
      "outputs": [
        {
          "output_type": "stream",
          "name": "stdout",
          "text": [
            "Drive already mounted at /content/drive; to attempt to forcibly remount, call drive.mount(\"/content/drive\", force_remount=True).\n"
          ]
        }
      ]
    },
    {
      "cell_type": "markdown",
      "metadata": {
        "id": "RK6Bw6fGqKUi"
      },
      "source": [
        "## Set up work directory"
      ]
    },
    {
      "cell_type": "markdown",
      "metadata": {
        "id": "-clLM0tvtXbB"
      },
      "source": [
        "When reading/importing a file in Python notebook you need to inform the path where the file is located. If you simply specify the name of the file, Python will assume it is in your working directory. If the file is not there, the code will output a “file not found” error message. \n",
        "\n",
        "The fisrt step is to find out your where is your working directory. If you don’t know, import the os library and use the command os.getcwd() to find out.\n"
      ]
    },
    {
      "cell_type": "code",
      "metadata": {
        "colab": {
          "base_uri": "https://localhost:8080/",
          "height": 37
        },
        "id": "E-YGRY50lPTR",
        "outputId": "7e0ec49b-c822-4597-e9f1-c4f973c22e40"
      },
      "source": [
        "import os\n",
        "os.getcwd()"
      ],
      "execution_count": 16,
      "outputs": [
        {
          "output_type": "execute_result",
          "data": {
            "application/vnd.google.colaboratory.intrinsic+json": {
              "type": "string"
            },
            "text/plain": [
              "'/content/drive/My Drive/ColabNotebooks'"
            ]
          },
          "metadata": {},
          "execution_count": 16
        }
      ]
    },
    {
      "cell_type": "markdown",
      "metadata": {
        "id": "f-zwaah4vGtG"
      },
      "source": [
        "In the function os.getcwd(), getcwd stands for get current working directory. Note that my working directory is “/content/”. If I want to use read_excel() and just specify the name of my excel file. I need to have a copy of the file in the folder “/content/”.\n",
        "\n",
        "Ideally you should create a Folder inside your google drive to store the Python scripts we are creating during the labs. That way you will not have all files in the same place. For example, I have a folder insive my drive called \"Colab Notebooks\".\n",
        "\n"
      ]
    },
    {
      "cell_type": "markdown",
      "metadata": {
        "id": "P6KdXi6lwQKg"
      },
      "source": [
        "Note that e-grid file and all .ipynb notebooks we created so far are in the \"ColabNotebooks\" folder.\n",
        "And the path to the folder is:\n",
        "\n",
        "/content/drive/MyDrive/ColabNotebooks/\n"
      ]
    },
    {
      "cell_type": "markdown",
      "metadata": {
        "id": "yyFcdsjkwvoo"
      },
      "source": [
        "If you want to change your working directory to your \"ColabNotebooks\"  folder you can use function os.chdir() - chdir stands for change directory. And inside the brackets you type the path to the folder. In my computer it would be as below."
      ]
    },
    {
      "cell_type": "code",
      "metadata": {
        "id": "tBL-pGxno5HW"
      },
      "source": [
        "os.chdir('/content/drive/MyDrive/ColabNotebooks/')"
      ],
      "execution_count": 17,
      "outputs": []
    },
    {
      "cell_type": "markdown",
      "metadata": {
        "id": "xL31HZRrw4n6"
      },
      "source": [
        "You can check with working directory changed by using again the os.getcwd()."
      ]
    },
    {
      "cell_type": "code",
      "metadata": {
        "colab": {
          "base_uri": "https://localhost:8080/",
          "height": 37
        },
        "id": "d2FA94cKqP1R",
        "outputId": "deb7a651-77e3-46d6-a533-10ab102dc78e"
      },
      "source": [
        "os.getcwd()"
      ],
      "execution_count": 18,
      "outputs": [
        {
          "output_type": "execute_result",
          "data": {
            "application/vnd.google.colaboratory.intrinsic+json": {
              "type": "string"
            },
            "text/plain": [
              "'/content/drive/MyDrive/ColabNotebooks'"
            ]
          },
          "metadata": {},
          "execution_count": 18
        }
      ]
    },
    {
      "cell_type": "markdown",
      "metadata": {
        "id": "TIQ3jm1KxA1v"
      },
      "source": [
        "Note that now when you use the os.getcwd() command, the new working directory is not “/content/” anymore, instead it’s pointing to my the \"ColabNotebooks\" folder. Once you do that, you are all set and ready to import the e-grid file.\n"
      ]
    },
    {
      "cell_type": "markdown",
      "metadata": {
        "id": "vJN2oyroqeQU"
      },
      "source": [
        "## Importing Excel file"
      ]
    },
    {
      "cell_type": "markdown",
      "metadata": {
        "id": "LOCQ-tZDqVpf"
      },
      "source": [
        "We will use the function read_excel() from **pandas library** to import the file. Remember we do not need to install any libraries with Colab, but we do need to import them using the code chunck below. A good practice in Python coding is to rename the library with a short name that will be used anytime you need to refer to a function from that library. \n",
        "\n",
        "For example if you ant to use the reac_excel from pandas you code will be \n",
        "**pandas.read_excel()**\n",
        "If you rename pandas as pd then you can simply use\n",
        "**pd.read_excel()**"
      ]
    },
    {
      "cell_type": "code",
      "metadata": {
        "id": "6t0L1N0ikasJ"
      },
      "source": [
        "import pandas as pd\n",
        "import numpy as np"
      ],
      "execution_count": 19,
      "outputs": []
    },
    {
      "cell_type": "markdown",
      "metadata": {
        "id": "G-GWiu9Qyj63"
      },
      "source": [
        "The function **read_excel()** takes two main arguments:\n",
        "*   io: file path and name;\n",
        "*   sheet_name: if your workbook has more than one spreadsheet, you need to identify which spreadsheet you want to read.\n",
        "\n",
        "Both arguments take string type values that’s why we are using the quotes. When you use quotes, Colab will automatically change the text to red to indicate it's a string. The other arguments for the read_excel() are optional ones. \n",
        "\n",
        "When you import a spreadsheet, you need to store it in your Pyhton environment as a variables. A common data structure used for spreadsheet is the data frame because is allows columns of different type (numerical or string) to be sotored in the same variable. The pd.read_excel() function will import you spreadshete as a data frame and store in a variable of your choice. Here I will call is **df_gen**. The df is my way of remembering it's a data frame and the gen tell me it's generators information. \n",
        "\n",
        "A good practive when coding is to always assign informative names to your variables.\n",
        "\n",
        "The **.head()** function is used to inspect the data frame. Any number inside the parenthesis will be the number of row to be printed.\n",
        "\n"
      ]
    },
    {
      "cell_type": "code",
      "metadata": {
        "colab": {
          "base_uri": "https://localhost:8080/",
          "height": 459
        },
        "id": "rCMdE9sak4xf",
        "outputId": "4fa0ed95-9f8c-42d5-fa2f-01ac106b3ea8"
      },
      "source": [
        "df_gen = pd.read_excel(io=\"egrid2019_data.xlsx\",sheet_name=\"GEN19\")\n",
        "df_gen.head(5)"
      ],
      "execution_count": 20,
      "outputs": [
        {
          "output_type": "execute_result",
          "data": {
            "text/html": [
              "<div>\n",
              "<style scoped>\n",
              "    .dataframe tbody tr th:only-of-type {\n",
              "        vertical-align: middle;\n",
              "    }\n",
              "\n",
              "    .dataframe tbody tr th {\n",
              "        vertical-align: top;\n",
              "    }\n",
              "\n",
              "    .dataframe thead th {\n",
              "        text-align: right;\n",
              "    }\n",
              "</style>\n",
              "<table border=\"1\" class=\"dataframe\">\n",
              "  <thead>\n",
              "    <tr style=\"text-align: right;\">\n",
              "      <th></th>\n",
              "      <th>eGRID2019 Generator file sequence number</th>\n",
              "      <th>Data Year</th>\n",
              "      <th>Plant state abbreviation</th>\n",
              "      <th>Plant name</th>\n",
              "      <th>DOE/EIA ORIS plant or facility code</th>\n",
              "      <th>Generator ID</th>\n",
              "      <th>Number of associated boilers</th>\n",
              "      <th>Generator status</th>\n",
              "      <th>Generator prime mover type</th>\n",
              "      <th>Generator primary fuel</th>\n",
              "      <th>Generator nameplate capacity (MW)</th>\n",
              "      <th>Generator capacity factor</th>\n",
              "      <th>Generator annual net generation (MWh)</th>\n",
              "      <th>Generator ozone season net generation (MWh)</th>\n",
              "      <th>Generation data source</th>\n",
              "      <th>Generator year on-line</th>\n",
              "      <th>Generator planned or actual retirement year</th>\n",
              "    </tr>\n",
              "  </thead>\n",
              "  <tbody>\n",
              "    <tr>\n",
              "      <th>0</th>\n",
              "      <td>SEQGEN19</td>\n",
              "      <td>YEAR</td>\n",
              "      <td>PSTATABB</td>\n",
              "      <td>PNAME</td>\n",
              "      <td>ORISPL</td>\n",
              "      <td>GENID</td>\n",
              "      <td>NUMBLR</td>\n",
              "      <td>GENSTAT</td>\n",
              "      <td>PRMVR</td>\n",
              "      <td>FUELG1</td>\n",
              "      <td>NAMEPCAP</td>\n",
              "      <td>CFACT</td>\n",
              "      <td>GENNTAN</td>\n",
              "      <td>GENNTOZ</td>\n",
              "      <td>GENERSRC</td>\n",
              "      <td>GENYRONL</td>\n",
              "      <td>GENYRRET</td>\n",
              "    </tr>\n",
              "    <tr>\n",
              "      <th>1</th>\n",
              "      <td>1</td>\n",
              "      <td>2019</td>\n",
              "      <td>AK</td>\n",
              "      <td>7-Mile Ridge Wind Project</td>\n",
              "      <td>60814</td>\n",
              "      <td>WT1</td>\n",
              "      <td>0</td>\n",
              "      <td>CN</td>\n",
              "      <td>WT</td>\n",
              "      <td>WND</td>\n",
              "      <td>1.8</td>\n",
              "      <td>NaN</td>\n",
              "      <td>NaN</td>\n",
              "      <td>NaN</td>\n",
              "      <td>NaN</td>\n",
              "      <td>NaN</td>\n",
              "      <td>NaN</td>\n",
              "    </tr>\n",
              "    <tr>\n",
              "      <th>2</th>\n",
              "      <td>2</td>\n",
              "      <td>2019</td>\n",
              "      <td>AK</td>\n",
              "      <td>Agrium Kenai Nitrogen Operations</td>\n",
              "      <td>54452</td>\n",
              "      <td>744A</td>\n",
              "      <td>0</td>\n",
              "      <td>OS</td>\n",
              "      <td>GT</td>\n",
              "      <td>NG</td>\n",
              "      <td>2.5</td>\n",
              "      <td>NaN</td>\n",
              "      <td>NaN</td>\n",
              "      <td>NaN</td>\n",
              "      <td>NaN</td>\n",
              "      <td>1977</td>\n",
              "      <td>NaN</td>\n",
              "    </tr>\n",
              "    <tr>\n",
              "      <th>3</th>\n",
              "      <td>3</td>\n",
              "      <td>2019</td>\n",
              "      <td>AK</td>\n",
              "      <td>Agrium Kenai Nitrogen Operations</td>\n",
              "      <td>54452</td>\n",
              "      <td>744B</td>\n",
              "      <td>0</td>\n",
              "      <td>OS</td>\n",
              "      <td>GT</td>\n",
              "      <td>NG</td>\n",
              "      <td>2.5</td>\n",
              "      <td>NaN</td>\n",
              "      <td>NaN</td>\n",
              "      <td>NaN</td>\n",
              "      <td>NaN</td>\n",
              "      <td>1977</td>\n",
              "      <td>NaN</td>\n",
              "    </tr>\n",
              "    <tr>\n",
              "      <th>4</th>\n",
              "      <td>4</td>\n",
              "      <td>2019</td>\n",
              "      <td>AK</td>\n",
              "      <td>Agrium Kenai Nitrogen Operations</td>\n",
              "      <td>54452</td>\n",
              "      <td>744C</td>\n",
              "      <td>0</td>\n",
              "      <td>OS</td>\n",
              "      <td>GT</td>\n",
              "      <td>NG</td>\n",
              "      <td>2.5</td>\n",
              "      <td>NaN</td>\n",
              "      <td>NaN</td>\n",
              "      <td>NaN</td>\n",
              "      <td>NaN</td>\n",
              "      <td>1977</td>\n",
              "      <td>NaN</td>\n",
              "    </tr>\n",
              "  </tbody>\n",
              "</table>\n",
              "</div>"
            ],
            "text/plain": [
              "  eGRID2019 Generator file sequence number  ... Generator planned or actual retirement year\n",
              "0                                 SEQGEN19  ...                                    GENYRRET\n",
              "1                                        1  ...                                         NaN\n",
              "2                                        2  ...                                         NaN\n",
              "3                                        3  ...                                         NaN\n",
              "4                                        4  ...                                         NaN\n",
              "\n",
              "[5 rows x 17 columns]"
            ]
          },
          "metadata": {},
          "execution_count": 20
        }
      ]
    },
    {
      "cell_type": "markdown",
      "metadata": {
        "id": "iXMl-KfQTRDx"
      },
      "source": [
        "Note that because egrid had 2 rows explaining the data, the second row is mistakenly added to the table, to fix this you can add an argument inside de read_excel() functions called **skiprows**. As the name suggests skiprows is used when you need to skiprows in your spreadsheet before importing the data set.\n"
      ]
    },
    {
      "cell_type": "code",
      "metadata": {
        "colab": {
          "base_uri": "https://localhost:8080/",
          "height": 204
        },
        "id": "rqbTexOdk6y6",
        "outputId": "907415cc-5398-4d85-c7f0-534b91f8be03"
      },
      "source": [
        "df_gen = pd.read_excel(io=\"egrid2019_data.xlsx\",sheet_name=\"GEN19\",skiprows=1)\n",
        "df_gen.head(5)"
      ],
      "execution_count": 21,
      "outputs": [
        {
          "output_type": "execute_result",
          "data": {
            "text/html": [
              "<div>\n",
              "<style scoped>\n",
              "    .dataframe tbody tr th:only-of-type {\n",
              "        vertical-align: middle;\n",
              "    }\n",
              "\n",
              "    .dataframe tbody tr th {\n",
              "        vertical-align: top;\n",
              "    }\n",
              "\n",
              "    .dataframe thead th {\n",
              "        text-align: right;\n",
              "    }\n",
              "</style>\n",
              "<table border=\"1\" class=\"dataframe\">\n",
              "  <thead>\n",
              "    <tr style=\"text-align: right;\">\n",
              "      <th></th>\n",
              "      <th>SEQGEN19</th>\n",
              "      <th>YEAR</th>\n",
              "      <th>PSTATABB</th>\n",
              "      <th>PNAME</th>\n",
              "      <th>ORISPL</th>\n",
              "      <th>GENID</th>\n",
              "      <th>NUMBLR</th>\n",
              "      <th>GENSTAT</th>\n",
              "      <th>PRMVR</th>\n",
              "      <th>FUELG1</th>\n",
              "      <th>NAMEPCAP</th>\n",
              "      <th>CFACT</th>\n",
              "      <th>GENNTAN</th>\n",
              "      <th>GENNTOZ</th>\n",
              "      <th>GENERSRC</th>\n",
              "      <th>GENYRONL</th>\n",
              "      <th>GENYRRET</th>\n",
              "    </tr>\n",
              "  </thead>\n",
              "  <tbody>\n",
              "    <tr>\n",
              "      <th>0</th>\n",
              "      <td>1</td>\n",
              "      <td>2019</td>\n",
              "      <td>AK</td>\n",
              "      <td>7-Mile Ridge Wind Project</td>\n",
              "      <td>60814</td>\n",
              "      <td>WT1</td>\n",
              "      <td>0</td>\n",
              "      <td>CN</td>\n",
              "      <td>WT</td>\n",
              "      <td>WND</td>\n",
              "      <td>1.8</td>\n",
              "      <td>NaN</td>\n",
              "      <td>NaN</td>\n",
              "      <td>NaN</td>\n",
              "      <td>NaN</td>\n",
              "      <td>NaN</td>\n",
              "      <td>NaN</td>\n",
              "    </tr>\n",
              "    <tr>\n",
              "      <th>1</th>\n",
              "      <td>2</td>\n",
              "      <td>2019</td>\n",
              "      <td>AK</td>\n",
              "      <td>Agrium Kenai Nitrogen Operations</td>\n",
              "      <td>54452</td>\n",
              "      <td>744A</td>\n",
              "      <td>0</td>\n",
              "      <td>OS</td>\n",
              "      <td>GT</td>\n",
              "      <td>NG</td>\n",
              "      <td>2.5</td>\n",
              "      <td>NaN</td>\n",
              "      <td>NaN</td>\n",
              "      <td>NaN</td>\n",
              "      <td>NaN</td>\n",
              "      <td>1977.0</td>\n",
              "      <td>NaN</td>\n",
              "    </tr>\n",
              "    <tr>\n",
              "      <th>2</th>\n",
              "      <td>3</td>\n",
              "      <td>2019</td>\n",
              "      <td>AK</td>\n",
              "      <td>Agrium Kenai Nitrogen Operations</td>\n",
              "      <td>54452</td>\n",
              "      <td>744B</td>\n",
              "      <td>0</td>\n",
              "      <td>OS</td>\n",
              "      <td>GT</td>\n",
              "      <td>NG</td>\n",
              "      <td>2.5</td>\n",
              "      <td>NaN</td>\n",
              "      <td>NaN</td>\n",
              "      <td>NaN</td>\n",
              "      <td>NaN</td>\n",
              "      <td>1977.0</td>\n",
              "      <td>NaN</td>\n",
              "    </tr>\n",
              "    <tr>\n",
              "      <th>3</th>\n",
              "      <td>4</td>\n",
              "      <td>2019</td>\n",
              "      <td>AK</td>\n",
              "      <td>Agrium Kenai Nitrogen Operations</td>\n",
              "      <td>54452</td>\n",
              "      <td>744C</td>\n",
              "      <td>0</td>\n",
              "      <td>OS</td>\n",
              "      <td>GT</td>\n",
              "      <td>NG</td>\n",
              "      <td>2.5</td>\n",
              "      <td>NaN</td>\n",
              "      <td>NaN</td>\n",
              "      <td>NaN</td>\n",
              "      <td>NaN</td>\n",
              "      <td>1977.0</td>\n",
              "      <td>NaN</td>\n",
              "    </tr>\n",
              "    <tr>\n",
              "      <th>4</th>\n",
              "      <td>5</td>\n",
              "      <td>2019</td>\n",
              "      <td>AK</td>\n",
              "      <td>Agrium Kenai Nitrogen Operations</td>\n",
              "      <td>54452</td>\n",
              "      <td>744D</td>\n",
              "      <td>0</td>\n",
              "      <td>OS</td>\n",
              "      <td>GT</td>\n",
              "      <td>NG</td>\n",
              "      <td>2.5</td>\n",
              "      <td>NaN</td>\n",
              "      <td>NaN</td>\n",
              "      <td>NaN</td>\n",
              "      <td>NaN</td>\n",
              "      <td>1977.0</td>\n",
              "      <td>NaN</td>\n",
              "    </tr>\n",
              "  </tbody>\n",
              "</table>\n",
              "</div>"
            ],
            "text/plain": [
              "   SEQGEN19  YEAR PSTATABB  ... GENERSRC  GENYRONL GENYRRET\n",
              "0         1  2019       AK  ...      NaN       NaN      NaN\n",
              "1         2  2019       AK  ...      NaN    1977.0      NaN\n",
              "2         3  2019       AK  ...      NaN    1977.0      NaN\n",
              "3         4  2019       AK  ...      NaN    1977.0      NaN\n",
              "4         5  2019       AK  ...      NaN    1977.0      NaN\n",
              "\n",
              "[5 rows x 17 columns]"
            ]
          },
          "metadata": {},
          "execution_count": 21
        }
      ]
    },
    {
      "cell_type": "markdown",
      "metadata": {
        "id": "UrQKe0-vU9NU"
      },
      "source": [
        "Note that now our header is exactly the 2 second of our worksheet. And the first row was not imported.  \n",
        "\n",
        "We still have a problem here. The NaN. NaN stands for Not a Number. E-grid has a lot of empty cell and Python reads them as NaN.\n",
        "Depending on the type of data you have, you may want to replace with something else. \n",
        "\n",
        "You can specify with the read_excel function what you want to do with missing values using the argument **keep_default_na = False** as in the code chunk below. \n"
      ]
    },
    {
      "cell_type": "code",
      "metadata": {
        "colab": {
          "base_uri": "https://localhost:8080/",
          "height": 204
        },
        "id": "iZIGxiAek9rr",
        "outputId": "5cadda4a-ee65-452c-81e7-2b1464be17c1"
      },
      "source": [
        "df_gen = pd.read_excel(io=\"egrid2019_data.xlsx\",sheet_name=\"GEN19\",skiprows=1,keep_default_na=False)\n",
        "df_gen.head(5)"
      ],
      "execution_count": 22,
      "outputs": [
        {
          "output_type": "execute_result",
          "data": {
            "text/html": [
              "<div>\n",
              "<style scoped>\n",
              "    .dataframe tbody tr th:only-of-type {\n",
              "        vertical-align: middle;\n",
              "    }\n",
              "\n",
              "    .dataframe tbody tr th {\n",
              "        vertical-align: top;\n",
              "    }\n",
              "\n",
              "    .dataframe thead th {\n",
              "        text-align: right;\n",
              "    }\n",
              "</style>\n",
              "<table border=\"1\" class=\"dataframe\">\n",
              "  <thead>\n",
              "    <tr style=\"text-align: right;\">\n",
              "      <th></th>\n",
              "      <th>SEQGEN19</th>\n",
              "      <th>YEAR</th>\n",
              "      <th>PSTATABB</th>\n",
              "      <th>PNAME</th>\n",
              "      <th>ORISPL</th>\n",
              "      <th>GENID</th>\n",
              "      <th>NUMBLR</th>\n",
              "      <th>GENSTAT</th>\n",
              "      <th>PRMVR</th>\n",
              "      <th>FUELG1</th>\n",
              "      <th>NAMEPCAP</th>\n",
              "      <th>CFACT</th>\n",
              "      <th>GENNTAN</th>\n",
              "      <th>GENNTOZ</th>\n",
              "      <th>GENERSRC</th>\n",
              "      <th>GENYRONL</th>\n",
              "      <th>GENYRRET</th>\n",
              "    </tr>\n",
              "  </thead>\n",
              "  <tbody>\n",
              "    <tr>\n",
              "      <th>0</th>\n",
              "      <td>1</td>\n",
              "      <td>2019</td>\n",
              "      <td>AK</td>\n",
              "      <td>7-Mile Ridge Wind Project</td>\n",
              "      <td>60814</td>\n",
              "      <td>WT1</td>\n",
              "      <td>0</td>\n",
              "      <td>CN</td>\n",
              "      <td>WT</td>\n",
              "      <td>WND</td>\n",
              "      <td>1.8</td>\n",
              "      <td></td>\n",
              "      <td></td>\n",
              "      <td></td>\n",
              "      <td></td>\n",
              "      <td></td>\n",
              "      <td></td>\n",
              "    </tr>\n",
              "    <tr>\n",
              "      <th>1</th>\n",
              "      <td>2</td>\n",
              "      <td>2019</td>\n",
              "      <td>AK</td>\n",
              "      <td>Agrium Kenai Nitrogen Operations</td>\n",
              "      <td>54452</td>\n",
              "      <td>744A</td>\n",
              "      <td>0</td>\n",
              "      <td>OS</td>\n",
              "      <td>GT</td>\n",
              "      <td>NG</td>\n",
              "      <td>2.5</td>\n",
              "      <td></td>\n",
              "      <td></td>\n",
              "      <td></td>\n",
              "      <td></td>\n",
              "      <td>1977</td>\n",
              "      <td></td>\n",
              "    </tr>\n",
              "    <tr>\n",
              "      <th>2</th>\n",
              "      <td>3</td>\n",
              "      <td>2019</td>\n",
              "      <td>AK</td>\n",
              "      <td>Agrium Kenai Nitrogen Operations</td>\n",
              "      <td>54452</td>\n",
              "      <td>744B</td>\n",
              "      <td>0</td>\n",
              "      <td>OS</td>\n",
              "      <td>GT</td>\n",
              "      <td>NG</td>\n",
              "      <td>2.5</td>\n",
              "      <td></td>\n",
              "      <td></td>\n",
              "      <td></td>\n",
              "      <td></td>\n",
              "      <td>1977</td>\n",
              "      <td></td>\n",
              "    </tr>\n",
              "    <tr>\n",
              "      <th>3</th>\n",
              "      <td>4</td>\n",
              "      <td>2019</td>\n",
              "      <td>AK</td>\n",
              "      <td>Agrium Kenai Nitrogen Operations</td>\n",
              "      <td>54452</td>\n",
              "      <td>744C</td>\n",
              "      <td>0</td>\n",
              "      <td>OS</td>\n",
              "      <td>GT</td>\n",
              "      <td>NG</td>\n",
              "      <td>2.5</td>\n",
              "      <td></td>\n",
              "      <td></td>\n",
              "      <td></td>\n",
              "      <td></td>\n",
              "      <td>1977</td>\n",
              "      <td></td>\n",
              "    </tr>\n",
              "    <tr>\n",
              "      <th>4</th>\n",
              "      <td>5</td>\n",
              "      <td>2019</td>\n",
              "      <td>AK</td>\n",
              "      <td>Agrium Kenai Nitrogen Operations</td>\n",
              "      <td>54452</td>\n",
              "      <td>744D</td>\n",
              "      <td>0</td>\n",
              "      <td>OS</td>\n",
              "      <td>GT</td>\n",
              "      <td>NG</td>\n",
              "      <td>2.5</td>\n",
              "      <td></td>\n",
              "      <td></td>\n",
              "      <td></td>\n",
              "      <td></td>\n",
              "      <td>1977</td>\n",
              "      <td></td>\n",
              "    </tr>\n",
              "  </tbody>\n",
              "</table>\n",
              "</div>"
            ],
            "text/plain": [
              "   SEQGEN19  YEAR PSTATABB  ... GENERSRC  GENYRONL GENYRRET\n",
              "0         1  2019       AK  ...                            \n",
              "1         2  2019       AK  ...               1977         \n",
              "2         3  2019       AK  ...               1977         \n",
              "3         4  2019       AK  ...               1977         \n",
              "4         5  2019       AK  ...               1977         \n",
              "\n",
              "[5 rows x 17 columns]"
            ]
          },
          "metadata": {},
          "execution_count": 22
        }
      ]
    },
    {
      "cell_type": "markdown",
      "metadata": {
        "id": "L6nYrstdqkxH"
      },
      "source": [
        "## Manipulating the data frame (data set)"
      ]
    },
    {
      "cell_type": "markdown",
      "metadata": {
        "id": "yS3kSveEXcxZ"
      },
      "source": [
        "Now your the data frame is ready to be used and manipualted. Imagine you want to select only a subset of the columns. You can start by  inspecting columns names by using the code below."
      ]
    },
    {
      "cell_type": "code",
      "metadata": {
        "colab": {
          "base_uri": "https://localhost:8080/"
        },
        "id": "Gb-5fTGilAIQ",
        "outputId": "1b476f2d-45b9-428c-a060-2623efe430c3"
      },
      "source": [
        "df_gen.columns"
      ],
      "execution_count": 23,
      "outputs": [
        {
          "output_type": "execute_result",
          "data": {
            "text/plain": [
              "Index(['SEQGEN19', 'YEAR', 'PSTATABB', 'PNAME', 'ORISPL', 'GENID', 'NUMBLR',\n",
              "       'GENSTAT', 'PRMVR', 'FUELG1', 'NAMEPCAP', 'CFACT', 'GENNTAN', 'GENNTOZ',\n",
              "       'GENERSRC', 'GENYRONL', 'GENYRRET'],\n",
              "      dtype='object')"
            ]
          },
          "metadata": {},
          "execution_count": 23
        }
      ]
    },
    {
      "cell_type": "markdown",
      "metadata": {
        "id": "KEikq4FFX70t"
      },
      "source": [
        "Now you can use use function .loc() to select columns of interest. Choose a name for you new subset data frame. Here we are calling it **sub_df_gen**. And say that you want to select state, name, code, fuel, nameplate capacity and capacity factor of the generator. "
      ]
    },
    {
      "cell_type": "code",
      "metadata": {
        "colab": {
          "base_uri": "https://localhost:8080/",
          "height": 204
        },
        "id": "Zil9qYcvYF7F",
        "outputId": "9defaba6-323c-4230-eb8a-2971e8130141"
      },
      "source": [
        "sub_df_gen = df_gen.loc[:,['PSTATABB','PNAME','ORISPL','FUELG1','NAMEPCAP','CFACT']]\n",
        "sub_df_gen.head(5)\n"
      ],
      "execution_count": 24,
      "outputs": [
        {
          "output_type": "execute_result",
          "data": {
            "text/html": [
              "<div>\n",
              "<style scoped>\n",
              "    .dataframe tbody tr th:only-of-type {\n",
              "        vertical-align: middle;\n",
              "    }\n",
              "\n",
              "    .dataframe tbody tr th {\n",
              "        vertical-align: top;\n",
              "    }\n",
              "\n",
              "    .dataframe thead th {\n",
              "        text-align: right;\n",
              "    }\n",
              "</style>\n",
              "<table border=\"1\" class=\"dataframe\">\n",
              "  <thead>\n",
              "    <tr style=\"text-align: right;\">\n",
              "      <th></th>\n",
              "      <th>PSTATABB</th>\n",
              "      <th>PNAME</th>\n",
              "      <th>ORISPL</th>\n",
              "      <th>FUELG1</th>\n",
              "      <th>NAMEPCAP</th>\n",
              "      <th>CFACT</th>\n",
              "    </tr>\n",
              "  </thead>\n",
              "  <tbody>\n",
              "    <tr>\n",
              "      <th>0</th>\n",
              "      <td>AK</td>\n",
              "      <td>7-Mile Ridge Wind Project</td>\n",
              "      <td>60814</td>\n",
              "      <td>WND</td>\n",
              "      <td>1.8</td>\n",
              "      <td></td>\n",
              "    </tr>\n",
              "    <tr>\n",
              "      <th>1</th>\n",
              "      <td>AK</td>\n",
              "      <td>Agrium Kenai Nitrogen Operations</td>\n",
              "      <td>54452</td>\n",
              "      <td>NG</td>\n",
              "      <td>2.5</td>\n",
              "      <td></td>\n",
              "    </tr>\n",
              "    <tr>\n",
              "      <th>2</th>\n",
              "      <td>AK</td>\n",
              "      <td>Agrium Kenai Nitrogen Operations</td>\n",
              "      <td>54452</td>\n",
              "      <td>NG</td>\n",
              "      <td>2.5</td>\n",
              "      <td></td>\n",
              "    </tr>\n",
              "    <tr>\n",
              "      <th>3</th>\n",
              "      <td>AK</td>\n",
              "      <td>Agrium Kenai Nitrogen Operations</td>\n",
              "      <td>54452</td>\n",
              "      <td>NG</td>\n",
              "      <td>2.5</td>\n",
              "      <td></td>\n",
              "    </tr>\n",
              "    <tr>\n",
              "      <th>4</th>\n",
              "      <td>AK</td>\n",
              "      <td>Agrium Kenai Nitrogen Operations</td>\n",
              "      <td>54452</td>\n",
              "      <td>NG</td>\n",
              "      <td>2.5</td>\n",
              "      <td></td>\n",
              "    </tr>\n",
              "  </tbody>\n",
              "</table>\n",
              "</div>"
            ],
            "text/plain": [
              "  PSTATABB                             PNAME  ORISPL FUELG1 NAMEPCAP CFACT\n",
              "0       AK         7-Mile Ridge Wind Project   60814    WND      1.8      \n",
              "1       AK  Agrium Kenai Nitrogen Operations   54452     NG      2.5      \n",
              "2       AK  Agrium Kenai Nitrogen Operations   54452     NG      2.5      \n",
              "3       AK  Agrium Kenai Nitrogen Operations   54452     NG      2.5      \n",
              "4       AK  Agrium Kenai Nitrogen Operations   54452     NG      2.5      "
            ]
          },
          "metadata": {},
          "execution_count": 24
        }
      ]
    },
    {
      "cell_type": "markdown",
      "metadata": {
        "id": "i42286jWmrHc"
      },
      "source": [
        "If you want to use the column index number instead of the column name you need the function .iloc instead of .loc. From our original data framde df_gen we know the state is on the third columns, but Python starts counting from 0, so you need to point to column 2 to get PSTATABB, 3 to get PNAME and 4 to get ORISPL as shown in the code chunk below.\n",
        "\n",
        "Note the notation here df_gen is a data frame so we refer to columns and row using the brackets [], to point to all elements we use : and a subset of element we use 2:5. Altough we are only looking for columns 2,3,4 we need to specify 2:5. "
      ]
    },
    {
      "cell_type": "markdown",
      "metadata": {
        "id": "60PSMu7VpJVo"
      },
      "source": [
        ""
      ]
    },
    {
      "cell_type": "code",
      "metadata": {
        "colab": {
          "base_uri": "https://localhost:8080/",
          "height": 204
        },
        "id": "_C8Z9o37mzZn",
        "outputId": "e46e0f73-7ebc-41d2-bf8a-9183f8ec7639"
      },
      "source": [
        "sub_df_gen = df_gen.iloc[:,2:5]\n",
        "sub_df_gen.head(5)"
      ],
      "execution_count": 27,
      "outputs": [
        {
          "output_type": "execute_result",
          "data": {
            "text/html": [
              "<div>\n",
              "<style scoped>\n",
              "    .dataframe tbody tr th:only-of-type {\n",
              "        vertical-align: middle;\n",
              "    }\n",
              "\n",
              "    .dataframe tbody tr th {\n",
              "        vertical-align: top;\n",
              "    }\n",
              "\n",
              "    .dataframe thead th {\n",
              "        text-align: right;\n",
              "    }\n",
              "</style>\n",
              "<table border=\"1\" class=\"dataframe\">\n",
              "  <thead>\n",
              "    <tr style=\"text-align: right;\">\n",
              "      <th></th>\n",
              "      <th>PSTATABB</th>\n",
              "      <th>PNAME</th>\n",
              "      <th>ORISPL</th>\n",
              "    </tr>\n",
              "  </thead>\n",
              "  <tbody>\n",
              "    <tr>\n",
              "      <th>0</th>\n",
              "      <td>AK</td>\n",
              "      <td>7-Mile Ridge Wind Project</td>\n",
              "      <td>60814</td>\n",
              "    </tr>\n",
              "    <tr>\n",
              "      <th>1</th>\n",
              "      <td>AK</td>\n",
              "      <td>Agrium Kenai Nitrogen Operations</td>\n",
              "      <td>54452</td>\n",
              "    </tr>\n",
              "    <tr>\n",
              "      <th>2</th>\n",
              "      <td>AK</td>\n",
              "      <td>Agrium Kenai Nitrogen Operations</td>\n",
              "      <td>54452</td>\n",
              "    </tr>\n",
              "    <tr>\n",
              "      <th>3</th>\n",
              "      <td>AK</td>\n",
              "      <td>Agrium Kenai Nitrogen Operations</td>\n",
              "      <td>54452</td>\n",
              "    </tr>\n",
              "    <tr>\n",
              "      <th>4</th>\n",
              "      <td>AK</td>\n",
              "      <td>Agrium Kenai Nitrogen Operations</td>\n",
              "      <td>54452</td>\n",
              "    </tr>\n",
              "  </tbody>\n",
              "</table>\n",
              "</div>"
            ],
            "text/plain": [
              "  PSTATABB                             PNAME  ORISPL\n",
              "0       AK         7-Mile Ridge Wind Project   60814\n",
              "1       AK  Agrium Kenai Nitrogen Operations   54452\n",
              "2       AK  Agrium Kenai Nitrogen Operations   54452\n",
              "3       AK  Agrium Kenai Nitrogen Operations   54452\n",
              "4       AK  Agrium Kenai Nitrogen Operations   54452"
            ]
          },
          "metadata": {},
          "execution_count": 27
        }
      ]
    },
    {
      "cell_type": "markdown",
      "metadata": {
        "id": "liSTNxszpl4O"
      },
      "source": [
        "What about the other columns? If you want to specify more then one range for columns you need the np.r_[] function. Recall no stands for numpy.  "
      ]
    },
    {
      "cell_type": "code",
      "metadata": {
        "colab": {
          "base_uri": "https://localhost:8080/",
          "height": 204
        },
        "id": "nOSrENgVpy0-",
        "outputId": "a7ab0811-a9d5-4d6d-9ed5-658b5a1e4095"
      },
      "source": [
        "sub_df_gen = df_gen.iloc[:,np.r_[2:5,9:12]]\n",
        "sub_df_gen.head(5) "
      ],
      "execution_count": 28,
      "outputs": [
        {
          "output_type": "execute_result",
          "data": {
            "text/html": [
              "<div>\n",
              "<style scoped>\n",
              "    .dataframe tbody tr th:only-of-type {\n",
              "        vertical-align: middle;\n",
              "    }\n",
              "\n",
              "    .dataframe tbody tr th {\n",
              "        vertical-align: top;\n",
              "    }\n",
              "\n",
              "    .dataframe thead th {\n",
              "        text-align: right;\n",
              "    }\n",
              "</style>\n",
              "<table border=\"1\" class=\"dataframe\">\n",
              "  <thead>\n",
              "    <tr style=\"text-align: right;\">\n",
              "      <th></th>\n",
              "      <th>PSTATABB</th>\n",
              "      <th>PNAME</th>\n",
              "      <th>ORISPL</th>\n",
              "      <th>FUELG1</th>\n",
              "      <th>NAMEPCAP</th>\n",
              "      <th>CFACT</th>\n",
              "    </tr>\n",
              "  </thead>\n",
              "  <tbody>\n",
              "    <tr>\n",
              "      <th>0</th>\n",
              "      <td>AK</td>\n",
              "      <td>7-Mile Ridge Wind Project</td>\n",
              "      <td>60814</td>\n",
              "      <td>WND</td>\n",
              "      <td>1.8</td>\n",
              "      <td></td>\n",
              "    </tr>\n",
              "    <tr>\n",
              "      <th>1</th>\n",
              "      <td>AK</td>\n",
              "      <td>Agrium Kenai Nitrogen Operations</td>\n",
              "      <td>54452</td>\n",
              "      <td>NG</td>\n",
              "      <td>2.5</td>\n",
              "      <td></td>\n",
              "    </tr>\n",
              "    <tr>\n",
              "      <th>2</th>\n",
              "      <td>AK</td>\n",
              "      <td>Agrium Kenai Nitrogen Operations</td>\n",
              "      <td>54452</td>\n",
              "      <td>NG</td>\n",
              "      <td>2.5</td>\n",
              "      <td></td>\n",
              "    </tr>\n",
              "    <tr>\n",
              "      <th>3</th>\n",
              "      <td>AK</td>\n",
              "      <td>Agrium Kenai Nitrogen Operations</td>\n",
              "      <td>54452</td>\n",
              "      <td>NG</td>\n",
              "      <td>2.5</td>\n",
              "      <td></td>\n",
              "    </tr>\n",
              "    <tr>\n",
              "      <th>4</th>\n",
              "      <td>AK</td>\n",
              "      <td>Agrium Kenai Nitrogen Operations</td>\n",
              "      <td>54452</td>\n",
              "      <td>NG</td>\n",
              "      <td>2.5</td>\n",
              "      <td></td>\n",
              "    </tr>\n",
              "  </tbody>\n",
              "</table>\n",
              "</div>"
            ],
            "text/plain": [
              "  PSTATABB                             PNAME  ORISPL FUELG1 NAMEPCAP CFACT\n",
              "0       AK         7-Mile Ridge Wind Project   60814    WND      1.8      \n",
              "1       AK  Agrium Kenai Nitrogen Operations   54452     NG      2.5      \n",
              "2       AK  Agrium Kenai Nitrogen Operations   54452     NG      2.5      \n",
              "3       AK  Agrium Kenai Nitrogen Operations   54452     NG      2.5      \n",
              "4       AK  Agrium Kenai Nitrogen Operations   54452     NG      2.5      "
            ]
          },
          "metadata": {},
          "execution_count": 28
        }
      ]
    },
    {
      "cell_type": "markdown",
      "metadata": {
        "id": "EIjsl9q8p8W9"
      },
      "source": [
        "Some can be done for a subset of rows. Say you want rows 101 to 109, then you specify the range 101:110."
      ]
    },
    {
      "cell_type": "code",
      "metadata": {
        "colab": {
          "base_uri": "https://localhost:8080/",
          "height": 328
        },
        "id": "RPZLPmkvp-2u",
        "outputId": "9ecd5bee-0dd4-4bd5-ae99-c91db6b76aa0"
      },
      "source": [
        "sub_df_gen = df_gen.iloc[101:110,]\n",
        "sub_df_gen.head(10)"
      ],
      "execution_count": 29,
      "outputs": [
        {
          "output_type": "execute_result",
          "data": {
            "text/html": [
              "<div>\n",
              "<style scoped>\n",
              "    .dataframe tbody tr th:only-of-type {\n",
              "        vertical-align: middle;\n",
              "    }\n",
              "\n",
              "    .dataframe tbody tr th {\n",
              "        vertical-align: top;\n",
              "    }\n",
              "\n",
              "    .dataframe thead th {\n",
              "        text-align: right;\n",
              "    }\n",
              "</style>\n",
              "<table border=\"1\" class=\"dataframe\">\n",
              "  <thead>\n",
              "    <tr style=\"text-align: right;\">\n",
              "      <th></th>\n",
              "      <th>SEQGEN19</th>\n",
              "      <th>YEAR</th>\n",
              "      <th>PSTATABB</th>\n",
              "      <th>PNAME</th>\n",
              "      <th>ORISPL</th>\n",
              "      <th>GENID</th>\n",
              "      <th>NUMBLR</th>\n",
              "      <th>GENSTAT</th>\n",
              "      <th>PRMVR</th>\n",
              "      <th>FUELG1</th>\n",
              "      <th>NAMEPCAP</th>\n",
              "      <th>CFACT</th>\n",
              "      <th>GENNTAN</th>\n",
              "      <th>GENNTOZ</th>\n",
              "      <th>GENERSRC</th>\n",
              "      <th>GENYRONL</th>\n",
              "      <th>GENYRRET</th>\n",
              "    </tr>\n",
              "  </thead>\n",
              "  <tbody>\n",
              "    <tr>\n",
              "      <th>101</th>\n",
              "      <td>102</td>\n",
              "      <td>2019</td>\n",
              "      <td>AK</td>\n",
              "      <td>Craig (AK)</td>\n",
              "      <td>421</td>\n",
              "      <td>3B</td>\n",
              "      <td>0</td>\n",
              "      <td>OP</td>\n",
              "      <td>IC</td>\n",
              "      <td>DFO</td>\n",
              "      <td>1.8</td>\n",
              "      <td>0.011</td>\n",
              "      <td>180.391</td>\n",
              "      <td>73.565</td>\n",
              "      <td>Distributed from 923 Generation And Fuel</td>\n",
              "      <td>2015</td>\n",
              "      <td></td>\n",
              "    </tr>\n",
              "    <tr>\n",
              "      <th>102</th>\n",
              "      <td>103</td>\n",
              "      <td>2019</td>\n",
              "      <td>AK</td>\n",
              "      <td>Craig (AK)</td>\n",
              "      <td>421</td>\n",
              "      <td>5</td>\n",
              "      <td>0</td>\n",
              "      <td>OP</td>\n",
              "      <td>IC</td>\n",
              "      <td>DFO</td>\n",
              "      <td>1.1</td>\n",
              "      <td>0.011</td>\n",
              "      <td>110.239</td>\n",
              "      <td>44.957</td>\n",
              "      <td>Distributed from 923 Generation And Fuel</td>\n",
              "      <td>1983</td>\n",
              "      <td></td>\n",
              "    </tr>\n",
              "    <tr>\n",
              "      <th>103</th>\n",
              "      <td>104</td>\n",
              "      <td>2019</td>\n",
              "      <td>AK</td>\n",
              "      <td>Craig (AK)</td>\n",
              "      <td>421</td>\n",
              "      <td>6</td>\n",
              "      <td>0</td>\n",
              "      <td>OP</td>\n",
              "      <td>IC</td>\n",
              "      <td>DFO</td>\n",
              "      <td>1.1</td>\n",
              "      <td>0.011</td>\n",
              "      <td>110.239</td>\n",
              "      <td>44.957</td>\n",
              "      <td>Distributed from 923 Generation And Fuel</td>\n",
              "      <td>1989</td>\n",
              "      <td></td>\n",
              "    </tr>\n",
              "    <tr>\n",
              "      <th>104</th>\n",
              "      <td>105</td>\n",
              "      <td>2019</td>\n",
              "      <td>AK</td>\n",
              "      <td>Craig (AK)</td>\n",
              "      <td>421</td>\n",
              "      <td>3A</td>\n",
              "      <td>0</td>\n",
              "      <td>RE</td>\n",
              "      <td>IC</td>\n",
              "      <td>DFO</td>\n",
              "      <td>1.6</td>\n",
              "      <td></td>\n",
              "      <td></td>\n",
              "      <td></td>\n",
              "      <td></td>\n",
              "      <td></td>\n",
              "      <td>2015</td>\n",
              "    </tr>\n",
              "    <tr>\n",
              "      <th>105</th>\n",
              "      <td>106</td>\n",
              "      <td>2019</td>\n",
              "      <td>AK</td>\n",
              "      <td>Delta Power</td>\n",
              "      <td>56325</td>\n",
              "      <td>6</td>\n",
              "      <td>0</td>\n",
              "      <td>SB</td>\n",
              "      <td>GT</td>\n",
              "      <td>DFO</td>\n",
              "      <td>23.1</td>\n",
              "      <td>-0.001</td>\n",
              "      <td>-133</td>\n",
              "      <td>-54</td>\n",
              "      <td>Distributed from 923 Generation And Fuel</td>\n",
              "      <td>1976</td>\n",
              "      <td></td>\n",
              "    </tr>\n",
              "    <tr>\n",
              "      <th>106</th>\n",
              "      <td>107</td>\n",
              "      <td>2019</td>\n",
              "      <td>AK</td>\n",
              "      <td>Delta Wind Farm</td>\n",
              "      <td>58511</td>\n",
              "      <td>EWT1</td>\n",
              "      <td>0</td>\n",
              "      <td>OP</td>\n",
              "      <td>WT</td>\n",
              "      <td>WND</td>\n",
              "      <td>0.9</td>\n",
              "      <td>0.239</td>\n",
              "      <td>1880.53</td>\n",
              "      <td>720.947</td>\n",
              "      <td>Distributed from 923 Generation And Fuel</td>\n",
              "      <td>2009</td>\n",
              "      <td></td>\n",
              "    </tr>\n",
              "    <tr>\n",
              "      <th>107</th>\n",
              "      <td>108</td>\n",
              "      <td>2019</td>\n",
              "      <td>AK</td>\n",
              "      <td>Delta Wind Farm</td>\n",
              "      <td>58511</td>\n",
              "      <td>EWT2</td>\n",
              "      <td>0</td>\n",
              "      <td>OP</td>\n",
              "      <td>WT</td>\n",
              "      <td>WND</td>\n",
              "      <td>0.9</td>\n",
              "      <td>0.239</td>\n",
              "      <td>1880.53</td>\n",
              "      <td>720.947</td>\n",
              "      <td>Distributed from 923 Generation And Fuel</td>\n",
              "      <td>2013</td>\n",
              "      <td></td>\n",
              "    </tr>\n",
              "    <tr>\n",
              "      <th>108</th>\n",
              "      <td>109</td>\n",
              "      <td>2019</td>\n",
              "      <td>AK</td>\n",
              "      <td>Delta Wind Farm</td>\n",
              "      <td>58511</td>\n",
              "      <td>NW1</td>\n",
              "      <td>0</td>\n",
              "      <td>OP</td>\n",
              "      <td>WT</td>\n",
              "      <td>WND</td>\n",
              "      <td>0.1</td>\n",
              "      <td>0.239</td>\n",
              "      <td>208.947</td>\n",
              "      <td>80.105</td>\n",
              "      <td>Distributed from 923 Generation And Fuel</td>\n",
              "      <td>2008</td>\n",
              "      <td></td>\n",
              "    </tr>\n",
              "    <tr>\n",
              "      <th>109</th>\n",
              "      <td>110</td>\n",
              "      <td>2019</td>\n",
              "      <td>AK</td>\n",
              "      <td>Dillingham</td>\n",
              "      <td>109</td>\n",
              "      <td>10</td>\n",
              "      <td>0</td>\n",
              "      <td>OP</td>\n",
              "      <td>IC</td>\n",
              "      <td>DFO</td>\n",
              "      <td>1.1</td>\n",
              "      <td>0.194</td>\n",
              "      <td>1866.3</td>\n",
              "      <td>759.8</td>\n",
              "      <td>Distributed from 923 Generation And Fuel</td>\n",
              "      <td>1988</td>\n",
              "      <td></td>\n",
              "    </tr>\n",
              "  </tbody>\n",
              "</table>\n",
              "</div>"
            ],
            "text/plain": [
              "     SEQGEN19  YEAR  ... GENYRONL GENYRRET\n",
              "101       102  2019  ...     2015         \n",
              "102       103  2019  ...     1983         \n",
              "103       104  2019  ...     1989         \n",
              "104       105  2019  ...              2015\n",
              "105       106  2019  ...     1976         \n",
              "106       107  2019  ...     2009         \n",
              "107       108  2019  ...     2013         \n",
              "108       109  2019  ...     2008         \n",
              "109       110  2019  ...     1988         \n",
              "\n",
              "[9 rows x 17 columns]"
            ]
          },
          "metadata": {},
          "execution_count": 29
        }
      ]
    },
    {
      "cell_type": "markdown",
      "metadata": {
        "id": "8LBYkAiZsIBB"
      },
      "source": [
        "## Filtering the data"
      ]
    },
    {
      "cell_type": "markdown",
      "metadata": {
        "id": "rh_CQRZlqxS0"
      },
      "source": [
        "But what if you want a specific subset if rows, say you are interested in **wind generators only**. You can **filter** your data by only selecting the rows whose columns FUELG1 is equal to \"WND\". Remember that WND stands for wind power.\n",
        "\n",
        "Note here I am accessing the column in a different fashion. So instead of writing df_gen[“FUELG1”]==\"WND\" I am using sub_df_gen.FUELG1==\"WND\". Both are correct!\n"
      ]
    },
    {
      "cell_type": "code",
      "metadata": {
        "colab": {
          "base_uri": "https://localhost:8080/",
          "height": 419
        },
        "id": "Jily-p-_qytC",
        "outputId": "ebef8d45-6532-42bf-9148-1b69cfc7308b"
      },
      "source": [
        "sub_df_gen = df_gen.iloc[:,np.r_[2:5,9:12]].  ##going back to subset data frame with the columns of insterest\n",
        "wnd_df_gen = sub_df_gen[(sub_df_gen.FUELG1==\"WND\")]\n",
        "wnd_df_gen"
      ],
      "execution_count": 36,
      "outputs": [
        {
          "output_type": "execute_result",
          "data": {
            "text/html": [
              "<div>\n",
              "<style scoped>\n",
              "    .dataframe tbody tr th:only-of-type {\n",
              "        vertical-align: middle;\n",
              "    }\n",
              "\n",
              "    .dataframe tbody tr th {\n",
              "        vertical-align: top;\n",
              "    }\n",
              "\n",
              "    .dataframe thead th {\n",
              "        text-align: right;\n",
              "    }\n",
              "</style>\n",
              "<table border=\"1\" class=\"dataframe\">\n",
              "  <thead>\n",
              "    <tr style=\"text-align: right;\">\n",
              "      <th></th>\n",
              "      <th>PSTATABB</th>\n",
              "      <th>PNAME</th>\n",
              "      <th>ORISPL</th>\n",
              "      <th>FUELG1</th>\n",
              "      <th>NAMEPCAP</th>\n",
              "      <th>CFACT</th>\n",
              "    </tr>\n",
              "  </thead>\n",
              "  <tbody>\n",
              "    <tr>\n",
              "      <th>0</th>\n",
              "      <td>AK</td>\n",
              "      <td>7-Mile Ridge Wind Project</td>\n",
              "      <td>60814</td>\n",
              "      <td>WND</td>\n",
              "      <td>1.8</td>\n",
              "      <td></td>\n",
              "    </tr>\n",
              "    <tr>\n",
              "      <th>106</th>\n",
              "      <td>AK</td>\n",
              "      <td>Delta Wind Farm</td>\n",
              "      <td>58511</td>\n",
              "      <td>WND</td>\n",
              "      <td>0.9</td>\n",
              "      <td>0.239</td>\n",
              "    </tr>\n",
              "    <tr>\n",
              "      <th>107</th>\n",
              "      <td>AK</td>\n",
              "      <td>Delta Wind Farm</td>\n",
              "      <td>58511</td>\n",
              "      <td>WND</td>\n",
              "      <td>0.9</td>\n",
              "      <td>0.239</td>\n",
              "    </tr>\n",
              "    <tr>\n",
              "      <th>108</th>\n",
              "      <td>AK</td>\n",
              "      <td>Delta Wind Farm</td>\n",
              "      <td>58511</td>\n",
              "      <td>WND</td>\n",
              "      <td>0.1</td>\n",
              "      <td>0.239</td>\n",
              "    </tr>\n",
              "    <tr>\n",
              "      <th>171</th>\n",
              "      <td>AK</td>\n",
              "      <td>Eva Creek Wind</td>\n",
              "      <td>57935</td>\n",
              "      <td>WND</td>\n",
              "      <td>24.6</td>\n",
              "      <td>0.279</td>\n",
              "    </tr>\n",
              "    <tr>\n",
              "      <th>...</th>\n",
              "      <td>...</td>\n",
              "      <td>...</td>\n",
              "      <td>...</td>\n",
              "      <td>...</td>\n",
              "      <td>...</td>\n",
              "      <td>...</td>\n",
              "    </tr>\n",
              "    <tr>\n",
              "      <th>29121</th>\n",
              "      <td>WY</td>\n",
              "      <td>Seven Mile Hill</td>\n",
              "      <td>56843</td>\n",
              "      <td>WND</td>\n",
              "      <td>24.1</td>\n",
              "      <td>0.301</td>\n",
              "    </tr>\n",
              "    <tr>\n",
              "      <th>29126</th>\n",
              "      <td>WY</td>\n",
              "      <td>Silver Sage Windpower</td>\n",
              "      <td>57091</td>\n",
              "      <td>WND</td>\n",
              "      <td>42</td>\n",
              "      <td>0.326</td>\n",
              "    </tr>\n",
              "    <tr>\n",
              "      <th>29146</th>\n",
              "      <td>WY</td>\n",
              "      <td>TB Flats</td>\n",
              "      <td>62516</td>\n",
              "      <td>WND</td>\n",
              "      <td>503.2</td>\n",
              "      <td></td>\n",
              "    </tr>\n",
              "    <tr>\n",
              "      <th>29147</th>\n",
              "      <td>WY</td>\n",
              "      <td>Top of the World Windpower Project</td>\n",
              "      <td>57327</td>\n",
              "      <td>WND</td>\n",
              "      <td>200</td>\n",
              "      <td>0.313</td>\n",
              "    </tr>\n",
              "    <tr>\n",
              "      <th>29148</th>\n",
              "      <td>WY</td>\n",
              "      <td>TransAlta Wyoming Wind</td>\n",
              "      <td>56093</td>\n",
              "      <td>WND</td>\n",
              "      <td>144</td>\n",
              "      <td>0.272</td>\n",
              "    </tr>\n",
              "  </tbody>\n",
              "</table>\n",
              "<p>1686 rows × 6 columns</p>\n",
              "</div>"
            ],
            "text/plain": [
              "      PSTATABB                               PNAME  ...  NAMEPCAP  CFACT\n",
              "0           AK           7-Mile Ridge Wind Project  ...       1.8       \n",
              "106         AK                     Delta Wind Farm  ...       0.9  0.239\n",
              "107         AK                     Delta Wind Farm  ...       0.9  0.239\n",
              "108         AK                     Delta Wind Farm  ...       0.1  0.239\n",
              "171         AK                      Eva Creek Wind  ...      24.6  0.279\n",
              "...        ...                                 ...  ...       ...    ...\n",
              "29121       WY                     Seven Mile Hill  ...      24.1  0.301\n",
              "29126       WY               Silver Sage Windpower  ...        42  0.326\n",
              "29146       WY                            TB Flats  ...     503.2       \n",
              "29147       WY  Top of the World Windpower Project  ...       200  0.313\n",
              "29148       WY              TransAlta Wyoming Wind  ...       144  0.272\n",
              "\n",
              "[1686 rows x 6 columns]"
            ]
          },
          "metadata": {},
          "execution_count": 36
        }
      ]
    },
    {
      "cell_type": "markdown",
      "metadata": {
        "id": "CBfDI_k5qzs9"
      },
      "source": [
        "Note that all rows have \"WND\" in the FUELG1 column. Now what if I want wind and solar power only. I can add another condition inside the brackets."
      ]
    },
    {
      "cell_type": "code",
      "metadata": {
        "colab": {
          "base_uri": "https://localhost:8080/",
          "height": 419
        },
        "id": "TjPVvqjuq0BN",
        "outputId": "9b6d9a66-8f6a-42ba-85f0-b9dc08f21fb5"
      },
      "source": [
        "wnd_sun_df_gen = sub_df_gen[(sub_df_gen.FUELG1==\"WND\")|(sub_df_gen.FUELG1==\"SUN\")]\n",
        "wnd_sun_df_gen"
      ],
      "execution_count": 37,
      "outputs": [
        {
          "output_type": "execute_result",
          "data": {
            "text/html": [
              "<div>\n",
              "<style scoped>\n",
              "    .dataframe tbody tr th:only-of-type {\n",
              "        vertical-align: middle;\n",
              "    }\n",
              "\n",
              "    .dataframe tbody tr th {\n",
              "        vertical-align: top;\n",
              "    }\n",
              "\n",
              "    .dataframe thead th {\n",
              "        text-align: right;\n",
              "    }\n",
              "</style>\n",
              "<table border=\"1\" class=\"dataframe\">\n",
              "  <thead>\n",
              "    <tr style=\"text-align: right;\">\n",
              "      <th></th>\n",
              "      <th>PSTATABB</th>\n",
              "      <th>PNAME</th>\n",
              "      <th>ORISPL</th>\n",
              "      <th>FUELG1</th>\n",
              "      <th>NAMEPCAP</th>\n",
              "      <th>CFACT</th>\n",
              "    </tr>\n",
              "  </thead>\n",
              "  <tbody>\n",
              "    <tr>\n",
              "      <th>0</th>\n",
              "      <td>AK</td>\n",
              "      <td>7-Mile Ridge Wind Project</td>\n",
              "      <td>60814</td>\n",
              "      <td>WND</td>\n",
              "      <td>1.8</td>\n",
              "      <td></td>\n",
              "    </tr>\n",
              "    <tr>\n",
              "      <th>106</th>\n",
              "      <td>AK</td>\n",
              "      <td>Delta Wind Farm</td>\n",
              "      <td>58511</td>\n",
              "      <td>WND</td>\n",
              "      <td>0.9</td>\n",
              "      <td>0.239</td>\n",
              "    </tr>\n",
              "    <tr>\n",
              "      <th>107</th>\n",
              "      <td>AK</td>\n",
              "      <td>Delta Wind Farm</td>\n",
              "      <td>58511</td>\n",
              "      <td>WND</td>\n",
              "      <td>0.9</td>\n",
              "      <td>0.239</td>\n",
              "    </tr>\n",
              "    <tr>\n",
              "      <th>108</th>\n",
              "      <td>AK</td>\n",
              "      <td>Delta Wind Farm</td>\n",
              "      <td>58511</td>\n",
              "      <td>WND</td>\n",
              "      <td>0.1</td>\n",
              "      <td>0.239</td>\n",
              "    </tr>\n",
              "    <tr>\n",
              "      <th>171</th>\n",
              "      <td>AK</td>\n",
              "      <td>Eva Creek Wind</td>\n",
              "      <td>57935</td>\n",
              "      <td>WND</td>\n",
              "      <td>24.6</td>\n",
              "      <td>0.279</td>\n",
              "    </tr>\n",
              "    <tr>\n",
              "      <th>...</th>\n",
              "      <td>...</td>\n",
              "      <td>...</td>\n",
              "      <td>...</td>\n",
              "      <td>...</td>\n",
              "      <td>...</td>\n",
              "      <td>...</td>\n",
              "    </tr>\n",
              "    <tr>\n",
              "      <th>29126</th>\n",
              "      <td>WY</td>\n",
              "      <td>Silver Sage Windpower</td>\n",
              "      <td>57091</td>\n",
              "      <td>WND</td>\n",
              "      <td>42</td>\n",
              "      <td>0.326</td>\n",
              "    </tr>\n",
              "    <tr>\n",
              "      <th>29140</th>\n",
              "      <td>WY</td>\n",
              "      <td>Sweetwater Solar</td>\n",
              "      <td>61369</td>\n",
              "      <td>SUN</td>\n",
              "      <td>92</td>\n",
              "      <td>0.224</td>\n",
              "    </tr>\n",
              "    <tr>\n",
              "      <th>29146</th>\n",
              "      <td>WY</td>\n",
              "      <td>TB Flats</td>\n",
              "      <td>62516</td>\n",
              "      <td>WND</td>\n",
              "      <td>503.2</td>\n",
              "      <td></td>\n",
              "    </tr>\n",
              "    <tr>\n",
              "      <th>29147</th>\n",
              "      <td>WY</td>\n",
              "      <td>Top of the World Windpower Project</td>\n",
              "      <td>57327</td>\n",
              "      <td>WND</td>\n",
              "      <td>200</td>\n",
              "      <td>0.313</td>\n",
              "    </tr>\n",
              "    <tr>\n",
              "      <th>29148</th>\n",
              "      <td>WY</td>\n",
              "      <td>TransAlta Wyoming Wind</td>\n",
              "      <td>56093</td>\n",
              "      <td>WND</td>\n",
              "      <td>144</td>\n",
              "      <td>0.272</td>\n",
              "    </tr>\n",
              "  </tbody>\n",
              "</table>\n",
              "<p>6838 rows × 6 columns</p>\n",
              "</div>"
            ],
            "text/plain": [
              "      PSTATABB                               PNAME  ...  NAMEPCAP  CFACT\n",
              "0           AK           7-Mile Ridge Wind Project  ...       1.8       \n",
              "106         AK                     Delta Wind Farm  ...       0.9  0.239\n",
              "107         AK                     Delta Wind Farm  ...       0.9  0.239\n",
              "108         AK                     Delta Wind Farm  ...       0.1  0.239\n",
              "171         AK                      Eva Creek Wind  ...      24.6  0.279\n",
              "...        ...                                 ...  ...       ...    ...\n",
              "29126       WY               Silver Sage Windpower  ...        42  0.326\n",
              "29140       WY                    Sweetwater Solar  ...        92  0.224\n",
              "29146       WY                            TB Flats  ...     503.2       \n",
              "29147       WY  Top of the World Windpower Project  ...       200  0.313\n",
              "29148       WY              TransAlta Wyoming Wind  ...       144  0.272\n",
              "\n",
              "[6838 rows x 6 columns]"
            ]
          },
          "metadata": {},
          "execution_count": 37
        }
      ]
    },
    {
      "cell_type": "markdown",
      "metadata": {
        "id": "loHppnnYsNPn"
      },
      "source": [
        "## Summarizing the data"
      ]
    },
    {
      "cell_type": "markdown",
      "metadata": {
        "id": "iTTcopBys8HI"
      },
      "source": [
        "Now imagine that you want to sum nameplate capacity to see total installed capacity for wind and sun. You can start with our subset data wnd_sun_df_gen that already contain our generators of interest. All you have left to do is to point to the columns you want to sum and use function .sum(). "
      ]
    },
    {
      "cell_type": "code",
      "metadata": {
        "colab": {
          "base_uri": "https://localhost:8080/"
        },
        "id": "6j0IIH0bsP6Y",
        "outputId": "48b0c50e-439f-434c-9c96-953240d10fb6"
      },
      "source": [
        "sum_cap=wnd_sun_df_gen['NAMEPCAP'].sum()\n",
        "sum_cap"
      ],
      "execution_count": 38,
      "outputs": [
        {
          "output_type": "execute_result",
          "data": {
            "text/plain": [
              "230310.99999999953"
            ]
          },
          "metadata": {},
          "execution_count": 38
        }
      ]
    },
    {
      "cell_type": "markdown",
      "metadata": {
        "id": "30e1DlSqtj8K"
      },
      "source": [
        "Remember the units for NAMEPCAP column in e-grid is MW. Therefore, the total installed capacity for sun and wind in 2019 was 230,310 MW or 230 GW."
      ]
    },
    {
      "cell_type": "markdown",
      "metadata": {
        "id": "IkyyPEO6uE0T"
      },
      "source": [
        "## Exercise 1"
      ]
    },
    {
      "cell_type": "markdown",
      "metadata": {
        "id": "0nnDcv7ct_qm"
      },
      "source": [
        "What if you want separated values for wind and sun? \n",
        "\n",
        "Part a) Write a code that will give you the total installed capacity in 2019 for **wind** power."
      ]
    },
    {
      "cell_type": "code",
      "metadata": {
        "id": "Nd8m_3qOuQSZ"
      },
      "source": [
        "## your code"
      ],
      "execution_count": null,
      "outputs": []
    },
    {
      "cell_type": "markdown",
      "metadata": {
        "id": "WAyybk8huRsY"
      },
      "source": [
        "Part b) Write a code that will give you the total installed capacity in 2019 for ***solar*** power."
      ]
    },
    {
      "cell_type": "code",
      "metadata": {
        "id": "of1Sh1bvuZTU"
      },
      "source": [
        "## your code"
      ],
      "execution_count": null,
      "outputs": []
    },
    {
      "cell_type": "markdown",
      "metadata": {
        "id": "2r-NHgIjubnl"
      },
      "source": [
        "Part c) Now sum the total installed capcity from wind (part 1) and solar (part 2) and see if you got the same 230 GW."
      ]
    },
    {
      "cell_type": "code",
      "metadata": {
        "id": "PtFJLfi9uqzy"
      },
      "source": [
        "## your code"
      ],
      "execution_count": null,
      "outputs": []
    }
  ]
}