{
  "nbformat": 4,
  "nbformat_minor": 0,
  "metadata": {
    "kernelspec": {
      "display_name": "Python 3",
      "language": "python",
      "name": "python3"
    },
    "language_info": {
      "codemirror_mode": {
        "name": "ipython",
        "version": 3
      },
      "file_extension": ".py",
      "mimetype": "text/x-python",
      "name": "python",
      "nbconvert_exporter": "python",
      "pygments_lexer": "ipython3",
      "version": "3.7.4"
    },
    "colab": {
      "name": "Lab10_ShortestPath.ipynb",
      "provenance": [],
      "collapsed_sections": [
        "RRVCA3_S17L0",
        "_SwHFQAjPApD",
        "MAQkdQVuTQD8",
        "cPHsfvwoDPrP",
        "cw2hTgS2P1Uz"
      ],
      "toc_visible": true,
      "include_colab_link": true
    }
  },
  "cells": [
    {
      "cell_type": "markdown",
      "metadata": {
        "id": "view-in-github",
        "colab_type": "text"
      },
      "source": [
        "<a href=\"https://colab.research.google.com/github/lmmlima/ENV716_EnergyModeling_F2021/blob/main/Lab10/Lab10_ShortestPath.ipynb\" target=\"_parent\"><img src=\"https://colab.research.google.com/assets/colab-badge.svg\" alt=\"Open In Colab\"/></a>"
      ]
    },
    {
      "cell_type": "markdown",
      "metadata": {
        "id": "P0sInrLWNjGn"
      },
      "source": [
        "# **Lab 10 - Network Models: Shortest Path**\n"
      ]
    },
    {
      "cell_type": "markdown",
      "metadata": {
        "id": "9Mc0pKi9UtBk"
      },
      "source": [
        "Learning goals for Lab9:\n",
        "* Explore another type of network model, the **shortest path**;\n",
        "* Learn how to handle **sparse sets** in Pyomo;\n",
        "* Learn how to define **abstract models**;\n",
        "Learn how to create and solve an **instance** of an abstratc model."
      ]
    },
    {
      "cell_type": "markdown",
      "metadata": {
        "id": "RRVCA3_S17L0"
      },
      "source": [
        "## Initializing "
      ]
    },
    {
      "cell_type": "code",
      "metadata": {
        "colab": {
          "base_uri": "https://localhost:8080/"
        },
        "id": "p9RjfZs31rSC",
        "outputId": "e365f652-62d9-4dd0-bef0-10bf12f8e92e"
      },
      "source": [
        "from google.colab import drive\n",
        "drive.mount('/content/drive')"
      ],
      "execution_count": null,
      "outputs": [
        {
          "output_type": "stream",
          "name": "stdout",
          "text": [
            "Drive already mounted at /content/drive; to attempt to forcibly remount, call drive.mount(\"/content/drive\", force_remount=True).\n"
          ]
        }
      ]
    },
    {
      "cell_type": "code",
      "metadata": {
        "id": "zz6H46Ap1vhR"
      },
      "source": [
        "import os\n",
        "os.chdir('/content/drive/MyDrive/Colab Notebooks/')"
      ],
      "execution_count": null,
      "outputs": []
    },
    {
      "cell_type": "markdown",
      "metadata": {
        "id": "iCRbHUT8110g"
      },
      "source": [
        "Installing Pyomo and solver. Recall for teh shortest path example we have binary variables so we will need to use another solver. Instead of installing glpk, thsi time we will install COIN-OR CBC. \\\\ \n",
        "COIN-OR CBC is a multi-threaded open-source Coin-or branch and cut **mixed-integer linear programming solver**. CBC is generally a good choice for a general purpose MILP solver for medium to large scale problems."
      ]
    },
    {
      "cell_type": "code",
      "metadata": {
        "id": "jAqq5CgB2CdL",
        "colab": {
          "base_uri": "https://localhost:8080/"
        },
        "outputId": "2d504eca-7b12-4111-d6b4-24edfc036fe2"
      },
      "source": [
        "!pip install pyomo\n",
        "#!apt-get install -y -qq glpk-utils\n",
        "!apt-get install -y -qq coinor-cbc"
      ],
      "execution_count": null,
      "outputs": [
        {
          "output_type": "stream",
          "name": "stdout",
          "text": [
            "Requirement already satisfied: pyomo in /usr/local/lib/python3.7/dist-packages (6.1.2)\n",
            "Requirement already satisfied: ply in /usr/local/lib/python3.7/dist-packages (from pyomo) (3.11)\n",
            "\u001b[31mERROR: Operation cancelled by user\u001b[0m\n",
            "Traceback (most recent call last):\n",
            "  File \"/usr/local/lib/python3.7/dist-packages/pip/_vendor/pkg_resources/__init__.py\", line 3021, in _dep_map\n",
            "    return self.__dep_map\n",
            "  File \"/usr/local/lib/python3.7/dist-packages/pip/_vendor/pkg_resources/__init__.py\", line 2815, in __getattr__\n",
            "    raise AttributeError(attr)\n",
            "AttributeError: _DistInfoDistribution__dep_map\n",
            "\n",
            "During handling of the above exception, another exception occurred:\n",
            "\n",
            "Traceback (most recent call last):\n",
            "  File \"/usr/local/lib/python3.7/dist-packages/pip/_internal/cli/base_command.py\", line 180, in _main\n",
            "    status = self.run(options, args)\n",
            "  File \"/usr/local/lib/python3.7/dist-packages/pip/_internal/cli/req_command.py\", line 199, in wrapper\n",
            "    return func(self, options, args)\n",
            "  File \"/usr/local/lib/python3.7/dist-packages/pip/_internal/commands/install.py\", line 385, in run\n",
            "    conflicts = self._determine_conflicts(to_install)\n",
            "  File \"/usr/local/lib/python3.7/dist-packages/pip/_internal/commands/install.py\", line 515, in _determine_conflicts\n",
            "    return check_install_conflicts(to_install)\n",
            "  File \"/usr/local/lib/python3.7/dist-packages/pip/_internal/operations/check.py\", line 103, in check_install_conflicts\n",
            "    package_set, _ = create_package_set_from_installed()\n",
            "  File \"/usr/local/lib/python3.7/dist-packages/pip/_internal/operations/check.py\", line 45, in create_package_set_from_installed\n",
            "    package_set[name] = PackageDetails(dist.version, dist.requires())\n",
            "  File \"/usr/local/lib/python3.7/dist-packages/pip/_vendor/pkg_resources/__init__.py\", line 2736, in requires\n",
            "    dm = self._dep_map\n",
            "  File \"/usr/local/lib/python3.7/dist-packages/pip/_vendor/pkg_resources/__init__.py\", line 3023, in _dep_map\n",
            "    self.__dep_map = self._compute_dependencies()\n",
            "  File \"/usr/local/lib/python3.7/dist-packages/pip/_vendor/pkg_resources/__init__.py\", line 3033, in _compute_dependencies\n",
            "    reqs.extend(parse_requirements(req))\n",
            "  File \"/usr/local/lib/python3.7/dist-packages/pip/_vendor/pkg_resources/__init__.py\", line 3094, in parse_requirements\n",
            "    yield Requirement(line)\n",
            "  File \"/usr/local/lib/python3.7/dist-packages/pip/_vendor/pkg_resources/__init__.py\", line 3115, in __init__\n",
            "    str(self.marker) if self.marker else None,\n",
            "  File \"/usr/local/lib/python3.7/dist-packages/pip/_vendor/packaging/markers.py\", line 316, in __str__\n",
            "    return _format_marker(self._markers)\n",
            "  File \"/usr/local/lib/python3.7/dist-packages/pip/_vendor/packaging/markers.py\", line 181, in _format_marker\n",
            "    return \" \".join(inner)\n",
            "  File \"/usr/local/lib/python3.7/dist-packages/pip/_vendor/packaging/markers.py\", line 179, in <genexpr>\n",
            "    inner = (_format_marker(m, first=False) for m in marker)\n",
            "  File \"/usr/local/lib/python3.7/dist-packages/pip/_vendor/packaging/markers.py\", line 183, in _format_marker\n",
            "    return \"(\" + \" \".join(inner) + \")\"\n",
            "  File \"/usr/local/lib/python3.7/dist-packages/pip/_vendor/packaging/markers.py\", line 179, in <genexpr>\n",
            "    inner = (_format_marker(m, first=False) for m in marker)\n",
            "  File \"/usr/local/lib/python3.7/dist-packages/pip/_vendor/packaging/markers.py\", line 185, in _format_marker\n",
            "    return \" \".join([m.serialize() for m in marker])\n",
            "  File \"/usr/local/lib/python3.7/dist-packages/pip/_vendor/packaging/markers.py\", line 185, in <listcomp>\n",
            "    return \" \".join([m.serialize() for m in marker])\n",
            "  File \"/usr/local/lib/python3.7/dist-packages/pip/_vendor/packaging/markers.py\", line 88, in serialize\n",
            "    return '\"{0}\"'.format(self)\n",
            "KeyboardInterrupt\n",
            "\n",
            "During handling of the above exception, another exception occurred:\n",
            "\n",
            "Traceback (most recent call last):\n",
            "  File \"/usr/local/bin/pip3\", line 8, in <module>\n",
            "    sys.exit(main())\n",
            "  File \"/usr/local/lib/python3.7/dist-packages/pip/_internal/cli/main.py\", line 71, in main\n",
            "    return command.main(cmd_args)\n",
            "  File \"/usr/local/lib/python3.7/dist-packages/pip/_internal/cli/base_command.py\", line 104, in main\n",
            "    return self._main(args)\n",
            "  File \"/usr/local/lib/python3.7/dist-packages/pip/_internal/cli/base_command.py\", line 212, in _main\n",
            "    logger.critical(\"Operation cancelled by user\")\n",
            "  File \"/usr/lib/python3.7/logging/__init__.py\", line 1425, in critical\n",
            "    self._log(CRITICAL, msg, args, **kwargs)\n",
            "  File \"/usr/lib/python3.7/logging/__init__.py\", line 1514, in _log\n",
            "    self.handle(record)\n",
            "  File \"/usr/lib/python3.7/logging/__init__.py\", line 1524, in handle\n",
            "    self.callHandlers(record)\n",
            "  File \"/usr/lib/python3.7/logging/__init__.py\", line 1586, in callHandlers\n",
            "    hdlr.handle(record)\n",
            "  File \"/usr/lib/python3.7/logging/__init__.py\", line 894, in handle\n",
            "    self.emit(record)\n",
            "  File \"/usr/lib/python3.7/logging/handlers.py\", line 71, in emit\n",
            "    logging.FileHandler.emit(self, record)\n",
            "  File \"/usr/lib/python3.7/logging/__init__.py\", line 1127, in emit\n",
            "    StreamHandler.emit(self, record)\n",
            "  File \"/usr/lib/python3.7/logging/__init__.py\", line 1025, in emit\n",
            "    msg = self.format(record)\n",
            "  File \"/usr/lib/python3.7/logging/__init__.py\", line 869, in format\n",
            "    return fmt.format(record)\n",
            "  File \"/usr/local/lib/python3.7/dist-packages/pip/_internal/utils/logging.py\", line 138, in format\n",
            "    formatted = \"\".join([prefix + line for line in formatted.splitlines(True)])\n",
            "KeyboardInterrupt\n"
          ]
        }
      ]
    },
    {
      "cell_type": "markdown",
      "metadata": {
        "id": "uDsRodub2IFw"
      },
      "source": [
        "Importing pyomo and cbc solver."
      ]
    },
    {
      "cell_type": "code",
      "metadata": {
        "id": "hFRChwsqdvDB"
      },
      "source": [
        "from pyomo.environ import *\n",
        "#Import solver\n",
        "opt=SolverFactory('cbc',executable='/usr/bin/cbc')"
      ],
      "execution_count": null,
      "outputs": []
    },
    {
      "cell_type": "markdown",
      "metadata": {
        "id": "_SwHFQAjPApD"
      },
      "source": [
        "## Model 1: Shortest Path"
      ]
    },
    {
      "cell_type": "markdown",
      "metadata": {
        "id": "6ctmzcIQRhVR"
      },
      "source": [
        "Recall the model you develop in class where you had to find the shortest path from **node 1** to **node 7**. The distances are represented in the graph below."
      ]
    },
    {
      "cell_type": "markdown",
      "metadata": {
        "id": "oVnJwUY9SJZo"
      },
      "source": [
        "![image.png](data:image/png;base64,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)"
      ]
    },
    {
      "cell_type": "markdown",
      "metadata": {
        "id": "4UwiEfq5SNM2"
      },
      "source": [
        "Problem formulation"
      ]
    },
    {
      "cell_type": "markdown",
      "metadata": {
        "id": "_g4pRIXCScp4"
      },
      "source": [
        "![image.png](data:image/png;base64,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)"
      ]
    },
    {
      "cell_type": "markdown",
      "metadata": {
        "id": "V9jKOxchSlBW"
      },
      "source": [
        "![image.png](data:image/png;base64,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)"
      ]
    },
    {
      "cell_type": "code",
      "metadata": {
        "id": "48OhB282dvDF"
      },
      "source": [
        "#Shortest Path - Approach 1\n",
        "model=ConcreteModel()\n",
        "\n",
        "model.Arcs=Set(initialize=['(1,2)','(1,3)','(2,4)','(2,5)',\n",
        "                           '(3,4)','(3,6)','(4,5)','(4,6)',\n",
        "                           '(4,7)','(5,7)','(6,7)'])\n",
        "\n",
        "#Add parameter\n",
        "model.distance=Param(model.Arcs,initialize={\n",
        "    '(1,2)':9,\n",
        "    '(1,3)':6,\n",
        "    '(2,4)':5,\n",
        "    '(2,5)':4,\n",
        "    '(3,4)':2,\n",
        "    '(3,6)':4,\n",
        "    '(4,5)':4,\n",
        "    '(4,6)':5,\n",
        "    '(4,7)':7,\n",
        "    '(5,7)':3,\n",
        "    '(6,7)':6})\n",
        "\n",
        "#Add dec variables\n",
        "model.X=Var(model.Arcs,domain=Boolean)\n",
        "\n",
        "#Adding objective function\n",
        "def min_path(model):\n",
        "    return sum(model.distance[a]*model.X[a] for a in model.Arcs)\n",
        "model.shortest=Objective(rule=min_path, sense=minimize)\n",
        "\n",
        "#Adding constraints\n",
        "model.orig=Constraint(expr = model.X['(1,2)']+model.X['(1,3)'] == 1)\n",
        "model.dest=Constraint(expr = model.X['(4,7)']+model.X['(5,7)']+model.X['(6,7)'] == 1)\n",
        "model.trans2=Constraint(expr = model.X['(1,2)']-model.X['(2,4)']-model.X['(2,5)'] == 0)\n",
        "model.trans3=Constraint(expr = model.X['(1,3)']-model.X['(3,4)']-model.X['(3,6)'] == 0)\n",
        "model.trans4=Constraint(expr = model.X['(2,4)']+model.X['(3,4)']-model.X['(4,5)']-model.X['(4,6)']-model.X['(4,7)'] == 0)\n",
        "model.trans5=Constraint(expr = model.X['(2,5)']+model.X['(4,5)']-model.X['(5,7)'] == 0)\n",
        "model.trans6=Constraint(expr = model.X['(3,6)']+model.X['(4,6)']-model.X['(6,7)'] == 0)\n"
      ],
      "execution_count": null,
      "outputs": []
    },
    {
      "cell_type": "code",
      "metadata": {
        "id": "npEP4jpndvDG",
        "colab": {
          "base_uri": "https://localhost:8080/"
        },
        "outputId": "b565004f-9c27-4f8b-84da-309518402c2c"
      },
      "source": [
        "#Solve model\n",
        "opt.solve(model)"
      ],
      "execution_count": null,
      "outputs": [
        {
          "output_type": "execute_result",
          "data": {
            "text/plain": [
              "{'Problem': [{'Name': 'unknown', 'Lower bound': 15.0, 'Upper bound': 15.0, 'Number of objectives': 1, 'Number of constraints': 3, 'Number of variables': 7, 'Number of binary variables': 11, 'Number of integer variables': 11, 'Number of nonzeros': 7, 'Sense': 'minimize'}], 'Solver': [{'Status': 'ok', 'User time': -1.0, 'System time': 0.0, 'Wallclock time': 0.0, 'Termination condition': 'optimal', 'Termination message': 'Model was solved to optimality (subject to tolerances), and an optimal solution is available.', 'Statistics': {'Branch and bound': {'Number of bounded subproblems': 0, 'Number of created subproblems': 0}, 'Black box': {'Number of iterations': 0}}, 'Error rc': 0, 'Time': 0.02019214630126953}], 'Solution': [OrderedDict([('number of solutions', 0), ('number of solutions displayed', 0)])]}"
            ]
          },
          "metadata": {},
          "execution_count": 88
        }
      ]
    },
    {
      "cell_type": "code",
      "metadata": {
        "colab": {
          "base_uri": "https://localhost:8080/"
        },
        "id": "Qm94NSPLPq5e",
        "outputId": "728577ba-b0c9-4fd9-d7df-08045646446e"
      },
      "source": [
        "#Print results\n",
        "print(\"Min Dist =\",model.shortest())\n",
        "print(\"Decision Variables\")\n",
        "for a in model.Arcs:\n",
        "    print(model.X[a],model.X[a].value)"
      ],
      "execution_count": null,
      "outputs": [
        {
          "output_type": "stream",
          "name": "stdout",
          "text": [
            "Min Dist = 15.0\n",
            "Decision Variables\n",
            "X['(1,2)'] 0.0\n",
            "X['(1,3)'] 1.0\n",
            "X['(2,4)'] 0.0\n",
            "X['(2,5)'] 0.0\n",
            "X['(3,4)'] 1.0\n",
            "X['(3,6)'] 0.0\n",
            "X['(4,5)'] 1.0\n",
            "X['(4,6)'] 0.0\n",
            "X['(4,7)'] 0.0\n",
            "X['(5,7)'] 1.0\n",
            "X['(6,7)'] 0.0\n"
          ]
        }
      ]
    },
    {
      "cell_type": "markdown",
      "metadata": {
        "id": "MAQkdQVuTQD8"
      },
      "source": [
        "### Exercise: Can you generalize this model for any network? "
      ]
    },
    {
      "cell_type": "markdown",
      "metadata": {
        "id": "2PTT3m9kTa9z"
      },
      "source": [
        "Start by trying to write the MILP model as a fucntion os nodes and arcs. How many sets and parameters you need to represent the network? How can you relate the arcs and nodes?"
      ]
    },
    {
      "cell_type": "markdown",
      "metadata": {
        "id": "QaJY6XF5uCeh"
      },
      "source": [
        "**Your answer**"
      ]
    },
    {
      "cell_type": "markdown",
      "metadata": {
        "id": "cPHsfvwoDPrP"
      },
      "source": [
        "## Model 2: Implementing shortest path in its general form"
      ]
    },
    {
      "cell_type": "markdown",
      "metadata": {
        "id": "fa11g2JeTKyW"
      },
      "source": [
        "The challenge here is that we use nodes to designates arcs. We haven't learned why to relate the arcs and nodes within the Pyomo environment.  \\\\\n",
        "\n",
        "Sets may be created by storing the result of set operations using other Pyomo sets. Pyomo supports set operations including cross-product. The cross-product operator is the asterisk (*). To define a new set M that is the cross product of sets B and C, one could use this notation: \\\\\n",
        "$model.M = model.B * model.C$ \\\\\n",
        "This creates a virtual set that holds references to the original sets. Let's apply this to our network model."
      ]
    },
    {
      "cell_type": "code",
      "metadata": {
        "colab": {
          "base_uri": "https://localhost:8080/"
        },
        "id": "DBs9lFMXbIcC",
        "outputId": "66eda341-ec8d-47a4-e705-4ff88c5270e3"
      },
      "source": [
        "from math import inf \n",
        "model2=ConcreteModel()\n",
        "\n",
        "model2.Nodes=Set(initialize=range(1,8))  #['1','2','3','4','5','6','7']\n",
        "model2.Arcs=Set(initialize=model2.Nodes*model2.Nodes)\n",
        "\n",
        "model2.Arcs.pprint()"
      ],
      "execution_count": null,
      "outputs": [
        {
          "output_type": "stream",
          "name": "stdout",
          "text": [
            "Arcs : Size=1, Index=None, Ordered=Insertion\n",
            "    Key  : Dimen : Domain : Size : Members\n",
            "    None :     2 :    Any :   49 : {(1, 1), (1, 2), (1, 3), (1, 4), (1, 5), (1, 6), (1, 7), (2, 1), (2, 2), (2, 3), (2, 4), (2, 5), (2, 6), (2, 7), (3, 1), (3, 2), (3, 3), (3, 4), (3, 5), (3, 6), (3, 7), (4, 1), (4, 2), (4, 3), (4, 4), (4, 5), (4, 6), (4, 7), (5, 1), (5, 2), (5, 3), (5, 4), (5, 5), (5, 6), (5, 7), (6, 1), (6, 2), (6, 3), (6, 4), (6, 5), (6, 6), (6, 7), (7, 1), (7, 2), (7, 3), (7, 4), (7, 5), (7, 6), (7, 7)}\n"
          ]
        }
      ]
    },
    {
      "cell_type": "markdown",
      "metadata": {
        "id": "CD9M3bkq2ITL"
      },
      "source": [
        "Note that we were able to define arcs as a function of the nodes. But we initialized all possible combinations of nodes, i.e., 49 arcs. Recall we only have 11 arcs. \\\\\n",
        "\n",
        "When we index parameters and variables by the set of arcs we will need to assign values for all possible 49 combinations. See below how we would define the parameter distance for all 49 arcs. \\\\\n",
        "\n",
        "For applications where all nodes are always connected to all other nodes this would be fine. However, issues can arise when the network is not fully dense. The shortest path problem is an example of an optimization model that has a **sparse set**. For example, the burden of avoiding flow on arcs that do not exist falls on providing high-enough costs for those arcs. Such a scheme is not very elegant or robust."
      ]
    },
    {
      "cell_type": "code",
      "metadata": {
        "colab": {
          "base_uri": "https://localhost:8080/"
        },
        "id": "-IWUKD4-n6oM",
        "outputId": "21df0617-0828-431f-e3b2-0173990d0a9d"
      },
      "source": [
        "#Add parameter\n",
        "model2.distance=Param(model2.Arcs,initialize={\n",
        "    (1,1):+inf,\n",
        "    (1,2):9,\n",
        "    (1,3):6,\n",
        "    (1,4):+inf,\n",
        "    (1,5):+inf,\n",
        "    (1,6):+inf,\n",
        "    (1,7):+inf,\n",
        "    (2,1):+inf,\n",
        "    (2,2):+inf,\n",
        "    (2,3):+inf,\n",
        "    (2,4):5,\n",
        "    (2,5):4,\n",
        "    (2,6):+inf,\n",
        "    (2,7):+inf,\n",
        "    (3,1):+inf,\n",
        "    (3,2):+inf,\n",
        "    (3,3):+inf,\n",
        "    (3,4):2,\n",
        "    (3,5):+inf,\n",
        "    (3,6):4,\n",
        "    (3,7):+inf,\n",
        "    (4,1):+inf,\n",
        "    (4,2):+inf,\n",
        "    (4,3):+inf,\n",
        "    (4,4):+inf,\n",
        "    (4,5):4,\n",
        "    (4,6):5,\n",
        "    (4,7):7,\n",
        "    (5,1):+inf,\n",
        "    (5,2):+inf,\n",
        "    (5,3):+inf,\n",
        "    (5,4):+inf,\n",
        "    (5,5):+inf,\n",
        "    (5,6):+inf,\n",
        "    (5,7):3,\n",
        "    (6,1):+inf,\n",
        "    (6,2):+inf,\n",
        "    (6,3):+inf,\n",
        "    (6,4):+inf,\n",
        "    (6,5):+inf,\n",
        "    (6,6):+inf,\n",
        "    (6,7):6,\n",
        "    (7,1):+inf,\n",
        "    (7,2):+inf,\n",
        "    (7,3):+inf,\n",
        "    (7,4):+inf,\n",
        "    (7,5):+inf,\n",
        "    (7,6):+inf,\n",
        "    (7,7):+inf })\n",
        "model2.distance.pprint()"
      ],
      "execution_count": null,
      "outputs": [
        {
          "output_type": "stream",
          "name": "stdout",
          "text": [
            "WARNING: Implicitly replacing the Component attribute distance (type=<class\n",
            "    'pyomo.core.base.param.IndexedParam'>) on block unknown with a new\n",
            "    Component (type=<class 'pyomo.core.base.param.IndexedParam'>). This is\n",
            "    usually indicative of a modelling error. To avoid this warning, use\n",
            "    block.del_component() and block.add_component().\n",
            "distance : Size=49, Index=Arcs, Domain=Any, Default=None, Mutable=False\n",
            "    Key    : Value\n",
            "    (1, 1) :   inf\n",
            "    (1, 2) :     9\n",
            "    (1, 3) :     6\n",
            "    (1, 4) :   inf\n",
            "    (1, 5) :   inf\n",
            "    (1, 6) :   inf\n",
            "    (1, 7) :   inf\n",
            "    (2, 1) :   inf\n",
            "    (2, 2) :   inf\n",
            "    (2, 3) :   inf\n",
            "    (2, 4) :     5\n",
            "    (2, 5) :     4\n",
            "    (2, 6) :   inf\n",
            "    (2, 7) :   inf\n",
            "    (3, 1) :   inf\n",
            "    (3, 2) :   inf\n",
            "    (3, 3) :   inf\n",
            "    (3, 4) :     2\n",
            "    (3, 5) :   inf\n",
            "    (3, 6) :     4\n",
            "    (3, 7) :   inf\n",
            "    (4, 1) :   inf\n",
            "    (4, 2) :   inf\n",
            "    (4, 3) :   inf\n",
            "    (4, 4) :   inf\n",
            "    (4, 5) :     4\n",
            "    (4, 6) :     5\n",
            "    (4, 7) :     7\n",
            "    (5, 1) :   inf\n",
            "    (5, 2) :   inf\n",
            "    (5, 3) :   inf\n",
            "    (5, 4) :   inf\n",
            "    (5, 5) :   inf\n",
            "    (5, 6) :   inf\n",
            "    (5, 7) :     3\n",
            "    (6, 1) :   inf\n",
            "    (6, 2) :   inf\n",
            "    (6, 3) :   inf\n",
            "    (6, 4) :   inf\n",
            "    (6, 5) :   inf\n",
            "    (6, 6) :   inf\n",
            "    (6, 7) :     6\n",
            "    (7, 1) :   inf\n",
            "    (7, 2) :   inf\n",
            "    (7, 3) :   inf\n",
            "    (7, 4) :   inf\n",
            "    (7, 5) :   inf\n",
            "    (7, 6) :   inf\n",
            "    (7, 7) :   inf\n"
          ]
        }
      ]
    },
    {
      "cell_type": "markdown",
      "metadata": {
        "id": "LGcdOUV7Exc5"
      },
      "source": [
        "The Set object in Pyomo has an argument we haven't used yet called **within**. If we replace *initialize* with *within* when defining the set of arcs we would overcome this issue of sparse sets."
      ]
    },
    {
      "cell_type": "code",
      "metadata": {
        "colab": {
          "base_uri": "https://localhost:8080/"
        },
        "id": "HMPF8zm-FHl9",
        "outputId": "b0cbf587-ecb6-44b2-a750-a6ed50ac86c2"
      },
      "source": [
        "model2=ConcreteModel()\n",
        "\n",
        "model2.Nodes=Set(initialize=range(1,8))  #['1','2','3','4','5','6','7']\n",
        "model2.Arcs=Set(within=model2.Nodes*model2.Nodes)\n",
        "\n",
        "model2.Arcs.pprint()"
      ],
      "execution_count": null,
      "outputs": [
        {
          "output_type": "stream",
          "name": "stdout",
          "text": [
            "Arcs : Size=1, Index=None, Ordered=Insertion\n",
            "    Key  : Dimen : Domain      : Size : Members\n",
            "    None :     2 : Arcs_domain :    0 :      {}\n"
          ]
        }
      ]
    },
    {
      "cell_type": "markdown",
      "metadata": {
        "id": "4D194k2qGOWm"
      },
      "source": [
        "We just created the set of arc but we did not specify any arcs. If we want to create the arcs we need to add argument initialize."
      ]
    },
    {
      "cell_type": "code",
      "metadata": {
        "colab": {
          "base_uri": "https://localhost:8080/"
        },
        "id": "K1ZHhyviF62r",
        "outputId": "f27b248c-802b-44e3-a400-356c05734302"
      },
      "source": [
        "model2=ConcreteModel()\n",
        "\n",
        "model2.Nodes=Set(initialize=range(1,8))  #['1','2','3','4','5','6','7']\n",
        "model2.Arcs=Set(within=model2.Nodes*model2.Nodes, initialize=[(1,2),(1,3),(2,4),(2,5),(3,4),(3,6),(4,5),(4,6),(4,7),(5,7),(6,7)])\n",
        "\n",
        "model2.Arcs.pprint()"
      ],
      "execution_count": null,
      "outputs": [
        {
          "output_type": "stream",
          "name": "stdout",
          "text": [
            "Arcs : Size=1, Index=None, Ordered=Insertion\n",
            "    Key  : Dimen : Domain      : Size : Members\n",
            "    None :     2 : Arcs_domain :   11 : {(1, 2), (1, 3), (2, 4), (2, 5), (3, 4), (3, 6), (4, 5), (4, 6), (4, 7), (5, 7), (6, 7)}\n"
          ]
        }
      ]
    },
    {
      "cell_type": "markdown",
      "metadata": {
        "id": "j89l62uOGZ02"
      },
      "source": [
        "Now when we define distance we can provide scalars just for the arcs we initialized."
      ]
    },
    {
      "cell_type": "code",
      "metadata": {
        "id": "iLRpeYDYFTcO"
      },
      "source": [
        "#Add parameter\n",
        "model2.distance=Param(model2.Arcs,initialize={\n",
        "    (1,2):9,\n",
        "    (1,3):6,\n",
        "    (2,4):5,\n",
        "    (2,5):4,\n",
        "    (3,4):2,\n",
        "    (3,6):4,\n",
        "    (4,5):4,\n",
        "    (4,6):5,\n",
        "    (4,7):7,\n",
        "    (5,7):3,\n",
        "    (6,7):6})"
      ],
      "execution_count": null,
      "outputs": []
    },
    {
      "cell_type": "markdown",
      "metadata": {
        "id": "9SCMyE-RGqdO"
      },
      "source": [
        "Now we proceed with decision variables, objective and contraints. "
      ]
    },
    {
      "cell_type": "markdown",
      "metadata": {
        "id": "BbWG_oJJUluR"
      },
      "source": [
        "### Exercise: Try to declare this components."
      ]
    },
    {
      "cell_type": "code",
      "metadata": {
        "colab": {
          "base_uri": "https://localhost:8080/"
        },
        "id": "fNYQmRcwoMj6",
        "outputId": "6e471ef5-f792-4a5d-aa65-38da5a7e63c2"
      },
      "source": [
        "#Add dec variables\n",
        "#arc being used or not - decision variable xij\n",
        "\n",
        "##YOUR CODE\n"
      ],
      "execution_count": null,
      "outputs": [
        {
          "output_type": "stream",
          "name": "stdout",
          "text": [
            "WARNING: Implicitly replacing the Component attribute x (type=<class\n",
            "    'pyomo.core.base.var.IndexedVar'>) on block unknown with a new Component\n",
            "    (type=<class 'pyomo.core.base.var.IndexedVar'>). This is usually\n",
            "    indicative of a modelling error. To avoid this warning, use\n",
            "    block.del_component() and block.add_component().\n"
          ]
        }
      ]
    },
    {
      "cell_type": "code",
      "metadata": {
        "colab": {
          "base_uri": "https://localhost:8080/"
        },
        "id": "XMqdzb-OHxH3",
        "outputId": "63f60c33-1800-4208-b17b-ab15c5b4d4fc"
      },
      "source": [
        "#Adding objective function\n",
        "def min_path(model2):\n",
        "    return ##YOUR CODE\n",
        "model2.shortest=Objective(rule=min_path, sense=minimize)\n",
        "\n",
        "print(model2.shortest.expr)\n"
      ],
      "execution_count": null,
      "outputs": [
        {
          "output_type": "stream",
          "name": "stdout",
          "text": [
            "WARNING: Implicitly replacing the Component attribute shortest (type=<class\n",
            "    'pyomo.core.base.objective.ScalarObjective'>) on block unknown with a new\n",
            "    Component (type=<class 'pyomo.core.base.objective.ScalarObjective'>). This\n",
            "    is usually indicative of a modelling error. To avoid this warning, use\n",
            "    block.del_component() and block.add_component().\n",
            "9*x[1,2] + 6*x[1,3] + 5*x[2,4] + 4*x[2,5] + 2*x[3,4] + 4*x[3,6] + 4*x[4,5] + 5*x[4,6] + 7*x[4,7] + 3*x[5,7] + 6*x[6,7]\n"
          ]
        }
      ]
    },
    {
      "cell_type": "code",
      "metadata": {
        "colab": {
          "base_uri": "https://localhost:8080/"
        },
        "id": "tmvU9cJPHzBA",
        "outputId": "8b116a90-48f5-42fb-8df5-d38369c7c65c"
      },
      "source": [
        "#Adding constraints\n",
        "def flow_rule(model2, n):\n",
        "   ##YOUR CODE\n",
        "model2.flow = Constraint(model2.Nodes, rule=flow_rule)\n",
        "\n",
        "for i in model2.Nodes:\n",
        "  print(model2.flow[i].expr)\n"
      ],
      "execution_count": null,
      "outputs": [
        {
          "output_type": "stream",
          "name": "stdout",
          "text": [
            "WARNING: Implicitly replacing the Component attribute flow (type=<class\n",
            "    'pyomo.core.base.constraint.IndexedConstraint'>) on block unknown with a\n",
            "    new Component (type=<class\n",
            "    'pyomo.core.base.constraint.IndexedConstraint'>). This is usually\n",
            "    indicative of a modelling error. To avoid this warning, use\n",
            "    block.del_component() and block.add_component().\n",
            "x[1,2] + x[1,3]  ==  1\n",
            "x[1,2]  ==  x[2,4] + x[2,5]\n",
            "x[1,3]  ==  x[3,4] + x[3,6]\n",
            "x[2,4] + x[3,4]  ==  x[4,5] + x[4,6] + x[4,7]\n",
            "x[2,5] + x[4,5]  ==  x[5,7]\n",
            "x[3,6] + x[4,6]  ==  x[6,7]\n",
            "x[4,7] + x[5,7] + x[6,7]  ==  1\n"
          ]
        }
      ]
    },
    {
      "cell_type": "code",
      "metadata": {
        "colab": {
          "base_uri": "https://localhost:8080/"
        },
        "id": "8mEiqB_dybba",
        "outputId": "5b7fb990-c6eb-46a2-bc35-c5e87bd4cbb5"
      },
      "source": [
        "opt.solve(model2)\n",
        "\n",
        "#Print results\n",
        "print(\"Min Dist =\",model2.shortest())\n",
        "print(\"Decision Variables\")\n",
        "for a in model2.Arcs:\n",
        "    print(model2.x[a],model2.x[a].value)"
      ],
      "execution_count": null,
      "outputs": [
        {
          "output_type": "stream",
          "name": "stdout",
          "text": [
            "Min Dist = 15.0\n",
            "Decision Variables\n",
            "x[1,2] 0.0\n",
            "x[1,3] 1.0\n",
            "x[2,4] 0.0\n",
            "x[2,5] 0.0\n",
            "x[3,4] 1.0\n",
            "x[3,6] 0.0\n",
            "x[4,5] 1.0\n",
            "x[4,6] 0.0\n",
            "x[4,7] 0.0\n",
            "x[5,7] 1.0\n",
            "x[6,7] 0.0\n"
          ]
        }
      ]
    },
    {
      "cell_type": "markdown",
      "metadata": {
        "id": "cw2hTgS2P1Uz"
      },
      "source": [
        "## Model 3: Shortest Path using Abstract Model"
      ]
    },
    {
      "cell_type": "markdown",
      "metadata": {
        "id": "cTHifL9QIOZg"
      },
      "source": [
        "Now that we are begining to create more general models we will learn how to work with abstract models. The excercise we did before where we tried to generalize the model was a preparation for understanding **abstract models**. \\\\\n",
        "Abstract models are just defined by symbols and rules. You can not use the argument expr when defining constraints and objetive for abstract models.\n",
        "\n",
        "The idea is to create a general model that would be used to solve multiple **instances** fo the same optimization problem. In other words we could solve the same problem for different parameters.\n",
        " "
      ]
    },
    {
      "cell_type": "code",
      "metadata": {
        "id": "YQQknumndvDH"
      },
      "source": [
        "#Shortest Path - Approach 2 - Abstract Model\n",
        "model2 = AbstractModel()\n",
        "\n",
        "model2.N = Set() #Nodes set\n",
        "model2.A = Set(within=model2.N*model2.N) #Arcs set #note we use Sparse Index Sets\n",
        "\n",
        "model2.distance = Param(model2.A, within=PositiveReals)    \n",
        "\n",
        "# arc being used or not - decision variable xij\n",
        "model2.x = Var(model2.A,within=Boolean)\n",
        "\n",
        "#Find shortest path\n",
        "def dist_rule(model2):\n",
        "    return sum(model2.distance[i,j]*model2.x[i,j] for (i,j) in model2.A)\n",
        "model2.shortest = Objective(rule=dist_rule, sense=minimize)\n",
        "\n",
        "# Flow constraint\n",
        "def flow_rule(model2, n):\n",
        "    if(n == model2.N.first()): #origin constraint\n",
        "        return sum(model2.x[i,j] for (i,j) in model2.A if i==n) == 1\n",
        "    elif(n == model2.N.last()):  #destination constraint\n",
        "        return sum(model2.x[i,j] for (i,j) in model2.A if j==n) == 1\n",
        "    else: #transhipment constraint\n",
        "        inFlow  = sum(model2.x[i,j] for (i,j) in model2.A if j == n)\n",
        "        outFlow = sum(model2.x[j,i] for (j,i) in model2.A if j == n)\n",
        "        return inFlow == outFlow\n",
        "model2.flow = Constraint(model2.N, rule=flow_rule)\n"
      ],
      "execution_count": null,
      "outputs": []
    },
    {
      "cell_type": "markdown",
      "metadata": {
        "id": "u_gPP_OOOlie"
      },
      "source": [
        "Now the model is defined. And we can feed parameters to the model. This process is called creating an instance. The model parameters can be manually input after the model definition or you can import parameters from a text file. That's the preferred method. Check the file \"short_path_ex.dat\" to check the structure of the file. When creating an instance you can use a .txt file, but to load the instance you need to change extension to .dat. "
      ]
    },
    {
      "cell_type": "code",
      "metadata": {
        "id": "aJZ3BbI6dvDH",
        "colab": {
          "base_uri": "https://localhost:8080/"
        },
        "outputId": "362cd9c2-cc1f-45cb-e066-d29770773987"
      },
      "source": [
        "#Load data and create instance\n",
        "instance=model2.create_instance('short_path_ex.dat')\n",
        "instance.pprint()\n"
      ],
      "execution_count": null,
      "outputs": [
        {
          "output_type": "stream",
          "name": "stdout",
          "text": [
            "3 Set Declarations\n",
            "    A : Size=1, Index=None, Ordered=Insertion\n",
            "        Key  : Dimen : Domain   : Size : Members\n",
            "        None :     2 : A_domain :   11 : {('N1', 'N2'), ('N1', 'N3'), ('N2', 'N4'), ('N2', 'N5'), ('N3', 'N4'), ('N3', 'N6'), ('N4', 'N5'), ('N4', 'N6'), ('N4', 'N7'), ('N5', 'N7'), ('N6', 'N7')}\n",
            "    A_domain : Size=1, Index=None, Ordered=True\n",
            "        Key  : Dimen : Domain : Size : Members\n",
            "        None :     2 :    N*N :   49 : {('N1', 'N1'), ('N1', 'N2'), ('N1', 'N3'), ('N1', 'N4'), ('N1', 'N5'), ('N1', 'N6'), ('N1', 'N7'), ('N2', 'N1'), ('N2', 'N2'), ('N2', 'N3'), ('N2', 'N4'), ('N2', 'N5'), ('N2', 'N6'), ('N2', 'N7'), ('N3', 'N1'), ('N3', 'N2'), ('N3', 'N3'), ('N3', 'N4'), ('N3', 'N5'), ('N3', 'N6'), ('N3', 'N7'), ('N4', 'N1'), ('N4', 'N2'), ('N4', 'N3'), ('N4', 'N4'), ('N4', 'N5'), ('N4', 'N6'), ('N4', 'N7'), ('N5', 'N1'), ('N5', 'N2'), ('N5', 'N3'), ('N5', 'N4'), ('N5', 'N5'), ('N5', 'N6'), ('N5', 'N7'), ('N6', 'N1'), ('N6', 'N2'), ('N6', 'N3'), ('N6', 'N4'), ('N6', 'N5'), ('N6', 'N6'), ('N6', 'N7'), ('N7', 'N1'), ('N7', 'N2'), ('N7', 'N3'), ('N7', 'N4'), ('N7', 'N5'), ('N7', 'N6'), ('N7', 'N7')}\n",
            "    N : Size=1, Index=None, Ordered=Insertion\n",
            "        Key  : Dimen : Domain : Size : Members\n",
            "        None :     1 :    Any :    7 : {'N1', 'N2', 'N3', 'N4', 'N5', 'N6', 'N7'}\n",
            "\n",
            "1 Param Declarations\n",
            "    distance : Size=11, Index=A, Domain=PositiveReals, Default=None, Mutable=False\n",
            "        Key          : Value\n",
            "        ('N1', 'N2') :     9\n",
            "        ('N1', 'N3') :     6\n",
            "        ('N2', 'N4') :     5\n",
            "        ('N2', 'N5') :     4\n",
            "        ('N3', 'N4') :     2\n",
            "        ('N3', 'N6') :     4\n",
            "        ('N4', 'N5') :     4\n",
            "        ('N4', 'N6') :     5\n",
            "        ('N4', 'N7') :     7\n",
            "        ('N5', 'N7') :     3\n",
            "        ('N6', 'N7') :     6\n",
            "\n",
            "1 Var Declarations\n",
            "    x : Size=11, Index=A\n",
            "        Key          : Lower : Value : Upper : Fixed : Stale : Domain\n",
            "        ('N1', 'N2') :     0 :  None :     1 : False :  True : Boolean\n",
            "        ('N1', 'N3') :     0 :  None :     1 : False :  True : Boolean\n",
            "        ('N2', 'N4') :     0 :  None :     1 : False :  True : Boolean\n",
            "        ('N2', 'N5') :     0 :  None :     1 : False :  True : Boolean\n",
            "        ('N3', 'N4') :     0 :  None :     1 : False :  True : Boolean\n",
            "        ('N3', 'N6') :     0 :  None :     1 : False :  True : Boolean\n",
            "        ('N4', 'N5') :     0 :  None :     1 : False :  True : Boolean\n",
            "        ('N4', 'N6') :     0 :  None :     1 : False :  True : Boolean\n",
            "        ('N4', 'N7') :     0 :  None :     1 : False :  True : Boolean\n",
            "        ('N5', 'N7') :     0 :  None :     1 : False :  True : Boolean\n",
            "        ('N6', 'N7') :     0 :  None :     1 : False :  True : Boolean\n",
            "\n",
            "1 Objective Declarations\n",
            "    shortest : Size=1, Index=None, Active=True\n",
            "        Key  : Active : Sense    : Expression\n",
            "        None :   True : minimize : 9*x[N1,N2] + 6*x[N1,N3] + 5*x[N2,N4] + 4*x[N2,N5] + 2*x[N3,N4] + 4*x[N3,N6] + 4*x[N4,N5] + 5*x[N4,N6] + 7*x[N4,N7] + 3*x[N5,N7] + 6*x[N6,N7]\n",
            "\n",
            "1 Constraint Declarations\n",
            "    flow : Size=7, Index=N, Active=True\n",
            "        Key : Lower : Body                                                   : Upper : Active\n",
            "         N1 :   1.0 :                                    x[N1,N2] + x[N1,N3] :   1.0 :   True\n",
            "         N2 :   0.0 :                       x[N1,N2] - (x[N2,N4] + x[N2,N5]) :   0.0 :   True\n",
            "         N3 :   0.0 :                       x[N1,N3] - (x[N3,N4] + x[N3,N6]) :   0.0 :   True\n",
            "         N4 :   0.0 : x[N2,N4] + x[N3,N4] - (x[N4,N5] + x[N4,N6] + x[N4,N7]) :   0.0 :   True\n",
            "         N5 :   0.0 :                         x[N2,N5] + x[N4,N5] - x[N5,N7] :   0.0 :   True\n",
            "         N6 :   0.0 :                         x[N3,N6] + x[N4,N6] - x[N6,N7] :   0.0 :   True\n",
            "         N7 :   1.0 :                         x[N4,N7] + x[N5,N7] + x[N6,N7] :   1.0 :   True\n",
            "\n",
            "7 Declarations: N A_domain A distance x shortest flow\n"
          ]
        }
      ]
    },
    {
      "cell_type": "markdown",
      "metadata": {
        "id": "9yYFI9SqPODh"
      },
      "source": [
        "Now our instance has been created. Note that when printing the model we refer to instance and not model. Same is true when solving it."
      ]
    },
    {
      "cell_type": "code",
      "metadata": {
        "id": "dcuxZbbCdvDI",
        "colab": {
          "base_uri": "https://localhost:8080/"
        },
        "outputId": "af8fab5c-9a23-4e46-f3ed-f71ba0eaafc3"
      },
      "source": [
        "opt.solve(instance)\n",
        "\n",
        "#Print results\n",
        "print(\"Min Dist =\",instance.shortest())\n",
        "print(\"Decision Variables\")\n",
        "for (i,j) in instance.A:\n",
        "    print(instance.x[i,j],instance.x[i,j].value)"
      ],
      "execution_count": null,
      "outputs": [
        {
          "output_type": "stream",
          "name": "stdout",
          "text": [
            "Min Dist = 15.0\n",
            "Decision Variables\n",
            "x[N1,N2] 0.0\n",
            "x[N1,N3] 1.0\n",
            "x[N2,N4] 0.0\n",
            "x[N2,N5] 0.0\n",
            "x[N3,N4] 1.0\n",
            "x[N3,N6] 0.0\n",
            "x[N4,N5] 1.0\n",
            "x[N4,N6] 0.0\n",
            "x[N4,N7] 0.0\n",
            "x[N5,N7] 1.0\n",
            "x[N6,N7] 0.0\n"
          ]
        }
      ]
    },
    {
      "cell_type": "markdown",
      "metadata": {
        "id": "KL3RpnhkPaj0"
      },
      "source": [
        "If you need to make changes to the nodes distance or even to the network you can create a new dat file, change information there, and create a another instance. "
      ]
    },
    {
      "cell_type": "markdown",
      "metadata": {
        "id": "_A4FfbM-SNBr"
      },
      "source": [
        "### Exercise: Create another instance\n",
        "\n",
        "As an example note the file \"short_path_ex2.dat\" where we change the distance from node 1 to 3 to 60. Create a new instance to represent that new network, solve it and compare with the solution we had before."
      ]
    },
    {
      "cell_type": "code",
      "metadata": {
        "colab": {
          "base_uri": "https://localhost:8080/"
        },
        "id": "LtjlcQT_RKvI",
        "outputId": "c1323ce2-ff37-4615-a8cf-6973f332f78a"
      },
      "source": [
        "#Load data from short_path_ex2.dat and create instance\n",
        "\n",
        "##YOUR CODE"
      ],
      "execution_count": null,
      "outputs": [
        {
          "output_type": "stream",
          "name": "stdout",
          "text": [
            "3 Set Declarations\n",
            "    A : Size=1, Index=None, Ordered=Insertion\n",
            "        Key  : Dimen : Domain   : Size : Members\n",
            "        None :     2 : A_domain :   11 : {('N1', 'N2'), ('N1', 'N3'), ('N2', 'N4'), ('N2', 'N5'), ('N3', 'N4'), ('N3', 'N6'), ('N4', 'N5'), ('N4', 'N6'), ('N4', 'N7'), ('N5', 'N7'), ('N6', 'N7')}\n",
            "    A_domain : Size=1, Index=None, Ordered=True\n",
            "        Key  : Dimen : Domain : Size : Members\n",
            "        None :     2 :    N*N :   49 : {('N1', 'N1'), ('N1', 'N2'), ('N1', 'N3'), ('N1', 'N4'), ('N1', 'N5'), ('N1', 'N6'), ('N1', 'N7'), ('N2', 'N1'), ('N2', 'N2'), ('N2', 'N3'), ('N2', 'N4'), ('N2', 'N5'), ('N2', 'N6'), ('N2', 'N7'), ('N3', 'N1'), ('N3', 'N2'), ('N3', 'N3'), ('N3', 'N4'), ('N3', 'N5'), ('N3', 'N6'), ('N3', 'N7'), ('N4', 'N1'), ('N4', 'N2'), ('N4', 'N3'), ('N4', 'N4'), ('N4', 'N5'), ('N4', 'N6'), ('N4', 'N7'), ('N5', 'N1'), ('N5', 'N2'), ('N5', 'N3'), ('N5', 'N4'), ('N5', 'N5'), ('N5', 'N6'), ('N5', 'N7'), ('N6', 'N1'), ('N6', 'N2'), ('N6', 'N3'), ('N6', 'N4'), ('N6', 'N5'), ('N6', 'N6'), ('N6', 'N7'), ('N7', 'N1'), ('N7', 'N2'), ('N7', 'N3'), ('N7', 'N4'), ('N7', 'N5'), ('N7', 'N6'), ('N7', 'N7')}\n",
            "    N : Size=1, Index=None, Ordered=Insertion\n",
            "        Key  : Dimen : Domain : Size : Members\n",
            "        None :     1 :    Any :    7 : {'N1', 'N2', 'N3', 'N4', 'N5', 'N6', 'N7'}\n",
            "\n",
            "1 Param Declarations\n",
            "    distance : Size=11, Index=A, Domain=PositiveReals, Default=None, Mutable=False\n",
            "        Key          : Value\n",
            "        ('N1', 'N2') :     9\n",
            "        ('N1', 'N3') :    60\n",
            "        ('N2', 'N4') :     5\n",
            "        ('N2', 'N5') :     4\n",
            "        ('N3', 'N4') :     2\n",
            "        ('N3', 'N6') :     4\n",
            "        ('N4', 'N5') :     4\n",
            "        ('N4', 'N6') :     5\n",
            "        ('N4', 'N7') :     7\n",
            "        ('N5', 'N7') :     3\n",
            "        ('N6', 'N7') :     6\n",
            "\n",
            "1 Var Declarations\n",
            "    x : Size=11, Index=A\n",
            "        Key          : Lower : Value : Upper : Fixed : Stale : Domain\n",
            "        ('N1', 'N2') :     0 :  None :     1 : False :  True : Boolean\n",
            "        ('N1', 'N3') :     0 :  None :     1 : False :  True : Boolean\n",
            "        ('N2', 'N4') :     0 :  None :     1 : False :  True : Boolean\n",
            "        ('N2', 'N5') :     0 :  None :     1 : False :  True : Boolean\n",
            "        ('N3', 'N4') :     0 :  None :     1 : False :  True : Boolean\n",
            "        ('N3', 'N6') :     0 :  None :     1 : False :  True : Boolean\n",
            "        ('N4', 'N5') :     0 :  None :     1 : False :  True : Boolean\n",
            "        ('N4', 'N6') :     0 :  None :     1 : False :  True : Boolean\n",
            "        ('N4', 'N7') :     0 :  None :     1 : False :  True : Boolean\n",
            "        ('N5', 'N7') :     0 :  None :     1 : False :  True : Boolean\n",
            "        ('N6', 'N7') :     0 :  None :     1 : False :  True : Boolean\n",
            "\n",
            "1 Objective Declarations\n",
            "    shortest : Size=1, Index=None, Active=True\n",
            "        Key  : Active : Sense    : Expression\n",
            "        None :   True : minimize : 9*x[N1,N2] + 60*x[N1,N3] + 5*x[N2,N4] + 4*x[N2,N5] + 2*x[N3,N4] + 4*x[N3,N6] + 4*x[N4,N5] + 5*x[N4,N6] + 7*x[N4,N7] + 3*x[N5,N7] + 6*x[N6,N7]\n",
            "\n",
            "1 Constraint Declarations\n",
            "    flow : Size=7, Index=N, Active=True\n",
            "        Key : Lower : Body                                                   : Upper : Active\n",
            "         N1 :   1.0 :                                    x[N1,N2] + x[N1,N3] :   1.0 :   True\n",
            "         N2 :   0.0 :                       x[N1,N2] - (x[N2,N4] + x[N2,N5]) :   0.0 :   True\n",
            "         N3 :   0.0 :                       x[N1,N3] - (x[N3,N4] + x[N3,N6]) :   0.0 :   True\n",
            "         N4 :   0.0 : x[N2,N4] + x[N3,N4] - (x[N4,N5] + x[N4,N6] + x[N4,N7]) :   0.0 :   True\n",
            "         N5 :   0.0 :                         x[N2,N5] + x[N4,N5] - x[N5,N7] :   0.0 :   True\n",
            "         N6 :   0.0 :                         x[N3,N6] + x[N4,N6] - x[N6,N7] :   0.0 :   True\n",
            "         N7 :   1.0 :                         x[N4,N7] + x[N5,N7] + x[N6,N7] :   1.0 :   True\n",
            "\n",
            "7 Declarations: N A_domain A distance x shortest flow\n"
          ]
        }
      ]
    },
    {
      "cell_type": "code",
      "metadata": {
        "colab": {
          "base_uri": "https://localhost:8080/"
        },
        "id": "4Ig2AdZjReEy",
        "outputId": "bf2f83fb-43c5-4f18-fcd2-290b2d39cd97"
      },
      "source": [
        "opt.solve(##YOUR CODE)\n",
        "\n",
        "#Print results\n",
        "\n",
        "##YOUR CODE"
      ],
      "execution_count": null,
      "outputs": [
        {
          "output_type": "stream",
          "name": "stdout",
          "text": [
            "Min Dist = 16.0\n",
            "Decision Variables\n",
            "x[N1,N2] 1.0\n",
            "x[N1,N3] 0.0\n",
            "x[N2,N4] 0.0\n",
            "x[N2,N5] 1.0\n",
            "x[N3,N4] 0.0\n",
            "x[N3,N6] 0.0\n",
            "x[N4,N5] 0.0\n",
            "x[N4,N6] 0.0\n",
            "x[N4,N7] 0.0\n",
            "x[N5,N7] 1.0\n",
            "x[N6,N7] 0.0\n"
          ]
        }
      ]
    }
  ]
}